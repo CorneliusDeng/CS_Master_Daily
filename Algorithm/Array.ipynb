{
 "cells": [
  {
   "attachments": {},
   "cell_type": "markdown",
   "metadata": {},
   "source": [
    "# 二分查找"
   ]
  },
  {
   "attachments": {},
   "cell_type": "markdown",
   "metadata": {},
   "source": [
    "## 704 二分查找\n",
    "\n",
    "给定一个 n 个元素有序的（升序）整型数组 nums 和一个目标值 target  ，写一个函数搜索 nums 中的 target，如果目标值存在返回下标，否则返回 -1\n",
    "\n",
    "链接：https://leetcode.cn/problems/binary-search"
   ]
  },
  {
   "cell_type": "code",
   "execution_count": null,
   "metadata": {},
   "outputs": [],
   "source": [
    "from typing import List\n",
    "\n",
    "class Solution:\n",
    "    def search(self, nums: List[int], target: int) -> int:\n",
    "        left, right = 0, len(nums) - 1  # 定义target在左闭右闭的区间里，[left, right]\n",
    "\n",
    "        while left <= right:\n",
    "            middle = (left + right) // 2 # 向下取整\n",
    "            if nums[middle] > target:\n",
    "                right = middle - 1  # target在左区间，所以[left, middle - 1]\n",
    "            elif nums[middle] < target:\n",
    "                left = middle + 1  # target在右区间，所以[middle + 1, right]\n",
    "            else:\n",
    "                return middle  # 数组中找到目标值，直接返回下标\n",
    "        return -1  # 未找到目标值\n",
    "\n",
    "if __name__ == \"__main__\":\n",
    "    nums = [-1,0,3,5,9,12]\n",
    "    target = 9\n",
    "    print(Solution().search(nums, target))"
   ]
  },
  {
   "attachments": {},
   "cell_type": "markdown",
   "metadata": {},
   "source": [
    "## 35 搜索插入位置\n",
    "\n",
    "给定一个排序数组和一个目标值，在数组中找到目标值，并返回其索引。如果目标值不存在于数组中，返回它将会被按顺序插入的位置。\n",
    "\n",
    "请必须使用时间复杂度为 O(log n) 的算法。\n",
    "\n",
    "链接：https://leetcode.cn/problems/search-insert-position"
   ]
  },
  {
   "cell_type": "code",
   "execution_count": null,
   "metadata": {},
   "outputs": [],
   "source": [
    "from typing import List\n",
    "\n",
    "class Solution:\n",
    "    def searchInsert(self, nums: List[int], target: int) -> int:\n",
    "        left, right = 0, len(nums) - 1\n",
    "\n",
    "        while left <= right:\n",
    "            middle = (left + right) // 2\n",
    "            if nums[middle] < target:\n",
    "                left = middle + 1\n",
    "            elif nums[middle] > target:\n",
    "                right = middle - 1\n",
    "            else:\n",
    "                return middle\n",
    "        return right + 1\n",
    "\n",
    "if __name__ == \"__main__\":\n",
    "    nums = [1,3,5,6]\n",
    "    target = 5\n",
    "    print(Solution().searchInsert(nums, target))"
   ]
  },
  {
   "attachments": {},
   "cell_type": "markdown",
   "metadata": {},
   "source": [
    "## 34 在排序数组中查找元素的第一个和最后一个位置\n",
    "\n",
    "给你一个按照非递减顺序排列的整数数组 nums，和一个目标值 target。请你找出给定目标值在数组中的开始位置和结束位置。\n",
    "\n",
    "如果数组中不存在目标值 target，返回 [-1, -1]。\n",
    "\n",
    "你必须设计并实现时间复杂度为 O(log n) 的算法解决此问题。\n",
    "\n",
    "链接：https://leetcode.cn/problems/find-first-and-last-position-of-element-in-sorted-array"
   ]
  },
  {
   "cell_type": "code",
   "execution_count": null,
   "metadata": {},
   "outputs": [],
   "source": [
    "from typing import List\n",
    "\n",
    "# 1、首先，在 nums 数组中二分查找 target；\n",
    "# 2、如果二分查找失败，则 binarySearch 返回 -1，表明 nums 中没有 target。此时，searchRange 直接返回 {-1, -1}；\n",
    "# 3、如果二分查找成功，则 binarySearch 返回 nums 中值为 target 的一个下标。然后，通过左右滑动指针，来找到符合题意的区间\n",
    "\n",
    "class Solution:\n",
    "    def searchRange(self, nums: List[int], target: int) -> List[int]:\n",
    "\n",
    "        def binarySearch(nums:List[int], target:int) -> int:\n",
    "            left, right = 0, len(nums)-1\n",
    "            while left <= right: \n",
    "                middle = (left + right) // 2\n",
    "                if nums[middle] > target:\n",
    "                    right = middle - 1\n",
    "                elif nums[middle] < target: \n",
    "                    left = middle + 1\n",
    "                else:\n",
    "                    return middle\n",
    "            return -1\n",
    "        \n",
    "        index = binarySearch(nums, target)\n",
    "        if index == -1:\n",
    "            return [-1, -1] # nums 中不存在 target，直接返回 [-1, -1]\n",
    "        # nums 中存在 targe，则左右滑动指针，来找到符合题意的区间\n",
    "        left, right = index, index\n",
    "        # 向左滑动，找左边界\n",
    "        while left - 1 >= 0 and nums[left - 1] == target: \n",
    "            left -= 1\n",
    "        # 向右滑动，找右边界\n",
    "        while right + 1 < len(nums) and nums[right + 1] == target: \n",
    "            right += 1\n",
    "        return [left, right]\n",
    "\n",
    "if __name__ == \"__main__\":\n",
    "    nums = [5,7,7,8,8,10]\n",
    "    target = 8\n",
    "    print(Solution().searchRange(nums, target))\n"
   ]
  },
  {
   "attachments": {},
   "cell_type": "markdown",
   "metadata": {},
   "source": [
    "## 69 x 的平方根 \n",
    "\n",
    "给你一个非负整数 x ，计算并返回 x 的 算术平方根 。\n",
    "\n",
    "由于返回类型是整数，结果只保留 整数部分 ，小数部分将被 舍去 。\n",
    "\n",
    "注意：不允许使用任何内置指数函数和算符，例如 pow(x, 0.5) 或者 x ** 0.5 。\n",
    "\n",
    "链接：https://leetcode.cn/problems/sqrtx"
   ]
  },
  {
   "cell_type": "code",
   "execution_count": null,
   "metadata": {},
   "outputs": [],
   "source": [
    "class Solution:\n",
    "    def mySqrt(self, x: int) -> int:\n",
    "        if x <= 1:\n",
    "            return x\n",
    "        left, right = 1, x\n",
    "        while left <= right:\n",
    "            middle = (left + right) // 2\n",
    "            if middle ** 2 == x:\n",
    "                return middle\n",
    "            elif middle ** 2 > x:\n",
    "                right = middle - 1\n",
    "            else:\n",
    "                left = middle + 1\n",
    "        return right\n",
    "\n",
    "if __name__ == \"__main__\":\n",
    "    x = 8\n",
    "    print(Solution().mySqrt(x))"
   ]
  },
  {
   "attachments": {},
   "cell_type": "markdown",
   "metadata": {},
   "source": [
    "## 367 有效的完全平方数\n",
    "\n",
    "给你一个正整数 num 。如果 num 是一个完全平方数，则返回 true ，否则返回 false 。\n",
    "\n",
    "完全平方数 是一个可以写成某个整数的平方的整数。换句话说，它可以写成某个整数和自身的乘积。\n",
    "\n",
    "不能使用任何内置的库函数，如  sqrt 。\n",
    "\n",
    "链接：https://leetcode.cn/problems/valid-perfect-square"
   ]
  },
  {
   "cell_type": "code",
   "execution_count": null,
   "metadata": {},
   "outputs": [],
   "source": [
    "# 二分法\n",
    "class Solution:\n",
    "    def isPerfectSquare(self, num: int) -> bool:\n",
    "        if num <= 1:\n",
    "            return True\n",
    "        left, right = 1, num\n",
    "        while left <= right:\n",
    "            middle = (left + right) // 2\n",
    "            if middle ** 2 == num:\n",
    "                return True\n",
    "            elif middle ** 2 > num:\n",
    "                right = middle - 1\n",
    "            else:\n",
    "                left = middle + 1\n",
    "        return False\n",
    "    \n",
    "# 4=1+3 9=1+3+5 16=1+3+5+7 以此类推，模仿它可以使用一个while循环，不断减去一个从1开始不断增大的奇数，若最终减成了0，说明是完全平方数，否则，不是。\n",
    "def method(num: int) -> bool:\n",
    "    num_1 = 1\n",
    "    while num > 0:\n",
    "        num -= num_1\n",
    "        num_1 += 2\n",
    "    return num == 0\n",
    "\n",
    "if __name__ == \"__main__\":\n",
    "    num = 4\n",
    "    print(Solution().isPerfectSquare(num))\n",
    "    print(method(num))"
   ]
  },
  {
   "attachments": {},
   "cell_type": "markdown",
   "metadata": {},
   "source": [
    "# 移除元素"
   ]
  },
  {
   "attachments": {},
   "cell_type": "markdown",
   "metadata": {},
   "source": [
    "## 27 移除元素\n",
    "\n",
    "给你一个数组 nums 和一个值 val，你需要 原地 移除所有数值等于 val 的元素，并返回移除后数组的新长度。\n",
    "\n",
    "不要使用额外的数组空间，你必须仅使用 O(1) 额外空间并 原地 修改输入数组。\n",
    "\n",
    "元素的顺序可以改变。你不需要考虑数组中超出新长度后面的元素。\n",
    "\n",
    "链接：https://leetcode.cn/problems/remove-element"
   ]
  },
  {
   "cell_type": "code",
   "execution_count": null,
   "metadata": {},
   "outputs": [],
   "source": [
    "from typing import List\n",
    "\n",
    "# 双指针法。因为只需要返回数组长度，所以可以省略覆盖数组的步骤，时间复杂度 O(n)\n",
    "class Solution:\n",
    "    def removeElement(self, nums: List[int], val: int) -> int:\n",
    "        # 快慢指针\n",
    "        fast = 0  # 快指针\n",
    "        slow = 0  # 慢指针\n",
    "        size = len(nums)\n",
    "        while fast < size:  \n",
    "            # slow 用来收集不等于 val 的值，如果 fast 对应值不等于 val，则把它与 slow 替换\n",
    "            if nums[fast] != val:\n",
    "                nums[slow] = nums[fast]\n",
    "                slow += 1\n",
    "            fast += 1\n",
    "        return slow\n",
    "\n",
    "# 暴力破解，时间复杂度 O(n^2)\n",
    "def Violence_method(nums: List[int], val: int) -> int:\n",
    "    i, size = 0, len(nums)\n",
    "    while i < size:\n",
    "        if nums[i] == val: # 找到了目标值\n",
    "            for j in range(i+1, size): # 覆盖\n",
    "                nums[j - 1] = nums[j]\n",
    "            size -= 1\n",
    "            i  -= 1\n",
    "        i += 1\n",
    "    return size\n",
    "        \n",
    "if __name__ == \"__main__\":\n",
    "    nums = [3,2,2,3]\n",
    "    val = 3\n",
    "    print(Solution().removeElement(nums, val))\n",
    "    nums = [3,2,2,3]\n",
    "    val = 3\n",
    "    print(Violence_method(nums, val))\n"
   ]
  },
  {
   "attachments": {},
   "cell_type": "markdown",
   "metadata": {},
   "source": [
    "## 26 删除排序数组中的重复项"
   ]
  },
  {
   "attachments": {},
   "cell_type": "markdown",
   "metadata": {},
   "source": [
    "## 283 移动零"
   ]
  },
  {
   "attachments": {},
   "cell_type": "markdown",
   "metadata": {},
   "source": [
    "## 844 比较含退格的字符串"
   ]
  },
  {
   "attachments": {},
   "cell_type": "markdown",
   "metadata": {},
   "source": [
    "# 有序数组的平方"
   ]
  },
  {
   "attachments": {},
   "cell_type": "markdown",
   "metadata": {},
   "source": [
    "# 长度最小的子数组"
   ]
  }
 ],
 "metadata": {
  "kernelspec": {
   "display_name": "goodjob",
   "language": "python",
   "name": "python3"
  },
  "language_info": {
   "codemirror_mode": {
    "name": "ipython",
    "version": 3
   },
   "file_extension": ".py",
   "mimetype": "text/x-python",
   "name": "python",
   "nbconvert_exporter": "python",
   "pygments_lexer": "ipython3",
   "version": "3.9.16"
  },
  "orig_nbformat": 4
 },
 "nbformat": 4,
 "nbformat_minor": 2
}
