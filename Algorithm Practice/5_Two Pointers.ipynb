{
 "cells": [
  {
   "cell_type": "markdown",
   "metadata": {},
   "source": [
    "# Conclusion"
   ]
  },
  {
   "cell_type": "markdown",
   "metadata": {},
   "source": [
    "# 反转字符串\n",
    "\n",
    "编写一个函数，其作用是将输入的字符串反转过来。输入字符串以字符数组 s 的形式给出。\n",
    "\n",
    "不要给另外的数组分配额外的空间，你必须原地修改输入数组、使用 O(1) 的额外空间解决这一问题。\n",
    "\n",
    "链接：https://leetcode.cn/problems/reverse-string/"
   ]
  },
  {
   "cell_type": "code",
   "execution_count": 1,
   "metadata": {},
   "outputs": [
    {
     "name": "stdout",
     "output_type": "stream",
     "text": [
      "['o', 'l', 'l', 'e', 'h']\n",
      "['o', 'l', 'l', 'e', 'h']\n"
     ]
    }
   ],
   "source": [
    "from typing import List \n",
    "\n",
    "class Solution:\n",
    "    def reverseString(self, s: List[str]) -> None:\n",
    "        \"\"\"\n",
    "        Do not return anything, modify s in-place instead.\n",
    "        \"\"\"\n",
    "        left, right = 0, len(s) - 1\n",
    "        while left < right:\n",
    "            s[left], s[right] = s[right], s[left]\n",
    "            left += 1\n",
    "            right -= 1\n",
    "\n",
    "    def method_2(self, s: List[str]) -> None:\n",
    "        s[:] = reversed(s)\n",
    "\n",
    "if __name__ == '__main__':\n",
    "    s = [\"h\",\"e\",\"l\",\"l\",\"o\"]\n",
    "    Solution().reverseString(s)\n",
    "    print(s)\n",
    "    t = [\"h\",\"e\",\"l\",\"l\",\"o\"]\n",
    "    Solution().method_2(t)\n",
    "    print(t)\n"
   ]
  },
  {
   "cell_type": "markdown",
   "metadata": {},
   "source": [
    "# 反转字符串 II\n",
    "\n",
    "给定一个字符串 s 和一个整数 k，从字符串开头算起，每计数至 2k 个字符，就反转这 2k 字符中的前 k 个字符。\n",
    "- 如果剩余字符少于 k 个，则将剩余字符全部反转。\n",
    "- 如果剩余字符小于 2k 但大于或等于 k 个，则反转前 k 个字符，其余字符保持原样。\n",
    "\n",
    "示例：\n",
    "\n",
    "输入：s = \"abcdefg\", k = 2\n",
    "\n",
    "输出：\"bacdfeg\"\n",
    "\n",
    "链接：https://leetcode.cn/problems/reverse-string-ii/\n"
   ]
  },
  {
   "cell_type": "code",
   "execution_count": 2,
   "metadata": {},
   "outputs": [
    {
     "name": "stdout",
     "output_type": "stream",
     "text": [
      "bacdfeg\n"
     ]
    }
   ],
   "source": [
    "class Solution:\n",
    "    def reverseStr(self, s: str, k: int) -> str:\n",
    "        # Two pointers. Another is inside the loop.\n",
    "        p = 0\n",
    "        while p < len(s):\n",
    "            p2 = p + k\n",
    "            s = s[:p] + s[p:p2][::-1] + s[p2:] # 将p处的子字符串和其后的k个字符进行反转，然后将这两部分重新连接起来\n",
    "            # s[:p] 从字符串s的开头到索引p-1的子字符串\n",
    "            # s[p:p2] 从索引p到索引p2-1的子字符串, s[p:p2][::-1]将从后往前取长度为k个字符\n",
    "            # s[p2:] 从索引p2到字符串s的末尾的子字符串\n",
    "            p = p + 2 * k # 每次循环都会将p增加2*k，以跳过已经反转的部分，为下一次反转做准备\n",
    "        return s\n",
    "\n",
    "if __name__ == '__main__':\n",
    "    s = \"abcdefg\"\n",
    "    k = 2\n",
    "    print(Solution().reverseStr(s, k))\n"
   ]
  },
  {
   "cell_type": "markdown",
   "metadata": {},
   "source": [
    "# 反转字符串中的单词\n",
    "\n",
    "给你一个字符串 s ，请你反转字符串中 单词 的顺序。\n",
    "\n",
    "单词 是由非空格字符组成的字符串。s 中使用至少一个空格将字符串中的 单词 分隔开。\n",
    "\n",
    "返回 单词 顺序颠倒且 单词 之间用单个空格连接的结果字符串。\n",
    "\n",
    "注意：输入字符串 s中可能会存在前导空格、尾随空格或者单词间的多个空格。返回的结果字符串中，单词间应当仅用单个空格分隔，且不包含任何额外的空格。\n",
    "\n",
    "链接：https://leetcode.cn/problems/reverse-words-in-a-string/"
   ]
  },
  {
   "cell_type": "code",
   "execution_count": 3,
   "metadata": {},
   "outputs": [
    {
     "name": "stdout",
     "output_type": "stream",
     "text": [
      "blue is sky the\n"
     ]
    }
   ],
   "source": [
    "class Solution:\n",
    "    def reverseWords(self, s: str) -> str:\n",
    "        # 将字符串拆分为单词，即转换成列表类型\n",
    "        words = s.split()\n",
    "\n",
    "        # 反转单词\n",
    "        left, right = 0, len(words) - 1\n",
    "        while left < right:\n",
    "            words[left], words[right] = words[right], words[left]\n",
    "            left += 1\n",
    "            right -= 1\n",
    "\n",
    "        # 将列表转换成字符串\n",
    "        return \" \".join(words)\n",
    "\n",
    "if __name__ == '__main__':\n",
    "    s = \"the sky is blue\"\n",
    "    solution = Solution()\n",
    "    result = solution.reverseWords(s)\n",
    "    print(result)"
   ]
  },
  {
   "cell_type": "markdown",
   "metadata": {},
   "source": [
    "# 移除元素\n",
    "\n",
    "给你一个数组 nums 和一个值 val，你需要 原地 移除所有数值等于 val 的元素，并返回移除后数组的新长度。\n",
    "\n",
    "不要使用额外的数组空间，你必须仅使用 O(1) 额外空间并 原地 修改输入数组。\n",
    "\n",
    "元素的顺序可以改变。你不需要考虑数组中超出新长度后面的元素。\n",
    "\n",
    "链接：https://leetcode.cn/problems/remove-element"
   ]
  },
  {
   "cell_type": "code",
   "execution_count": 4,
   "metadata": {},
   "outputs": [
    {
     "name": "stdout",
     "output_type": "stream",
     "text": [
      "2\n",
      "2\n"
     ]
    }
   ],
   "source": [
    "from typing import List\n",
    "\n",
    "# 双指针法。因为只需要返回数组长度，所以可以省略覆盖数组的步骤，时间复杂度 O(n)\n",
    "class Solution:\n",
    "    def removeElement(self, nums: List[int], val: int) -> int:\n",
    "        # 快慢指针\n",
    "        fast = 0  # 快指针\n",
    "        slow = 0  # 慢指针\n",
    "        size = len(nums)\n",
    "        while fast < size:  \n",
    "            # slow 用来收集不等于 val 的值，如果 fast 对应值不等于 val，则把它与 slow 替换\n",
    "            if nums[fast] != val:\n",
    "                nums[slow] = nums[fast]\n",
    "                slow += 1\n",
    "            fast += 1\n",
    "        return slow\n",
    "\n",
    "# 暴力破解，时间复杂度 O(n^2)\n",
    "def Violence_method(nums: List[int], val: int) -> int:\n",
    "    i, size = 0, len(nums)\n",
    "    while i < size:\n",
    "        if nums[i] == val: # 找到了目标值\n",
    "            for j in range(i+1, size): # 覆盖\n",
    "                nums[j - 1] = nums[j]\n",
    "            size -= 1\n",
    "            i  -= 1\n",
    "        i += 1\n",
    "    return size\n",
    "        \n",
    "if __name__ == \"__main__\":\n",
    "    nums = [3,2,2,3]\n",
    "    val = 3\n",
    "    print(Solution().removeElement(nums, val))\n",
    "    nums = [3,2,2,3]\n",
    "    val = 3\n",
    "    print(Violence_method(nums, val))\n"
   ]
  },
  {
   "cell_type": "markdown",
   "metadata": {},
   "source": [
    "# 删除有序数组中的重复项\n",
    "\n",
    "给你一个 升序排列 的数组 nums ，请你 原地 删除重复出现的元素，使每个元素 只出现一次 ，返回删除后数组的新长度。元素的 相对顺序 应该保持 一致 。然后返回 nums 中唯一元素的个数。\n",
    "\n",
    "考虑 nums 的唯一元素的数量为 k ，你需要做以下事情确保你的题解可以被通过：\n",
    "\n",
    "更改数组 nums ，使 nums 的前 k 个元素包含唯一元素，并按照它们最初在 nums 中出现的顺序排列。nums 的其余元素与 nums 的大小不重要。\n",
    "返回 k 。\n",
    "判题标准:\n",
    "\n",
    "系统会用下面的代码来测试你的题解:\n",
    "- int[] nums = [...]; // 输入数组\n",
    "- int[] expectedNums = [...]; // 长度正确的期望答案\n",
    "- int k = removeDuplicates(nums); // 调用\n",
    "- assert k == expectedNums.length;\n",
    "- for (int i = 0; i < k; i++) {\n",
    "    - assert nums[i] == expectedNums[i];\n",
    "}\n",
    "\n",
    "如果所有断言都通过，那么您的题解将被 通过。\n",
    "\n",
    "链接：https://leetcode.cn/problems/remove-duplicates-from-sorted-array"
   ]
  },
  {
   "cell_type": "code",
   "execution_count": 5,
   "metadata": {},
   "outputs": [
    {
     "name": "stdout",
     "output_type": "stream",
     "text": [
      "7\n"
     ]
    }
   ],
   "source": [
    "from typing import List\n",
    "# 数组长度为0或者1都不要判断，直接返回即可\n",
    "class Solution:\n",
    "    def removeDuplicates(self, nums: List[int]) -> int:\n",
    "        if not nums:\n",
    "            return 0\n",
    "        \n",
    "        n = len(nums)\n",
    "        fast = slow = 1 # 初始时两个指针都指向下标 1\n",
    "        while fast < n:\n",
    "            if nums[fast] != nums[fast - 1]: # 说明此时 nums[fast] 是新出现的元素\n",
    "                nums[slow] = nums[fast]\n",
    "                slow += 1\n",
    "            fast += 1\n",
    "        \n",
    "        return slow\n",
    "\n",
    "if __name__ == \"__main__\":\n",
    "    nums = [1,1,2,2,3,4,5,6,6,7]\n",
    "    print(Solution().removeDuplicates(nums))\n"
   ]
  },
  {
   "cell_type": "markdown",
   "metadata": {},
   "source": [
    "# 移动零\n",
    "\n",
    "给定一个数组 nums，编写一个函数将所有 0 移动到数组的末尾，同时保持非零元素的相对顺序。\n",
    "\n",
    "请注意 ，必须在不复制数组的情况下原地对数组进行操作。\n",
    "\n",
    "链接：https://leetcode.cn/problems/move-zeroes"
   ]
  },
  {
   "cell_type": "code",
   "execution_count": 6,
   "metadata": {},
   "outputs": [
    {
     "name": "stdout",
     "output_type": "stream",
     "text": [
      "[1, 3, 12, 0, 0]\n"
     ]
    }
   ],
   "source": [
    "from typing import List\n",
    "\n",
    "class Solution:\n",
    "    def moveZeroes(self, nums: List[int]) -> None:\n",
    "        \"\"\"\n",
    "        Do not return anything, modify nums in-place instead.\n",
    "        \"\"\"\n",
    "        slow = 0\n",
    "        for fast in range(len(nums)):\n",
    "            if nums[fast] != 0:\n",
    "                nums[slow] = nums[fast]\n",
    "                slow += 1\n",
    "        for i in range (slow, len(nums)):\n",
    "            nums[i] = 0\n",
    "\n",
    "if __name__ == \"__main__\":\n",
    "    nums = [0,1,0,3,12]\n",
    "    Solution().moveZeroes(nums)\n",
    "    print(nums)\n",
    "        "
   ]
  },
  {
   "cell_type": "markdown",
   "metadata": {},
   "source": [
    "# 比较含退格的字符串\n",
    "\n",
    "给定 s 和 t 两个字符串，当它们分别被输入到空白的文本编辑器后，如果两者相等，返回 true 。# 代表退格字符。\n",
    "\n",
    "注意：如果对空文本输入退格字符，文本继续为空。\n",
    "\n",
    "示例 1：\n",
    "\n",
    "输入：s = \"ab#c\", t = \"ad#c\"\n",
    "输出：true\n",
    "解释：s 和 t 都会变成 \"ac\"。\n",
    "示例 2：\n",
    "\n",
    "输入：s = \"ab##\", t = \"c#d#\"\n",
    "输出：true\n",
    "解释：s 和 t 都会变成 \"\"。\n",
    "示例 3：\n",
    "\n",
    "输入：s = \"a#c\", t = \"b\"\n",
    "输出：false\n",
    "解释：s 会变成 \"c\"，但 t 仍然是 \"b\"。\n",
    "\n",
    "链接：https://leetcode.cn/problems/backspace-string-compare"
   ]
  },
  {
   "cell_type": "code",
   "execution_count": 7,
   "metadata": {},
   "outputs": [
    {
     "name": "stdout",
     "output_type": "stream",
     "text": [
      "True\n"
     ]
    }
   ],
   "source": [
    "class Solution:\n",
    "    def backspaceCompare(self, s: str, t: str) -> bool:\n",
    "        stack_1, stack_2 = [], []\n",
    "        for ch in s:\n",
    "            if ch == '#':\n",
    "                if len(stack_1):\n",
    "                    stack_1.pop()\n",
    "                continue\n",
    "            stack_1.append(ch)\n",
    "        for ch in t:\n",
    "            if ch == '#':\n",
    "                if len(stack_2):\n",
    "                    stack_2.pop()\n",
    "                continue\n",
    "            stack_2.append(ch)\n",
    "\n",
    "        return stack_1 == stack_2\n",
    "        \n",
    "if __name__ == \"__main__\":\n",
    "    s = \"ab##\"\n",
    "    t = \"cd##\"\n",
    "    print(Solution().backspaceCompare(s, t))"
   ]
  },
  {
   "cell_type": "markdown",
   "metadata": {},
   "source": [
    "# 有序数组的平方\n",
    "\n",
    "给你一个按 非递减顺序 排序的整数数组 nums，返回 每个数字的平方 组成的新数组，要求也按 非递减顺序 排序。\n",
    "\n",
    "链接：https://leetcode.cn/problems/squares-of-a-sorted-array"
   ]
  },
  {
   "cell_type": "code",
   "execution_count": 8,
   "metadata": {},
   "outputs": [
    {
     "name": "stdout",
     "output_type": "stream",
     "text": [
      "[0, 1, 9, 16, 100]\n"
     ]
    }
   ],
   "source": [
    "# 数组其实是有序的， 只不过负数平方之后可能成为最大数了。那么数组平方的最大值就在数组的两端，不是最左边就是最右边，不可能是中间。此时可以考虑双指针法，用另外一个数组存放排序后的结果\n",
    "\n",
    "from typing import List\n",
    "\n",
    "class Solution:\n",
    "    def sortedSquares(self, nums: List[int]) -> List[int]:\n",
    "        start, end, k = 0, len(nums) - 1, len(nums) - 1\n",
    "        result = [0] * len(nums)\n",
    "        while start <= end:\n",
    "            if nums[start] ** 2 > nums[end] ** 2:\n",
    "                result[k] = nums[start] ** 2\n",
    "                start += 1\n",
    "                k -= 1 \n",
    "            else:\n",
    "                result[k] = nums[end] ** 2\n",
    "                end -= 1\n",
    "                k -= 1\n",
    "        return result\n",
    "\n",
    "if __name__ == \"__main__\":\n",
    "    nums = [-4,-1,0,3,10]\n",
    "    print(Solution().sortedSquares(nums))"
   ]
  }
 ],
 "metadata": {
  "kernelspec": {
   "display_name": "goodjob",
   "language": "python",
   "name": "python3"
  },
  "language_info": {
   "codemirror_mode": {
    "name": "ipython",
    "version": 3
   },
   "file_extension": ".py",
   "mimetype": "text/x-python",
   "name": "python",
   "nbconvert_exporter": "python",
   "pygments_lexer": "ipython3",
   "version": "3.9.16"
  },
  "orig_nbformat": 4
 },
 "nbformat": 4,
 "nbformat_minor": 2
}
