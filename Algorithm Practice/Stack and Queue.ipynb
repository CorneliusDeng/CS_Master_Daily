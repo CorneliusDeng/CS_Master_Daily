{
 "cells": [
  {
   "cell_type": "markdown",
   "metadata": {},
   "source": [
    "# 232 用栈实现队列\n",
    "\n",
    "请你仅使用两个栈实现先入先出队列。队列应当支持一般队列支持的所有操作（push、pop、peek、empty）：\n",
    "\n",
    "实现 MyQueue 类：\n",
    "- void push(int x) 将元素 x 推到队列的末尾\n",
    "- int pop() 从队列的开头移除并返回元素\n",
    "- int peek() 返回队列开头的元素\n",
    "- boolean empty() 如果队列为空，返回 true ；否则，返回 false\n",
    "\n",
    "说明：\n",
    "- 你 只能 使用标准的栈操作 —— 也就是只有 push to top, peek/pop from top, size, 和 is empty 操作是合法的。\n",
    "- 你所使用的语言也许不支持栈。你可以使用 list 或者 deque（双端队列）来模拟一个栈，只要是标准的栈操作即可。\n",
    "\n",
    "链接：https://leetcode.cn/problems/implement-queue-using-stacks/"
   ]
  },
  {
   "cell_type": "code",
   "execution_count": 1,
   "metadata": {},
   "outputs": [
    {
     "name": "stdout",
     "output_type": "stream",
     "text": [
      "1\n",
      "1\n",
      "False\n",
      "2\n",
      "True\n",
      "None\n",
      "True\n"
     ]
    }
   ],
   "source": [
    "class MyQueue:\n",
    "    def __init__(self):\n",
    "        self.stack_in = []\n",
    "        self.stack_out = []\n",
    "\n",
    "    def push(self, x: int) -> None:\n",
    "        # Push element x to the back of queue\n",
    "        self.stack_in.append(x)\n",
    "\n",
    "    def pop(self) -> int:\n",
    "        # Removes the element from in front of queue and returns that element\n",
    "        if self.empty():\n",
    "            return None\n",
    "        if self.stack_out:\n",
    "            return self.stack_out.pop()\n",
    "        else:\n",
    "            for i in range(len(self.stack_in)):\n",
    "                self.stack_out.append(self.stack_in.pop())\n",
    "            return self.stack_out.pop()\n",
    "\n",
    "    def peek(self) -> int:\n",
    "        # Get the front element\n",
    "        ans = self.pop()\n",
    "        self.stack_out.append(ans)\n",
    "        return ans\n",
    "\n",
    "    def empty(self) -> bool:\n",
    "        return not (self.stack_in or self.stack_out)\n",
    "\n",
    "if __name__ == '__main__':\n",
    "    obj = MyQueue()\n",
    "    obj.push(1)\n",
    "    obj.push(2)\n",
    "    print(obj.peek())\n",
    "    print(obj.pop())\n",
    "    print(obj.empty())\n",
    "    print(obj.pop())\n",
    "    print(obj.empty())\n",
    "    print(obj.pop())\n",
    "    print(obj.empty())"
   ]
  }
 ],
 "metadata": {
  "kernelspec": {
   "display_name": "goodjob",
   "language": "python",
   "name": "python3"
  },
  "language_info": {
   "codemirror_mode": {
    "name": "ipython",
    "version": 3
   },
   "file_extension": ".py",
   "mimetype": "text/x-python",
   "name": "python",
   "nbconvert_exporter": "python",
   "pygments_lexer": "ipython3",
   "version": "3.9.16"
  },
  "orig_nbformat": 4
 },
 "nbformat": 4,
 "nbformat_minor": 2
}
