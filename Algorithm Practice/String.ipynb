{
 "cells": [
  {
   "cell_type": "markdown",
   "metadata": {},
   "source": [
    "# 替换空格\n",
    "\n",
    "请实现一个函数，把字符串 s 中的每个空格替换成\"%20\"\n",
    "\n",
    "链接：https://leetcode.cn/problems/ti-huan-kong-ge-lcof/"
   ]
  },
  {
   "cell_type": "code",
   "execution_count": 1,
   "metadata": {},
   "outputs": [
    {
     "name": "stdout",
     "output_type": "stream",
     "text": [
      "We%20are%20happy.\n",
      "We%20are%20happy.\n",
      "We%20are%20happy.\n"
     ]
    }
   ],
   "source": [
    "class Solution:\n",
    "    def replaceSpace(self, s: str) -> str:\n",
    "        return s.replace(' ', '%20')\n",
    "    \n",
    "    def method_2(self, s: str) -> str: # 使用join + split\n",
    "        return \"%20\".join(s.split(\" \"))\n",
    "    \n",
    "    def method_3(self, s: str) -> str: # 添加空列表，添加匹配的结果\n",
    "        res = []\n",
    "        for i in range(len(s)):\n",
    "            if s[i] == ' ':\n",
    "                res.append('%20')\n",
    "            else:\n",
    "                res.append(s[i])\n",
    "        return ''.join(res)\n",
    "    \n",
    "if __name__ == '__main__':\n",
    "    s = Solution()\n",
    "    print(s.replaceSpace('We are happy.'))\n",
    "    print(s.method_2('We are happy.'))\n",
    "    print(s.method_3('We are happy.'))"
   ]
  },
  {
   "cell_type": "markdown",
   "metadata": {},
   "source": [
    "# 左旋转字符串\n",
    "\n",
    "字符串的左旋转操作是把字符串前面的若干个字符转移到字符串的尾部。请定义一个函数实现字符串左旋转操作的功能。\n",
    "\n",
    "链接：https://leetcode.cn/problems/zuo-xuan-zhuan-zi-fu-chuan-lcof/"
   ]
  },
  {
   "cell_type": "code",
   "execution_count": 3,
   "metadata": {},
   "outputs": [
    {
     "name": "stdout",
     "output_type": "stream",
     "text": [
      "cdefgab\n",
      "umghlrlose\n"
     ]
    }
   ],
   "source": [
    "class Solution:\n",
    "    def reverseLeftWords(self, s: str, n: int) -> str:\n",
    "        s = list(s)\n",
    "        s[0:n] = list(reversed(s[0:n]))\n",
    "        s[n:] = list(reversed(s[n:]))\n",
    "        s.reverse()\n",
    "        \n",
    "        return \"\".join(s)\n",
    "\n",
    "if __name__ == '__main__':\n",
    "    s = Solution()\n",
    "    print(s.reverseLeftWords(\"abcdefg\", 2))\n",
    "    print(s.reverseLeftWords(\"lrloseumgh\", 6))"
   ]
  },
  {
   "cell_type": "markdown",
   "metadata": {},
   "source": [
    "# KMP算法\n",
    "- 参考链接\n",
    "    - https://www.bilibili.com/video/BV1PD4y1o7nd/\n",
    "    - https://www.bilibili.com/video/BV1M5411j7Xx/\n"
   ]
  },
  {
   "cell_type": "markdown",
   "metadata": {},
   "source": [
    "# 找出字符串中第一个匹配项的下标\n",
    "\n",
    "给你两个字符串 haystack 和 needle ，请你在 haystack 字符串中找出 needle 字符串的第一个匹配项的下标（下标从 0 开始）。如果 needle 不是 haystack 的一部分，则返回  -1\n",
    "\n",
    "示例\n",
    "- 输入：haystack = \"leetcode\", needle = \"leeto\"\n",
    "- 输出：-1\n",
    "- 解释：\"leeto\" 没有在 \"leetcode\" 中出现，所以返回 -1 \n",
    "\n",
    "\n",
    "链接：https://leetcode.cn/problems/find-the-index-of-the-first-occurrence-in-a-string/"
   ]
  },
  {
   "cell_type": "code",
   "execution_count": 1,
   "metadata": {},
   "outputs": [
    {
     "name": "stdout",
     "output_type": "stream",
     "text": [
      "2\n",
      "2\n",
      "2\n"
     ]
    }
   ],
   "source": [
    "class Solution:\n",
    "    def strStr(self, haystack: str, needle: str) -> int: # 暴力法\n",
    "        m, n = len(haystack), len(needle)\n",
    "        for i in range(m):\n",
    "            if haystack[i:i+n] == needle:\n",
    "                return i\n",
    "        return -1    \n",
    "    \n",
    "    def method_2(self, haystack: str, needle: str) -> int: # 使用 find\n",
    "        return haystack.find(needle)\n",
    "    \n",
    "    def method_3(self, haystack: str, needle: str) -> int: # 使用 index\n",
    "        try:   \n",
    "            return haystack.index(needle)\n",
    "        except ValueError:\n",
    "            return -1\n",
    "    \n",
    "    def KMP(self, haystack: str, needle: str) -> int: # KMP算法\n",
    "        return 0\n",
    "\n",
    "if __name__ == '__main__':\n",
    "    haystack = \"hello\"\n",
    "    needle = \"ll\"\n",
    "    solution = Solution()\n",
    "    print(solution.strStr(haystack, needle))\n",
    "    print(solution.method_2(haystack, needle))\n",
    "    print(solution.method_3(haystack, needle))"
   ]
  },
  {
   "cell_type": "markdown",
   "metadata": {},
   "source": [
    "# 重复的子字符串\n",
    "\n",
    "给定一个非空的字符串 s ，检查是否可以通过由它的一个子串重复多次构成\n",
    "\n",
    "链接：https://leetcode.cn/problems/repeated-substring-pattern/"
   ]
  },
  {
   "cell_type": "code",
   "execution_count": 2,
   "metadata": {},
   "outputs": [
    {
     "name": "stdout",
     "output_type": "stream",
     "text": [
      "True\n",
      "1\n",
      "True\n"
     ]
    }
   ],
   "source": [
    "class Solution:\n",
    "    def repeatedSubstringPattern(self, s: str) -> bool: # 暴力法\n",
    "        n = len(s)\n",
    "        if n <= 1:\n",
    "            return False\n",
    "        substr = \"\"\n",
    "        for i in range(1, n//2 + 1):\n",
    "            if n % i == 0:\n",
    "                substr = s[:i]\n",
    "                if substr * (n//i) == s:\n",
    "                    return True\n",
    "        return False\n",
    "    \n",
    "    def method_2(self, s: str) -> bool: # find\n",
    "        n = len(s)\n",
    "        if n <= 1:\n",
    "            return False\n",
    "        ss = s[1:] + s[:-1] \n",
    "        print(ss.find(s))              \n",
    "        return ss.find(s) != -1\n",
    "    \n",
    "    def KMP(self, s: str) -> bool: # KMP\n",
    "        return True\n",
    "    \n",
    "if __name__ == \"__main__\":\n",
    "    s = Solution()\n",
    "    print(s.repeatedSubstringPattern(\"abab\"))\n",
    "    print(s.method_2(\"abab\"))"
   ]
  }
 ],
 "metadata": {
  "kernelspec": {
   "display_name": "goodjob",
   "language": "python",
   "name": "python3"
  },
  "language_info": {
   "codemirror_mode": {
    "name": "ipython",
    "version": 3
   },
   "file_extension": ".py",
   "mimetype": "text/x-python",
   "name": "python",
   "nbconvert_exporter": "python",
   "pygments_lexer": "ipython3",
   "version": "3.9.16"
  },
  "orig_nbformat": 4
 },
 "nbformat": 4,
 "nbformat_minor": 2
}
