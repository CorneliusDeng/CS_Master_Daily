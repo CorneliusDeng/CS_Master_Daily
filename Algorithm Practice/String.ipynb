{
 "cells": [
  {
   "cell_type": "markdown",
   "metadata": {},
   "source": [
    "# 左旋转字符串\n",
    "\n",
    "字符串的左旋转操作是把字符串前面的若干个字符转移到字符串的尾部。请定义一个函数实现字符串左旋转操作的功能。\n",
    "\n",
    "链接：https://leetcode.cn/problems/zuo-xuan-zhuan-zi-fu-chuan-lcof/"
   ]
  },
  {
   "cell_type": "code",
   "execution_count": 3,
   "metadata": {},
   "outputs": [
    {
     "name": "stdout",
     "output_type": "stream",
     "text": [
      "cdefgab\n",
      "umghlrlose\n"
     ]
    }
   ],
   "source": [
    "class Solution:\n",
    "    def reverseLeftWords(self, s: str, n: int) -> str:\n",
    "        s = list(s)\n",
    "        s[0:n] = list(reversed(s[0:n]))\n",
    "        s[n:] = list(reversed(s[n:]))\n",
    "        s.reverse()\n",
    "        \n",
    "        return \"\".join(s)\n",
    "\n",
    "if __name__ == '__main__':\n",
    "    s = Solution()\n",
    "    print(s.reverseLeftWords(\"abcdefg\", 2))\n",
    "    print(s.reverseLeftWords(\"lrloseumgh\", 6))"
   ]
  }
 ],
 "metadata": {
  "kernelspec": {
   "display_name": "goodjob",
   "language": "python",
   "name": "python3"
  },
  "language_info": {
   "codemirror_mode": {
    "name": "ipython",
    "version": 3
   },
   "file_extension": ".py",
   "mimetype": "text/x-python",
   "name": "python",
   "nbconvert_exporter": "python",
   "pygments_lexer": "ipython3",
   "version": "3.9.16"
  },
  "orig_nbformat": 4
 },
 "nbformat": 4,
 "nbformat_minor": 2
}
