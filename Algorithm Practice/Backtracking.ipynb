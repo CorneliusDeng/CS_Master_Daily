{
 "cells": [
  {
   "cell_type": "markdown",
   "metadata": {},
   "source": [
    "# 理论基础\n",
    "\n",
    "回溯是递归的副产品，只要有递归就会有回溯\n",
    "\n",
    "回溯的本质是穷举，穷举所有可能，然后选出我们想要的答案，如果想让回溯法高效一些，可以加一些剪枝的操作，但也改不了回溯法就是穷举的本质\n",
    "\n",
    "回溯法解决的问题都可以抽象为树形结构，因为回溯法解决的都是在集合中递归查找子集，集合的大小就构成了树的宽度，递归的深度，就构成的树的深度。\n",
    "```\n",
    "for (选择：本层集合中元素（树中节点孩子的数量就是集合的大小）) {\n",
    "    处理节点;\n",
    "    backtracking(路径，选择列表); // 递归\n",
    "    回溯，撤销处理结果\n",
    "}\n",
    "```\n",
    "<img src=\"https://code-thinking-1253855093.file.myqcloud.com/pics/20210130173631174.png\" style=\"zoom:50%;\" />\n",
    "\n",
    "回溯法，一般可以解决如下几种问题：\n",
    "- 组合问题：N个数里面按一定规则找出k个数的集合\n",
    "- 切割问题：一个字符串按一定规则有几种切割方式\n",
    "- 子集问题：一个N个数的集合里有多少符合条件的子集\n",
    "- 排列问题：N个数按一定规则全排列，有几种排列方式\n",
    "- 棋盘问题：N皇后，解数独等等\n",
    "\n",
    "使用回溯法时需要考虑的三个问题：\n",
    "- 回溯函数模板返回值以及参数\n",
    "- 回溯函数终止条件\n",
    "- 回溯搜索的遍历过程"
   ]
  },
  {
   "cell_type": "code",
   "execution_count": 1,
   "metadata": {},
   "outputs": [],
   "source": [
    "from typing import List"
   ]
  },
  {
   "cell_type": "markdown",
   "metadata": {},
   "source": [
    "# 组合\n",
    "\n",
    "给定两个整数 n 和 k，返回范围 [1, n] 中所有可能的 k 个数的组合。\n",
    "\n",
    "链接：https://leetcode.cn/problems/combinations/\n",
    "\n",
    "参考：\n",
    "<img src=\"https://code-thinking-1253855093.file.myqcloud.com/pics/20201123195242899.png\" style=\"zoom:50%;\" />"
   ]
  },
  {
   "cell_type": "code",
   "execution_count": 3,
   "metadata": {},
   "outputs": [
    {
     "name": "stdout",
     "output_type": "stream",
     "text": [
      "[[1, 2], [1, 3], [1, 4], [2, 3], [2, 4], [3, 4]]\n",
      "[[1, 2], [1, 3], [1, 4], [2, 3], [2, 4], [3, 4]]\n"
     ]
    }
   ],
   "source": [
    "class Solution:\n",
    "    def combine(self, n: int, k: int) -> List[List[int]]: # 未剪枝优化\n",
    "        result = []  # 存放结果集\n",
    "        self.backtracking(n, k, 1, [], result)\n",
    "        return result\n",
    "    def backtracking(self, n, k, startIndex, path, result): # 回溯\n",
    "        # startIndex 是当前选择的起始点，path 是当前构建的路径（组合），path 列表实际上作为栈来使用，result 是最终结果集\n",
    "        if len(path) == k:\n",
    "            result.append(path[:]) # 拷贝一份path，加入到result\n",
    "            return\n",
    "        for i in range(startIndex, n + 1):  # 需要优化的地方\n",
    "            path.append(i)  # 处理节点\n",
    "            self.backtracking(n, k, i + 1, path, result)\n",
    "            path.pop()  # 回溯，撤销处理的节点\n",
    "    \n",
    "    '''\n",
    "    剪枝优化的思想：如果for循环选择的起始位置之后的元素个数 已经不足 我们需要的元素个数了，那么就没有必要搜索了。\n",
    "    假设已经选择的元素个数：path.size(); 那么还需要的元素个数为：k - path.size(); 那么在集合n中至多要从该起始位置 n - (k - path.size()) + 1 开始遍历\n",
    "\n",
    "    for (int i = startIndex; i <= n - (k - path.size()) + 1; i++) // i为本次搜索的起始位置\n",
    "    '''\n",
    "    def combine_2(self, n: int, k: int) -> List[List[int]]: # 剪枝优化\n",
    "        result = []  # 存放结果集\n",
    "        self.backtracking_2(n, k, 1, [], result)\n",
    "        return result\n",
    "    def backtracking_2(self, n, k, startIndex, path, result):\n",
    "        if len(path) == k:\n",
    "            result.append(path[:])\n",
    "            return\n",
    "        for i in range(startIndex, n - (k - len(path)) + 2):  # k - len(path)表示还需要选择的数字数量，n - (k - len(path)) + 2 是我们还能选择的最大的数字\n",
    "            path.append(i)  # 处理节点\n",
    "            self.backtracking_2(n, k, i + 1, path, result)\n",
    "            path.pop()  # 回溯，撤销处理的节点\n",
    "\n",
    "if __name__ == \"__main__\":\n",
    "    n = 4\n",
    "    k = 2\n",
    "    solution = Solution()\n",
    "    result_1 = solution.combine(n, k)\n",
    "    print(result_1)\n",
    "    result_2 = solution.combine_2(n, k)\n",
    "    print(result_2)\n"
   ]
  }
 ],
 "metadata": {
  "kernelspec": {
   "display_name": "congratulations",
   "language": "python",
   "name": "python3"
  },
  "language_info": {
   "codemirror_mode": {
    "name": "ipython",
    "version": 3
   },
   "file_extension": ".py",
   "mimetype": "text/x-python",
   "name": "python",
   "nbconvert_exporter": "python",
   "pygments_lexer": "ipython3",
   "version": "3.9.18"
  },
  "orig_nbformat": 4
 },
 "nbformat": 4,
 "nbformat_minor": 2
}
