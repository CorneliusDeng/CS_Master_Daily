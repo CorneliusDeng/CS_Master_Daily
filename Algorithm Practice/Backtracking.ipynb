{
 "cells": [
  {
   "cell_type": "markdown",
   "metadata": {},
   "source": [
    "# 理论基础\n",
    "\n",
    "回溯是递归的副产品，只要有递归就会有回溯\n",
    "\n",
    "回溯的本质是穷举，穷举所有可能，然后选出我们想要的答案，如果想让回溯法高效一些，可以加一些剪枝的操作，但也改不了回溯法就是穷举的本质\n",
    "\n",
    "回溯法解决的问题都可以抽象为树形结构，因为回溯法解决的都是在集合中递归查找子集，集合的大小就构成了树的宽度，递归的深度，就构成的树的深度。\n",
    "```\n",
    "for (选择：本层集合中元素（树中节点孩子的数量就是集合的大小）) {\n",
    "    处理节点;\n",
    "    backtracking(路径，选择列表); // 递归\n",
    "    回溯，撤销处理结果\n",
    "}\n",
    "```\n",
    "<img src=\"https://code-thinking-1253855093.file.myqcloud.com/pics/20210130173631174.png\" style=\"zoom:50%;\" />\n",
    "\n",
    "回溯法，一般可以解决如下几种问题：\n",
    "- 组合问题：N个数里面按一定规则找出k个数的集合\n",
    "- 切割问题：一个字符串按一定规则有几种切割方式\n",
    "- 子集问题：一个N个数的集合里有多少符合条件的子集\n",
    "- 排列问题：N个数按一定规则全排列，有几种排列方式\n",
    "- 棋盘问题：N皇后，解数独等等\n",
    "\n",
    "使用回溯法时需要考虑的三个问题：\n",
    "- 回溯函数模板返回值以及参数\n",
    "- 回溯函数终止条件\n",
    "- 回溯搜索的遍历过程"
   ]
  },
  {
   "cell_type": "code",
   "execution_count": 1,
   "metadata": {},
   "outputs": [],
   "source": [
    "from typing import List"
   ]
  },
  {
   "cell_type": "markdown",
   "metadata": {},
   "source": [
    "# 组合\n",
    "\n",
    "给定两个整数 n 和 k，返回范围 [1, n] 中所有可能的 k 个数的组合。\n",
    "\n",
    "链接：https://leetcode.cn/problems/combinations/\n",
    "\n",
    "参考：\n",
    "<img src=\"https://code-thinking-1253855093.file.myqcloud.com/pics/20201123195242899.png\" style=\"zoom:50%;\" />"
   ]
  },
  {
   "cell_type": "code",
   "execution_count": 2,
   "metadata": {},
   "outputs": [
    {
     "name": "stdout",
     "output_type": "stream",
     "text": [
      "[[1, 2], [1, 3], [1, 4], [2, 3], [2, 4], [3, 4]]\n",
      "[[1, 2], [1, 3], [1, 4], [2, 3], [2, 4], [3, 4]]\n"
     ]
    }
   ],
   "source": [
    "class Solution:\n",
    "    def combine(self, n: int, k: int) -> List[List[int]]: # 未剪枝优化\n",
    "        result = []  # 存放结果集\n",
    "        self.backtracking(n, k, 1, [], result)\n",
    "        return result\n",
    "    def backtracking(self, n, k, startIndex, path, result): # 回溯\n",
    "        # startIndex 是当前选择的起始点，path 是当前构建的路径（组合），path 列表实际上作为栈来使用，result 是最终结果集\n",
    "        if len(path) == k:\n",
    "            result.append(path[:]) # 拷贝一份path，加入到result\n",
    "            return\n",
    "        for i in range(startIndex, n + 1):  # 需要优化的地方\n",
    "            path.append(i)  # 处理节点\n",
    "            self.backtracking(n, k, i + 1, path, result)\n",
    "            path.pop()  # 回溯，撤销处理的节点\n",
    "    \n",
    "    '''\n",
    "    剪枝优化的思想：如果for循环选择的起始位置之后的元素个数 已经不足 我们需要的元素个数了，那么就没有必要搜索了。\n",
    "    假设已经选择的元素个数：path.size(); 那么还需要的元素个数为：k - path.size(); 那么在集合n中至多要从该起始位置 n - (k - path.size()) + 1 开始遍历\n",
    "\n",
    "    for (int i = startIndex; i <= n - (k - path.size()) + 1; i++) // i为本次搜索的起始位置\n",
    "    '''\n",
    "    def combine_2(self, n: int, k: int) -> List[List[int]]: # 剪枝优化\n",
    "        result = []  # 存放结果集\n",
    "        self.backtracking_2(n, k, 1, [], result)\n",
    "        return result\n",
    "    def backtracking_2(self, n, k, startIndex, path, result):\n",
    "        if len(path) == k:\n",
    "            result.append(path[:])\n",
    "            return\n",
    "        for i in range(startIndex, n - (k - len(path)) + 2):  # k - len(path)表示还需要选择的数字数量，n - (k - len(path)) + 2 是我们还能选择的最大的数字\n",
    "            path.append(i)  # 处理节点\n",
    "            self.backtracking_2(n, k, i + 1, path, result)\n",
    "            path.pop()  # 回溯，撤销处理的节点\n",
    "\n",
    "if __name__ == \"__main__\":\n",
    "    n = 4\n",
    "    k = 2\n",
    "    solution = Solution()\n",
    "    result_1 = solution.combine(n, k)\n",
    "    print(result_1)\n",
    "    result_2 = solution.combine_2(n, k)\n",
    "    print(result_2)\n"
   ]
  },
  {
   "cell_type": "markdown",
   "metadata": {},
   "source": [
    "# 组合总和 III\n",
    "\n",
    "找出所有相加之和为 n 的 k 个数的组合，且满足下列条件：\n",
    "- 只使用数字1到9\n",
    "- 每个数字 最多使用一次 \n",
    "\n",
    "返回 所有可能的有效组合的列表 。该列表不能包含相同的组合两次，组合可以以任何顺序返回。\n",
    "\n",
    "链接：https://leetcode.cn/problems/combination-sum-iii/"
   ]
  },
  {
   "cell_type": "code",
   "execution_count": 3,
   "metadata": {},
   "outputs": [
    {
     "name": "stdout",
     "output_type": "stream",
     "text": [
      "[[1, 2, 4]]\n"
     ]
    }
   ],
   "source": [
    "class Solution:\n",
    "    def combinationSum3(self, k: int, n: int) -> List[List[int]]:\n",
    "        result = []  # 存放结果集\n",
    "        self.backtracking(n, k, 0, 1, [], result)\n",
    "        return result\n",
    "\n",
    "    def backtracking(self, targetSum, k, currentSum, startIndex, path, result):\n",
    "        if currentSum > targetSum:  # 剪枝操作\n",
    "            return  \n",
    "        if len(path) == k: # 已经选择k个数字之后，无论是否满足条件，都需要结束当前函数调用\n",
    "            if currentSum == targetSum:\n",
    "                result.append(path[:])\n",
    "            return\n",
    "        for i in range(startIndex, 9 - (k - len(path)) + 2):  # 剪枝\n",
    "            currentSum += i  # 处理\n",
    "            path.append(i)  # 处理\n",
    "            self.backtracking(targetSum, k, currentSum, i + 1, path, result)  # 注意i+1调整startIndex\n",
    "            currentSum -= i  # 回溯\n",
    "            path.pop()  # 回溯\n",
    "\n",
    "if __name__ == \"__main__\":\n",
    "    k = 3\n",
    "    n = 7\n",
    "    solution = Solution()\n",
    "    result = solution.combinationSum3(k, n)\n",
    "    print(result)"
   ]
  },
  {
   "cell_type": "markdown",
   "metadata": {},
   "source": [
    "# 电话号码的字母组合\n",
    "\n",
    "给定一个仅包含数字 2-9 的字符串，返回所有它能表示的字母组合。答案可以按 任意顺序 返回。\n",
    "\n",
    "给出数字到字母的映射如下（与电话按键相同）。注意 1 不对应任何字母。\n",
    "<img src=\"https://assets.leetcode-cn.com/aliyun-lc-upload/uploads/2021/11/09/200px-telephone-keypad2svg.png\" style=\"zoom:100%;\" />\n",
    "\n",
    "链接：https://leetcode.cn/problems/letter-combinations-of-a-phone-number/\n"
   ]
  },
  {
   "cell_type": "code",
   "execution_count": 4,
   "metadata": {},
   "outputs": [
    {
     "name": "stdout",
     "output_type": "stream",
     "text": [
      "['ad', 'ae', 'af', 'bd', 'be', 'bf', 'cd', 'ce', 'cf']\n"
     ]
    }
   ],
   "source": [
    "class Solution:\n",
    "    def __init__(self):\n",
    "        self.letterMap = [\n",
    "            \"\",     # 0\n",
    "            \"\",     # 1\n",
    "            \"abc\",  # 2\n",
    "            \"def\",  # 3\n",
    "            \"ghi\",  # 4\n",
    "            \"jkl\",  # 5\n",
    "            \"mno\",  # 6\n",
    "            \"pqrs\", # 7\n",
    "            \"tuv\",  # 8\n",
    "            \"wxyz\"  # 9\n",
    "        ]\n",
    "    \n",
    "    def getCombinations(self, digits, index, path, result): \n",
    "        if index == len(digits): \n",
    "            result.append(''.join(path)) # 将当前路径转换为字符串并添加到结果列表中\n",
    "            return\n",
    "        digit = int(digits[index]) # 获取当前数字\n",
    "        letters = self.letterMap[digit] # 获取当前数字对应的所有字母\n",
    "        for letter in letters: # 遍历所有字母\n",
    "            path.append(letter) # 将当前字母添加到路径中\n",
    "            self.getCombinations(digits, index + 1, path, result) # 递归处理下一个数字\n",
    "            path.pop() # 从路径中移除当前字母（回溯）\n",
    "    \n",
    "    def letterCombinations(self, digits: str) -> List[str]:\n",
    "        result = []\n",
    "        if len(digits) == 0:\n",
    "            return result\n",
    "        self.getCombinations(digits, 0, [], result)\n",
    "        return result\n",
    "\n",
    "if __name__ == \"__main__\":\n",
    "    digits = \"23\"\n",
    "    solution = Solution()\n",
    "    result = solution.letterCombinations(digits)\n",
    "    print(result)"
   ]
  },
  {
   "cell_type": "markdown",
   "metadata": {},
   "source": [
    "# 组合总和\n",
    "\n",
    "给你一个 无重复元素 的整数数组 candidates 和一个目标整数 target ，找出 candidates 中可以使数字和为目标数 target 的 所有 不同组合 ，并以列表形式返回。你可以按 任意顺序 返回这些组合。\n",
    "\n",
    "candidates 中的 同一个 数字可以 无限制重复被选取 。如果至少一个数字的被选数量不同，则两种组合是不同的。 \n",
    "\n",
    "对于给定的输入，保证和为 target 的不同组合数少于 150 个。\n",
    "\n",
    "链接：https://leetcode.cn/problems/combination-sum/\n",
    "\n",
    "<img src=\"https://code-thinking-1253855093.file.myqcloud.com/pics/20201223170809182.png\" style=\"zoom:50%;\" />\n"
   ]
  },
  {
   "cell_type": "code",
   "execution_count": 6,
   "metadata": {},
   "outputs": [
    {
     "name": "stdout",
     "output_type": "stream",
     "text": [
      "[[2, 2, 3], [7]]\n",
      "[[2, 2, 3], [7]]\n"
     ]
    }
   ],
   "source": [
    "class Solution:\n",
    "    def combinationSum(self, candidates: List[int], target: int) -> List[List[int]]:\n",
    "        result = []\n",
    "        candidates.sort()  # 需要排序\n",
    "        self.backtracking(candidates, target, 0, 0, [], result)\n",
    "        return result\n",
    "    \n",
    "    def backtracking(self, candidates, target, total, startIndex, path, result):\n",
    "        if total == target: # 总和等于目标值\n",
    "            result.append(path[:])\n",
    "            return\n",
    "        for i in range(startIndex, len(candidates)): # 遍历从startIndex开始的所有候选数字\n",
    "            if total + candidates[i] > target: # 如果当前总和加上当前数字大于目标值，就结束循环，因为candidates是有序数组\n",
    "                break\n",
    "            total += candidates[i]\n",
    "            path.append(candidates[i])\n",
    "            self.backtracking(candidates, target, total, i, path, result) # 递归处理下一个数字，起始索引仍然是i，因为每个数字可以选择多次\n",
    "            total -= candidates[i]\n",
    "            path.pop()\n",
    "    \n",
    "    def combinationSum_2(self, candidates: List[int], target: int) -> List[List[int]]: # 版本2\n",
    "        result =[]\n",
    "        candidates.sort() # 需要排序\n",
    "        self.backtracking_2(candidates, target, 0, [], result)\n",
    "        return result\n",
    "    \n",
    "    def backtracking_2(self, candidates, target, startIndex, path, result):\n",
    "        if target == 0:\n",
    "            result.append(path[:])\n",
    "            return\n",
    "        for i in range(startIndex, len(candidates)): # 遍历从startIndex开始的所有候选数字\n",
    "            if target - candidates[i]  < 0: # 如果目标值减去当前数字小于0，就结束循环\n",
    "                break \n",
    "            path.append(candidates[i])\n",
    "            self.backtracking_2(candidates, target - candidates[i], i, path, result) # 递归处理下一个数字，起始索引仍然是i，因为每个数字可以选择多次\n",
    "            path.pop()\n",
    "\n",
    "if __name__ == \"__main__\":\n",
    "    candidates = [2,3,6,7]\n",
    "    target = 7\n",
    "    solution = Solution()\n",
    "    result = solution.combinationSum(candidates, target)\n",
    "    print(result)\n",
    "    result_2 = solution.combinationSum_2(candidates, target)\n",
    "    print(result_2)"
   ]
  }
 ],
 "metadata": {
  "kernelspec": {
   "display_name": "congratulations",
   "language": "python",
   "name": "python3"
  },
  "language_info": {
   "codemirror_mode": {
    "name": "ipython",
    "version": 3
   },
   "file_extension": ".py",
   "mimetype": "text/x-python",
   "name": "python",
   "nbconvert_exporter": "python",
   "pygments_lexer": "ipython3",
   "version": "3.9.18"
  },
  "orig_nbformat": 4
 },
 "nbformat": 4,
 "nbformat_minor": 2
}
