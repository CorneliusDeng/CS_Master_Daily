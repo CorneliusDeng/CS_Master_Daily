{
 "cells": [
  {
   "cell_type": "markdown",
   "metadata": {},
   "source": [
    "# Conclusion\n",
    "\n",
    "数组是存放在连续内存空间上的相同类型数据的集合\n",
    "\n",
    "- 数组下标都是从0开始的。\n",
    "- 数组内存空间的地址是连续的\n",
    "\n",
    "数组的元素是不能删的，只能覆盖\n",
    "\n",
    "操作数组的一个重要方法：滑动窗口\n",
    "- 滑动窗口就是不断的调节子序列的起始位置和终止位置，从而得出我们要想的结果\n",
    "- 滑动窗口的精妙之处在于根据当前子序列和大小的情况，不断调节子序列的起始位置。从而将O(n^2)暴力解法降为O(n)"
   ]
  },
  {
   "attachments": {},
   "cell_type": "markdown",
   "metadata": {},
   "source": [
    "# 二分查找"
   ]
  },
  {
   "attachments": {},
   "cell_type": "markdown",
   "metadata": {},
   "source": [
    "## 二分查找\n",
    "\n",
    "给定一个 n 个元素有序的（升序）整型数组 nums 和一个目标值 target  ，写一个函数搜索 nums 中的 target，如果目标值存在返回下标，否则返回 -1\n",
    "\n",
    "链接：https://leetcode.cn/problems/binary-search"
   ]
  },
  {
   "cell_type": "code",
   "execution_count": 6,
   "metadata": {},
   "outputs": [
    {
     "name": "stdout",
     "output_type": "stream",
     "text": [
      "4\n"
     ]
    }
   ],
   "source": [
    "from typing import List\n",
    "\n",
    "class Solution:\n",
    "    def search(self, nums: List[int], target: int) -> int:\n",
    "        '''左闭右闭区间'''\n",
    "        left, right = 0, len(nums) - 1  # 定义target在左闭右闭的区间里，[left, right]\n",
    "        while left <= right:\n",
    "            middle = (left + right) // 2 # 向下取整\n",
    "            if nums[middle] > target:\n",
    "                right = middle - 1  # target在左区间，所以[left, middle - 1]\n",
    "            elif nums[middle] < target:\n",
    "                left = middle + 1  # target在右区间，所以[middle + 1, right]\n",
    "            else:\n",
    "                return middle  # 数组中找到目标值，直接返回下标\n",
    "        return -1  # 未找到目标值\n",
    "\n",
    "        '''左闭右开区间'''\n",
    "        # left, right = 0, len(nums)  # 定义target在左闭右开的区间里，即：[left, right)\n",
    "        # while left < right:  # 因为left == right的时候，在[left, right)是无效的空间，所以使用 <\n",
    "        #     middle = left + (right - left) // 2\n",
    "        #     if nums[middle] > target:\n",
    "        #         right = middle  # target 在左区间，在[left, middle)中\n",
    "        #     elif nums[middle] < target:\n",
    "        #         left = middle + 1  # target 在右区间，在[middle + 1, right)中\n",
    "        #     else:\n",
    "        #         return middle  # 数组中找到目标值，直接返回下标\n",
    "        # return -1  # 未找到目标值\n",
    "\n",
    "if __name__ == \"__main__\":\n",
    "    # input_str = input(\"请输入数组元素，以空格分隔：\")\n",
    "    # nums = [int(n) for n in input_str.split()] # 处理方式1\n",
    "    # nums = list(map(int, input_str.split())) # 处理方式2\n",
    "    nums = [-1,0,3,5,9,12]\n",
    "    target = 9\n",
    "    print(Solution().search(nums, target))"
   ]
  },
  {
   "attachments": {},
   "cell_type": "markdown",
   "metadata": {},
   "source": [
    "## 搜索插入位置\n",
    "\n",
    "给定一个排序数组和一个目标值，在数组中找到目标值，并返回其索引。如果目标值不存在于数组中，返回它将会被按顺序插入的位置。\n",
    "\n",
    "请必须使用时间复杂度为 O(log n) 的算法。\n",
    "\n",
    "链接：https://leetcode.cn/problems/search-insert-position"
   ]
  },
  {
   "cell_type": "code",
   "execution_count": 10,
   "metadata": {},
   "outputs": [
    {
     "name": "stdout",
     "output_type": "stream",
     "text": [
      "1\n"
     ]
    }
   ],
   "source": [
    "from typing import List\n",
    "\n",
    "class Solution:\n",
    "    def searchInsert(self, nums: List[int], target: int) -> int:\n",
    "        left, right = 0, len(nums) - 1\n",
    "\n",
    "        while left <= right:\n",
    "            middle = (left + right) // 2\n",
    "            if nums[middle] < target:\n",
    "                left = middle + 1\n",
    "            elif nums[middle] > target:\n",
    "                right = middle - 1\n",
    "            else:\n",
    "                return middle\n",
    "        return right + 1\n",
    "\n",
    "if __name__ == \"__main__\":\n",
    "    nums = [1,3,5,6]\n",
    "    target = 2\n",
    "    print(Solution().searchInsert(nums, target))"
   ]
  },
  {
   "attachments": {},
   "cell_type": "markdown",
   "metadata": {},
   "source": [
    "## 在排序数组中查找元素的第一个和最后一个位置\n",
    "\n",
    "给你一个按照非递减顺序排列的整数数组 nums，和一个目标值 target。请你找出给定目标值在数组中的开始位置和结束位置。\n",
    "\n",
    "如果数组中不存在目标值 target，返回 [-1, -1]。\n",
    "\n",
    "你必须设计并实现时间复杂度为 O(log n) 的算法解决此问题。\n",
    "\n",
    "链接：https://leetcode.cn/problems/find-first-and-last-position-of-element-in-sorted-array"
   ]
  },
  {
   "cell_type": "code",
   "execution_count": 12,
   "metadata": {},
   "outputs": [
    {
     "name": "stdout",
     "output_type": "stream",
     "text": [
      "[3, 4]\n"
     ]
    }
   ],
   "source": [
    "from typing import List\n",
    "\n",
    "# 1、首先，在 nums 数组中二分查找 target；\n",
    "# 2、如果二分查找失败，则 binarySearch 返回 -1，表明 nums 中没有 target。此时，searchRange 直接返回 {-1, -1}；\n",
    "# 3、如果二分查找成功，则 binarySearch 返回 nums 中值为 target 的一个下标。然后，通过左右滑动指针，来找到符合题意的区间\n",
    "\n",
    "class Solution:\n",
    "    def searchRange(self, nums: List[int], target: int) -> List[int]:\n",
    "\n",
    "        def binarySearch(nums:List[int], target:int) -> int:\n",
    "            left, right = 0, len(nums)-1\n",
    "            while left <= right: \n",
    "                middle = (left + right) // 2\n",
    "                if nums[middle] > target:\n",
    "                    right = middle - 1\n",
    "                elif nums[middle] < target: \n",
    "                    left = middle + 1\n",
    "                else:\n",
    "                    return middle\n",
    "            return -1\n",
    "        \n",
    "        index = binarySearch(nums, target)\n",
    "        if index == -1:\n",
    "            return [-1, -1] # nums 中不存在 target，直接返回 [-1, -1]\n",
    "        # nums 中存在 target，则左右滑动指针，来找到符合题意的区间\n",
    "        left, right = index, index\n",
    "        # 向左滑动，找左边界\n",
    "        while left - 1 >= 0 and nums[left - 1] == target: \n",
    "            left -= 1\n",
    "        # 向右滑动，找右边界\n",
    "        while right + 1 < len(nums) and nums[right + 1] == target: \n",
    "            right += 1\n",
    "        return [left, right]\n",
    "\n",
    "if __name__ == \"__main__\":\n",
    "    nums = [5,7,7,8,8,10]\n",
    "    target = 8\n",
    "    print(Solution().searchRange(nums, target))\n"
   ]
  },
  {
   "attachments": {},
   "cell_type": "markdown",
   "metadata": {},
   "source": [
    "## x 的平方根 \n",
    "\n",
    "给你一个非负整数 x ，计算并返回 x 的 算术平方根 。\n",
    "\n",
    "由于返回类型是整数，结果只保留 整数部分 ，小数部分将被 舍去 。\n",
    "\n",
    "注意：不允许使用任何内置指数函数和算符，例如 `pow(x, 0.5)` 或者 `x ** 0.5` 。\n",
    "\n",
    "链接：https://leetcode.cn/problems/sqrtx"
   ]
  },
  {
   "cell_type": "code",
   "execution_count": 14,
   "metadata": {},
   "outputs": [
    {
     "name": "stdout",
     "output_type": "stream",
     "text": [
      "9\n"
     ]
    }
   ],
   "source": [
    "class Solution:\n",
    "    def mySqrt(self, x: int) -> int:\n",
    "        if x <= 1:\n",
    "            return x\n",
    "        left, right = 1, x\n",
    "        while left <= right:\n",
    "            middle = (left + right) // 2\n",
    "            if middle ** 2 == x:\n",
    "                return middle\n",
    "            elif middle ** 2 > x:\n",
    "                right = middle - 1\n",
    "            else:\n",
    "                left = middle + 1\n",
    "        return right\n",
    "\n",
    "if __name__ == \"__main__\":\n",
    "    x = 81\n",
    "    print(Solution().mySqrt(x))"
   ]
  },
  {
   "attachments": {},
   "cell_type": "markdown",
   "metadata": {},
   "source": [
    "## 有效的完全平方数\n",
    "\n",
    "给你一个正整数 num 。如果 num 是一个完全平方数，则返回 true ，否则返回 false 。\n",
    "\n",
    "完全平方数 是一个可以写成某个整数的平方的整数。换句话说，它可以写成某个整数和自身的乘积。\n",
    "\n",
    "不能使用任何内置的库函数，如  sqrt 。\n",
    "\n",
    "链接：https://leetcode.cn/problems/valid-perfect-square"
   ]
  },
  {
   "cell_type": "code",
   "execution_count": 16,
   "metadata": {},
   "outputs": [
    {
     "name": "stdout",
     "output_type": "stream",
     "text": [
      "True\n",
      "True\n"
     ]
    }
   ],
   "source": [
    "# 二分法\n",
    "class Solution:\n",
    "    def isPerfectSquare(self, num: int) -> bool:\n",
    "        if num <= 1:\n",
    "            return True\n",
    "        left, right = 1, num\n",
    "        while left <= right:\n",
    "            middle = (left + right) // 2\n",
    "            if middle ** 2 == num:\n",
    "                return True\n",
    "            elif middle ** 2 > num:\n",
    "                right = middle - 1\n",
    "            else:\n",
    "                left = middle + 1\n",
    "        return False\n",
    "\n",
    "    # 4=1+3 9=1+3+5 16=1+3+5+7 以此类推，模仿它可以使用一个while循环，不断减去一个从1开始不断增大的奇数，若最终减成了0，说明是完全平方数，否则，不是。\n",
    "    def method_2(self, num: int) -> bool:\n",
    "        num_1 = 1\n",
    "        while num > 0:\n",
    "            num -= num_1\n",
    "            num_1 += 2\n",
    "        return num == 0\n",
    "\n",
    "if __name__ == \"__main__\":\n",
    "    num = 81\n",
    "    print(Solution().isPerfectSquare(num))\n",
    "    print(Solution().method_2(num))"
   ]
  },
  {
   "attachments": {},
   "cell_type": "markdown",
   "metadata": {},
   "source": [
    "# 滑动窗口"
   ]
  },
  {
   "attachments": {},
   "cell_type": "markdown",
   "metadata": {},
   "source": [
    "## 长度最小的子数组\n",
    "\n",
    "给定一个含有 n 个正整数的数组和一个正整数 target 。\n",
    "\n",
    "找出该数组中满足其总和大于等于 target 的长度最小的 连续子数组 [nums_l, nums_l+1, ..., nums_r-1, nums_r] ，并返回其长度。如果不存在符合条件的子数组，返回 0 。\n",
    "\n",
    "链接：https://leetcode.cn/problems/minimum-size-subarray-sum"
   ]
  },
  {
   "cell_type": "code",
   "execution_count": 21,
   "metadata": {},
   "outputs": [
    {
     "name": "stdout",
     "output_type": "stream",
     "text": [
      "2\n",
      "2\n"
     ]
    }
   ],
   "source": [
    "'''\n",
    "在本题中，窗口就是满足其和大于等于target的最小连续子数组\n",
    "窗口起始位置的移动：窗口值满足要求，窗口向前移动（窗口缩小）\n",
    "窗口结束位置的移动：遍历数组的指针，窗口值不满足要求，窗口向后移动（窗口扩大）\n",
    "'''\n",
    "\n",
    "from typing import List\n",
    "\n",
    "class Solution:\n",
    "    # 每个元素在滑动窗后进来操作一次，出去操作一次，每个元素都是被操作两次，所以时间复杂度是 2 × n 也就是O(n)\n",
    "    def minSubArrayLen(self, target: int, nums: List[int]) -> int:\n",
    "        left, right = 0, 0\n",
    "        min_len = float('inf') # 正无穷大\n",
    "        cur_sum = 0 # 当前的累加值\n",
    "        \n",
    "        while right < len(nums): # 控制右边界\n",
    "            cur_sum += nums[right]\n",
    "            while cur_sum >= target: # 当前累加值大于目标值\n",
    "                min_len = min(min_len, right - left + 1) # 更新最小子序列长度\n",
    "                cur_sum -= nums[left] # 累加值减去左边的值\n",
    "                left += 1   # 窗口向前移动\n",
    "            right += 1\n",
    "        \n",
    "        return min_len if min_len != float('inf') else 0\n",
    "\n",
    "    # 暴力破解法，时间复杂度 O(n^2)\n",
    "    def Violence_method(self, target: int, nums: List[int]) -> int:\n",
    "            min_len = float('inf')  # 子序列的长度\n",
    "            \n",
    "            for i in range(len(nums)): # 控制起始位置\n",
    "                cur_sum = 0  # 子序列的数值之和\n",
    "                for j in range(i, len(nums)): # 控制结束位置\n",
    "                    cur_sum += nums[j]\n",
    "                    if cur_sum >= target:  # 一旦发现子序列和超过了target，便更新min_len\n",
    "                        min_len = min(min_len, j - i + 1) # 取最小的窗口大小\n",
    "                        break\n",
    "            \n",
    "            return min_len if min_len != float('inf') else 0\n",
    "\n",
    "if __name__ == \"__main__\":\n",
    "    s = 7\n",
    "    nums = [2,3,1,2,4,3]\n",
    "    print(Solution().minSubArrayLen(s, nums))\n",
    "    print(Solution().Violence_method(s, nums))"
   ]
  },
  {
   "cell_type": "markdown",
   "metadata": {},
   "source": [
    "## Revision Tag"
   ]
  },
  {
   "attachments": {},
   "cell_type": "markdown",
   "metadata": {},
   "source": [
    "## 水果成篮\n",
    "\n",
    "你正在探访一家农场，农场从左到右种植了一排果树。这些树用一个整数数组 fruits 表示，其中 fruits[i] 是第 i 棵树上的水果种类 。\n",
    "\n",
    "你想要尽可能多地收集水果。然而，农场的主人设定了一些严格的规矩，你必须按照要求采摘水果：\n",
    "- 你只有 两个 篮子，并且每个篮子只能装 单一类型 的水果。每个篮子能够装的水果总量没有限制。\n",
    "- 你可以选择任意一棵树开始采摘，你必须从 每棵 树（包括开始采摘的树）上 恰好摘一个水果 。采摘的水果应当符合篮子中的水果类型。每采摘一次，你将会向右移动到下一棵树，并继续采摘。\n",
    "- 一旦你走到某棵树前，但水果不符合篮子的水果类型，那么就必须停止采摘。\n",
    "\n",
    "给你一个整数数组 fruits ，返回你可以收集的水果的 最大 数目。\n",
    "\n",
    "链接：https://leetcode.cn/problems/fruit-into-baskets"
   ]
  },
  {
   "cell_type": "code",
   "execution_count": 12,
   "metadata": {},
   "outputs": [
    {
     "name": "stdout",
     "output_type": "stream",
     "text": [
      "5\n",
      "5\n"
     ]
    }
   ],
   "source": [
    "from typing import List\n",
    "from collections import Counter \n",
    "# Counter主要功能：可以支持方便、快速的计数，将元素数量统计，然后计数并返回一个字典，键为元素，值为元素个数。\n",
    "\n",
    "'''\n",
    "这个题是最大滑窗：给定数组 nums，定义滑窗的左右边界 i, j，求满足某个条件的滑窗的最大长度\n",
    "使用哈希表维护当前窗口内的水果种类以及对应的数量\n",
    "'''\n",
    "class Solution:\n",
    "    def totalFruit(self, fruits: List[int]) -> int:\n",
    "        cnt = Counter() # 哈希表维护当前窗口内的水果种类以及对应的数量\n",
    "        result = left = 0 \n",
    "\n",
    "        # 核心思想是：当窗口内的水果种类超过 2 种时，就要将窗口的左边界向右移动，直到窗口内的水果种类不超过 2 为止\n",
    "        for right, x in enumerate(fruits): # 遍历数组，将当前水果 x 加入窗口。使用enumerate遍历的好处是同时获得了位置和元素值\n",
    "            cnt[x] += 1 # 类型（即元素值）为 x 的水果数量加 1\n",
    "            while len(cnt) > 2: # 然后判断当前窗口内的水果种类是否超过了2种，如果超过，就要把窗口的左边界向右移动，直到窗口内的水果种类不超过2为止\n",
    "                cnt[fruits[left]] -= 1 # 将左边界的水果类型的数量减 1\n",
    "                if cnt[fruits[left]] == 0: # 如果左边界的水果类型的数量为 0，就将其从哈希表中删除\n",
    "                    cnt.pop(fruits[left]) \n",
    "                left += 1 \n",
    "            result = max(result, right - left + 1) # 取最大的窗口大小\n",
    "\n",
    "        return result\n",
    "\n",
    "'''\n",
    "在上述中，我们发现，窗口大小会时而变大，时而变小，这就需要我们每一次更新答案。\n",
    "但本题实际上求的是水果的最大数目，也就是“最大”的窗口，我们没有必要缩小窗口，只需要让窗口单调增大。于是代码就少了每次更新答案的操作，只需要在遍历结束后将此时的窗口大小作为答案返回即可。\n",
    "'''\n",
    "def Better_Method(fruits: List[int]) -> int:\n",
    "    cnt = Counter()\n",
    "    left = 0\n",
    "    for x in fruits:\n",
    "        cnt[x] += 1 # 可以采摘记录类型x的水果1个\n",
    "        if len(cnt) > 2: # 判断当前窗口内的水果种类是否超过了2种，如果超过，就要把窗口的左边界向右移动，直到窗口内的水果种类不超过2为止\n",
    "            cnt[fruits[left]] -= 1\n",
    "            if cnt[fruits[left]] == 0:\n",
    "                cnt.pop(fruits[left])\n",
    "            left += 1\n",
    "    return len(fruits) - left\n",
    "\n",
    "if __name__ == \"__main__\":\n",
    "    fruits = [3,3,3,1,2,1,1,2,3,3,4]\n",
    "    print(Solution().totalFruit(fruits))\n",
    "    print(Better_Method(fruits))\n",
    "        "
   ]
  },
  {
   "attachments": {},
   "cell_type": "markdown",
   "metadata": {},
   "source": [
    "## 最小覆盖子串\n",
    "\n",
    "给你一个字符串 s 、一个字符串 t 。返回 s 中涵盖 t 所有字符的最小子串。如果 s 中不存在涵盖 t 所有字符的子串，则返回空字符串 \"\" 。\n",
    "\n",
    "注意：\n",
    "\n",
    "对于 t 中重复字符，我们寻找的子字符串中该字符数量必须不少于 t 中该字符数量。\n",
    "\n",
    "如果 s 中存在这样的子串，我们保证它是唯一的答案。\n",
    "\n",
    "示例 ：\n",
    "\n",
    "输入：s = \"ADOBECODEBANC\", t = \"ABC\"\n",
    "\n",
    "输出：\"BANC\"\n",
    "\n",
    "解释：最小覆盖子串 \"BANC\" 包含来自字符串 t 的 'A'、'B' 和 'C'。\n",
    "\n",
    "\n",
    "链接：https://leetcode.cn/problems/minimum-window-substring"
   ]
  },
  {
   "cell_type": "code",
   "execution_count": 13,
   "metadata": {},
   "outputs": [
    {
     "name": "stdout",
     "output_type": "stream",
     "text": [
      "BANC\n"
     ]
    }
   ],
   "source": [
    "'''\n",
    "在滑动窗口类型的问题中都会有两个指针，一个用于「延伸」现有窗口的right指针，和一个用于「收缩」窗口的left指针。在任意时刻，只有一个指针运动，而另一个保持静止。\n",
    "\n",
    "步骤1:\n",
    "我们在s上滑动窗口，通过移动right指针不断扩张窗口，直到窗口包含了t的所有字符\n",
    "步骤2:\n",
    "不断增加left使滑动窗口缩小，因为是要求最小字串，所以将不必要的元素排除在外，使长度减小，直到碰到一个必须包含的元素，这个时候不能再扔了，再扔就不满足条件了，记录此时滑动窗口的长度，并保存最小值\n",
    "步骤3:\n",
    "让left再增加一个位置，这个时候滑动窗口肯定不满足条件了，那么继续从步骤一开始执行，寻找新的满足条件的滑动窗口，如此反复，直到right超出了字符串s范围。\n",
    "\n",
    "用一个字典need来表示当前滑动窗口中需要的各元素的数量，一开始滑动窗口为空，用t中各元素来初始化这个need，当滑动窗口扩展或者收缩的时候，去维护这个need字典，例如当滑动窗口包含某个元素，我们就让need中这个元素的数量减1，代表所需元素减少了1个；当滑动窗口移除某个元素，就让need中这个元素的数量加1。need始终记录着当前滑动窗口下，我们还需要的元素数量。\n",
    "\n",
    "优化:\n",
    "如果每次判断滑动窗口是否包含了t的所有元素，都去遍历need看是否所有元素数量都小于等于0，这个会耗费O(k)的时间复杂度，k代表字典长度，最坏情况下，k可能等于len(s)。\n",
    "其实这个是可以避免的，我们可以维护一个额外的变量needCnt来记录所需元素的总数量，当我们碰到一个所需元素c，不仅need[c]的数量减少1，同时needCnt也要减少1，这样我们通过needCnt就可以知道是否满足条件，而无需遍历字典了。\n",
    "前面也提到过，need记录了遍历到的所有元素，而只有need[c]>0时，代表c就是所需元素\n",
    "'''\n",
    "\n",
    "import collections\n",
    "\n",
    "class Solution:\n",
    "    def minWindow(self, s: str, t: str) -> str:\n",
    "        need = collections.defaultdict(int) # 字典，记录目标字符串中的字符和出现的次数\n",
    "        for ch in t:\n",
    "            need[ch] += 1\n",
    "\n",
    "        needCount = len(t) # 需要的字符总数\n",
    "\n",
    "        left = 0 # 窗口左指针\n",
    "        result = (0, float('inf'))\n",
    "\n",
    "        for right, ch in enumerate(s):\n",
    "            if need[ch] > 0: # 当前字符是目标字符，所需总数-1\n",
    "                needCount -= 1\n",
    "            need[ch] -= 1 # 不管是不是目标字符，当前字符出现次数-1\n",
    "\n",
    "            if needCount == 0: # 步骤1：滑动窗口包含了t的所有字符\n",
    "                while True: # 步骤2：移动滑动窗口的左指针，排除多余字符\n",
    "                    ch = s[left] # 左指针字符\n",
    "                    if need[ch] == 0: # 如果左指针字符出现次数为0，不能再删除，所以此时退出循环\n",
    "                        break\n",
    "                    need[ch] += 1 # 删去左指针指向的字符，左指针字符需要个数加1\n",
    "                    left += 1 # 左指针右移\n",
    "                if right - left < result[1] - result[0]: # 更新\n",
    "                    result = (left, right)\n",
    "                need[s[left]] += 1 # 步骤3：此时左指针指向的字符虽然不是t中的字符，但是因为要向右移动，所以需要将need中的对应字符个数加1\n",
    "                needCount += 1\n",
    "                left += 1 # 左指针右移，开始下一轮循环\n",
    "        return '' if result[1] > len(s) else s[result[0]: result[1] + 1] # 如果res始终没被更新过，代表无满足条件的结果\n",
    "\n",
    "if __name__ == \"__main__\":\n",
    "    s = \"ADOBECODEBANC\"\n",
    "    t = \"ABC\"\n",
    "    print(Solution().minWindow(s, t))"
   ]
  },
  {
   "attachments": {},
   "cell_type": "markdown",
   "metadata": {},
   "source": [
    "# 螺旋矩阵 "
   ]
  },
  {
   "attachments": {},
   "cell_type": "markdown",
   "metadata": {},
   "source": [
    "## 螺旋矩阵 II\n",
    "\n",
    "给你一个正整数 n ，生成一个包含 1 到 $n^2$ 所有元素，且元素按顺时针顺序螺旋排列的 n x n 正方形矩阵 matrix 。\n",
    "\n",
    "链接：https://leetcode.cn/problems/spiral-matrix-ii"
   ]
  },
  {
   "cell_type": "code",
   "execution_count": 14,
   "metadata": {},
   "outputs": [
    {
     "name": "stdout",
     "output_type": "stream",
     "text": [
      "[[1, 2, 3], [8, 9, 4], [7, 6, 5]]\n"
     ]
    }
   ],
   "source": [
    "'''\n",
    "按层模拟\n",
    "将矩阵看成若干层，首先填入矩阵最外层的元素，其次填入矩阵次外层的元素，直到填入矩阵最内层的元素\n",
    "对于每层，从左上方开始以顺时针的顺序填入所有元素。假设当前层的左上角位于 (top,left)，右下角位于(bottom,right)，按照如下顺序填入当前层的元素。\n",
    "1. 从左到右填入上侧元素，依次为(top,left)到(top,right)\n",
    "2. 从上到下填入右侧元素，依次为(top+1,right)到(bottom,right)\n",
    "3. 从右到左填入下侧元素，依次为(bottom,right-1)到(bottom,left)\n",
    "4. 从下到上填入左侧元素，依次为(bottom-1,left)到(top+1,left)\n",
    "'''\n",
    "from typing import List\n",
    "class Solution:\n",
    "    def generateMatrix(self, n: int) -> List[List[int]]:\n",
    "        left, right, top, bottom = 0, n - 1, 0, n - 1 # 四个边界\n",
    "        matrix = [[0] * n for _ in range(n)] # 初始化矩阵\n",
    "        num, target = 1, n * n # target是迭代的终止值\n",
    "\n",
    "        while num <= target:\n",
    "            # 使用num <= tar而不是left < right || top < bottom作为迭代条件，是为了解决当n为奇数时，矩阵中心数字无法在迭代过程中被填充的问题。\n",
    "\n",
    "            for i in range(left, right + 1): # 从左到右\n",
    "                matrix[top][i] = num\n",
    "                num += 1\n",
    "            top += 1\n",
    "\n",
    "            for i in range(top, bottom + 1): # 从上到下\n",
    "                matrix[i][right] = num\n",
    "                num += 1\n",
    "            right -= 1\n",
    "\n",
    "            for i in range(right, left -1, -1): # 从右到左\n",
    "                matrix[bottom][i] = num\n",
    "                num += 1\n",
    "            bottom -= 1\n",
    "\n",
    "            for i in range(bottom, top - 1, -1): # 从下到上\n",
    "                matrix[i][left] = num\n",
    "                num += 1\n",
    "            left += 1\n",
    "\n",
    "        return matrix\n",
    "\n",
    "if __name__ == \"__main__\":\n",
    "    print(Solution().generateMatrix(3))"
   ]
  },
  {
   "attachments": {},
   "cell_type": "markdown",
   "metadata": {},
   "source": [
    "## 顺时针打印矩阵\n",
    "\n",
    "输入一个矩阵，按照从外向里以顺时针的顺序依次打印出每一个数字。\n",
    "\n",
    " \n",
    "示例：\n",
    "\n",
    "输入：matrix = [[1,2,3],[4,5,6],[7,8,9]]\n",
    "\n",
    "输出：[1,2,3,6,9,8,7,4,5]\n",
    "\n",
    "链接：https://leetcode.cn/problems/shun-shi-zhen-da-yin-ju-zhen-lcof\n",
    "\n",
    "参考解答：https://leetcode.cn/problems/shun-shi-zhen-da-yin-ju-zhen-lcof/solution/mian-shi-ti-29-shun-shi-zhen-da-yin-ju-zhen-she-di/"
   ]
  },
  {
   "cell_type": "code",
   "execution_count": 15,
   "metadata": {},
   "outputs": [
    {
     "name": "stdout",
     "output_type": "stream",
     "text": [
      "[1, 2, 3, 6, 9, 8, 7, 4, 5]\n"
     ]
    }
   ],
   "source": [
    "from typing import List\n",
    "class Solution:\n",
    "    def spiralOrder(self, matrix: List[List[int]]) -> List[int]:\n",
    "        if not matrix: return []\n",
    "        left, right, top, bottom, res = 0, len(matrix[0]) - 1, 0, len(matrix) - 1, []\n",
    "        while True:\n",
    "            for i in range(left, right + 1): res.append(matrix[top][i]) # left to right\n",
    "            top += 1\n",
    "            if top > bottom: break\n",
    "\n",
    "            for i in range(top, bottom + 1): res.append(matrix[i][right]) # top to bottom\n",
    "            right -= 1\n",
    "            if left > right: break\n",
    "\n",
    "            for i in range(right, left - 1, -1): res.append(matrix[bottom][i]) # right to left\n",
    "            bottom -= 1\n",
    "            if top > bottom: break\n",
    "\n",
    "            for i in range(bottom, top - 1, -1): res.append(matrix[i][left]) # bottom to top\n",
    "            left += 1\n",
    "            if left > right: break\n",
    "        return res\n",
    "\n",
    "if __name__ == \"__main__\":\n",
    "    matrix = [[1,2,3],[4,5,6],[7,8,9]]\n",
    "    print(Solution().spiralOrder(matrix))"
   ]
  }
 ],
 "metadata": {
  "kernelspec": {
   "display_name": "goodjob",
   "language": "python",
   "name": "python3"
  },
  "language_info": {
   "codemirror_mode": {
    "name": "ipython",
    "version": 3
   },
   "file_extension": ".py",
   "mimetype": "text/x-python",
   "name": "python",
   "nbconvert_exporter": "python",
   "pygments_lexer": "ipython3",
   "version": "3.9.16"
  },
  "orig_nbformat": 4
 },
 "nbformat": 4,
 "nbformat_minor": 2
}
