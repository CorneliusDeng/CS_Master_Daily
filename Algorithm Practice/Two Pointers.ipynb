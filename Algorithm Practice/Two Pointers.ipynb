{
 "cells": [
  {
   "cell_type": "markdown",
   "metadata": {},
   "source": [
    "# 反转字符串\n",
    "\n",
    "编写一个函数，其作用是将输入的字符串反转过来。输入字符串以字符数组 s 的形式给出。\n",
    "\n",
    "不要给另外的数组分配额外的空间，你必须原地修改输入数组、使用 O(1) 的额外空间解决这一问题。\n",
    "\n",
    "链接：https://leetcode.cn/problems/reverse-string/"
   ]
  },
  {
   "cell_type": "code",
   "execution_count": 2,
   "metadata": {},
   "outputs": [
    {
     "name": "stdout",
     "output_type": "stream",
     "text": [
      "['o', 'l', 'l', 'e', 'h']\n",
      "['o', 'l', 'l', 'e', 'h']\n"
     ]
    }
   ],
   "source": [
    "from typing import List \n",
    "\n",
    "class Solution:\n",
    "    def reverseString(self, s: List[str]) -> None:\n",
    "        \"\"\"\n",
    "        Do not return anything, modify s in-place instead.\n",
    "        \"\"\"\n",
    "        left, right = 0, len(s) - 1\n",
    "        while left < right:\n",
    "            s[left], s[right] = s[right], s[left]\n",
    "            left += 1\n",
    "            right -= 1\n",
    "\n",
    "    def method_2(self, s: List[str]) -> None:\n",
    "        s[:] = reversed(s)\n",
    "\n",
    "if __name__ == '__main__':\n",
    "    s = [\"h\",\"e\",\"l\",\"l\",\"o\"]\n",
    "    Solution().reverseString(s)\n",
    "    print(s)\n",
    "    t = [\"h\",\"e\",\"l\",\"l\",\"o\"]\n",
    "    Solution().method_2(t)\n",
    "    print(t)\n"
   ]
  },
  {
   "cell_type": "markdown",
   "metadata": {},
   "source": [
    "# 反转字符串 II\n",
    "\n",
    "给定一个字符串 s 和一个整数 k，从字符串开头算起，每计数至 2k 个字符，就反转这 2k 字符中的前 k 个字符。\n",
    "- 如果剩余字符少于 k 个，则将剩余字符全部反转。\n",
    "- 如果剩余字符小于 2k 但大于或等于 k 个，则反转前 k 个字符，其余字符保持原样。\n",
    "\n",
    "示例：\n",
    "\n",
    "输入：s = \"abcdefg\", k = 2\n",
    "\n",
    "输出：\"bacdfeg\"\n",
    "\n",
    "链接：https://leetcode.cn/problems/reverse-string-ii/\n"
   ]
  },
  {
   "cell_type": "code",
   "execution_count": 3,
   "metadata": {},
   "outputs": [
    {
     "name": "stdout",
     "output_type": "stream",
     "text": [
      "bacdfeg\n"
     ]
    }
   ],
   "source": [
    "class Solution:\n",
    "    def reverseStr(self, s: str, k: int) -> str:\n",
    "        # Two pointers. Another is inside the loop.\n",
    "        p = 0\n",
    "        while p < len(s):\n",
    "            p2 = p + k\n",
    "            s = s[:p] + s[p:p2][::-1] + s[p2:] # 将p处的子字符串和其后的k个字符进行反转，然后将这两部分重新连接起来\n",
    "            # s[:p] 从字符串s的开头到索引p-1的子字符串\n",
    "            # s[p:p2] 从索引p到索引p2-1的子字符串, s[p:p2][::-1]将从后往前取长度为k个字符\n",
    "            # s[p2:] 从索引p2到字符串s的末尾的子字符串\n",
    "            p = p + 2 * k # 每次循环都会将p增加2*k，以跳过已经反转的部分，为下一次反转做准备\n",
    "        return s\n",
    "\n",
    "if __name__ == '__main__':\n",
    "    s = \"abcdefg\"\n",
    "    k = 2\n",
    "    print(Solution().reverseStr(s, k))\n"
   ]
  },
  {
   "cell_type": "markdown",
   "metadata": {},
   "source": [
    "# 反转字符串中的单词\n",
    "\n",
    "给你一个字符串 s ，请你反转字符串中 单词 的顺序。\n",
    "\n",
    "单词 是由非空格字符组成的字符串。s 中使用至少一个空格将字符串中的 单词 分隔开。\n",
    "\n",
    "返回 单词 顺序颠倒且 单词 之间用单个空格连接的结果字符串。\n",
    "\n",
    "注意：输入字符串 s中可能会存在前导空格、尾随空格或者单词间的多个空格。返回的结果字符串中，单词间应当仅用单个空格分隔，且不包含任何额外的空格。\n",
    "\n",
    "链接：https://leetcode.cn/problems/reverse-words-in-a-string/"
   ]
  },
  {
   "cell_type": "code",
   "execution_count": 4,
   "metadata": {},
   "outputs": [
    {
     "name": "stdout",
     "output_type": "stream",
     "text": [
      "blue is sky the\n"
     ]
    }
   ],
   "source": [
    "class Solution:\n",
    "    def reverseWords(self, s: str) -> str:\n",
    "        # 将字符串拆分为单词，即转换成列表类型\n",
    "        words = s.split()\n",
    "\n",
    "        # 反转单词\n",
    "        left, right = 0, len(words) - 1\n",
    "        while left < right:\n",
    "            words[left], words[right] = words[right], words[left]\n",
    "            left += 1\n",
    "            right -= 1\n",
    "\n",
    "        # 将列表转换成字符串\n",
    "        return \" \".join(words)\n",
    "\n",
    "if __name__ == '__main__':\n",
    "    s = \"the sky is blue\"\n",
    "    solution = Solution()\n",
    "    result = solution.reverseWords(s)\n",
    "    print(result)"
   ]
  }
 ],
 "metadata": {
  "kernelspec": {
   "display_name": "goodjob",
   "language": "python",
   "name": "python3"
  },
  "language_info": {
   "codemirror_mode": {
    "name": "ipython",
    "version": 3
   },
   "file_extension": ".py",
   "mimetype": "text/x-python",
   "name": "python",
   "nbconvert_exporter": "python",
   "pygments_lexer": "ipython3",
   "version": "3.9.16"
  },
  "orig_nbformat": 4
 },
 "nbformat": 4,
 "nbformat_minor": 2
}
