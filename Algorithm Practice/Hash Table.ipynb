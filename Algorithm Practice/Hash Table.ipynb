{
 "cells": [
  {
   "cell_type": "markdown",
   "metadata": {},
   "source": [
    "# 242 有效的字母异位词\n",
    "\n",
    "给定两个字符串 s 和 t ，编写一个函数来判断 t 是否是 s 的字母异位词。\n",
    "\n",
    "注意：若 s 和 t 中每个字符出现的次数都相同，则称 s 和 t 互为字母异位词。\n",
    "\n",
    "链接：https://leetcode.cn/problems/valid-anagram"
   ]
  },
  {
   "cell_type": "code",
   "execution_count": 5,
   "metadata": {},
   "outputs": [
    {
     "name": "stdout",
     "output_type": "stream",
     "text": [
      "True\n"
     ]
    }
   ],
   "source": [
    "'''\n",
    "数组其实就是一个简单哈希表，而且这道题目中字符串只有小写字符，那么就可以定义一个数组，来记录字符串s里字符出现的次数\n",
    "需要把字符映射到数组也就是哈希表的索引下标上，因为字符a到字符z的ASCII是26个连续的数值，所以字符a映射为下标0，相应的字符z映射为下标25\n",
    "遍历字符串 s，初现的字符对应位置+1；遍历字符串 t，出现的字符对应位置-1。最后只需判断数组是否有非0项，有则返回false，否则返回true\n",
    "'''\n",
    "\n",
    "class Solution:\n",
    "    def isAnagram(self, s: str, t: str) -> bool:\n",
    "        record = [0] * 26\n",
    "        for i in s:\n",
    "            # 并不需要记住字符a的ASCII，只要求出一个相对数值就可以了\n",
    "            record[ord(i) - ord(\"a\")] += 1\n",
    "        for i in t:\n",
    "            record[ord(i) - ord(\"a\")] -= 1\n",
    "        for k in range(26):\n",
    "            if record[k] != 0:\n",
    "                # record数组如果有的元素不为零0，说明字符串s和t 一定是谁多了字符或者谁少了字符。\n",
    "                return False\n",
    "        return True\n",
    "\n",
    "if __name__ == '__main__':\n",
    "    s = \"anagram\"\n",
    "    t = \"nagaram\"\n",
    "    solution = Solution()\n",
    "    result = solution.isAnagram(s, t)\n",
    "    print(result)"
   ]
  },
  {
   "cell_type": "markdown",
   "metadata": {},
   "source": [
    "# 383 赎金信\n",
    "\n",
    "给你两个字符串：ransomNote 和 magazine ，判断 ransomNote 能不能由 magazine 里面的字符构成。\n",
    "\n",
    "如果可以，返回 true ；否则返回 false 。\n",
    "\n",
    "magazine 中的每个字符只能在 ransomNote 中使用一次。\n",
    "\n",
    "链接：https://leetcode.cn/problems/ransom-note"
   ]
  },
  {
   "cell_type": "code",
   "execution_count": 8,
   "metadata": {},
   "outputs": [],
   "source": [
    "class Solution:\n",
    "    def canConstruct(self, ransomNote: str, magazine: str) -> bool:\n",
    "        ransom_count = [0] * 26\n",
    "        magazine_count = [0] * 26\n",
    "        for c in ransomNote:\n",
    "            ransom_count[ord(c) - ord('a')] += 1\n",
    "        for c in magazine:\n",
    "            magazine_count[ord(c) - ord('a')] += 1\n",
    "        return all(ransom_count[i] <= magazine_count[i] for i in range(26))\n",
    "\n",
    "if __name__ == 'name':\n",
    "    ransomNote = \"aa\"\n",
    "    magazine = \"aab\"\n",
    "    solution = Solution()\n",
    "    result = solution.canConstruct(ransomNote, magazine)\n",
    "    print(result)"
   ]
  },
  {
   "cell_type": "markdown",
   "metadata": {},
   "source": [
    "# 49 字母异位词分组\n",
    "\n",
    "给你一个字符串数组，请你将 字母异位词 组合在一起。可以按任意顺序返回结果列表。\n",
    "\n",
    "字母异位词 是由重新排列源单词的所有字母得到的一个新单词\n",
    "\n",
    "示例:\n",
    "\n",
    "输入: strs = [\"eat\", \"tea\", \"tan\", \"ate\", \"nat\", \"bat\"]\n",
    "\n",
    "输出: [[\"bat\"],[\"nat\",\"tan\"],[\"ate\",\"eat\",\"tea\"]]\n",
    "\n",
    "链接：https://leetcode.cn/problems/group-anagrams"
   ]
  },
  {
   "cell_type": "code",
   "execution_count": 2,
   "metadata": {},
   "outputs": [
    {
     "name": "stdout",
     "output_type": "stream",
     "text": [
      "[['eat', 'tea', 'ate'], ['tan', 'nat'], ['bat']]\n"
     ]
    }
   ],
   "source": [
    "\"\"\"\n",
    "主要是dict.get()函数的理解\n",
    "dict.get(key, default=None)\n",
    "1. key -- 字典中要查找的键。\n",
    "2. default -- 如果指定键的值不存在时，返回该默认值。\n",
    "\n",
    "还有一点要注意：因为字典的键，必须是不可变类型，所以用tuple\n",
    "\"\"\"\n",
    "\n",
    "from typing import List\n",
    "\n",
    "class Solution:\n",
    "    def groupAnagrams(self, strs: List[str]) -> List[List[str]]:\n",
    "        dict = {}\n",
    "        for item in strs:\n",
    "            key = tuple(sorted(item))\n",
    "            dict[key] = dict.get(key, []) + [item]\n",
    "        return list(dict.values())\n",
    "\n",
    "if __name__ == '__main__':\n",
    "    strs = [\"eat\", \"tea\", \"tan\", \"ate\", \"nat\", \"bat\"]\n",
    "    solution = Solution()\n",
    "    result = solution.groupAnagrams(strs)\n",
    "    print(result)\n"
   ]
  },
  {
   "cell_type": "markdown",
   "metadata": {},
   "source": [
    "# 438 找到字符串中所有字母异位词\n",
    "\n",
    "给定两个字符串 s 和 p，找到 s 中所有 p 的 异位词 的子串，返回这些子串的起始索引。不考虑答案输出的顺序。\n",
    "\n",
    "异位词 指由相同字母重排列形成的字符串（包括相同的字符串）。\n",
    "\n",
    "示例:\n",
    "\n",
    "输入: s = \"cbaebabacd\", p = \"abc\"\n",
    "\n",
    "输出: [0,6]\n",
    "\n",
    "解释:\n",
    "\n",
    "起始索引等于 0 的子串是 \"cba\", 它是 \"abc\" 的异位词。\n",
    "\n",
    "起始索引等于 6 的子串是 \"bac\", 它是 \"abc\" 的异位词。\n",
    "\n",
    "链接：https://leetcode.cn/problems/find-all-anagrams-in-a-string"
   ]
  },
  {
   "cell_type": "code",
   "execution_count": 1,
   "metadata": {},
   "outputs": [
    {
     "name": "stdout",
     "output_type": "stream",
     "text": [
      "[0, 6]\n"
     ]
    }
   ],
   "source": [
    "\"\"\"\n",
    "1、定义滑动窗口的左右两个指针left，right\n",
    "2、right一步一步向右走遍历s字符串\n",
    "3、right当前遍历到的字符加入s_cnt后不满足p_cnt的字符数量要求，将滑动窗口左侧字符不断弹出，也就是left不断右移，直到符合要求为止\n",
    "4、当滑动窗口的长度等于p的长度时，这时的s子字符串就是p的异位词\n",
    "\n",
    "其中，left和right表示滑动窗口在字符串s中的索引，cur_left和cur_right表示字符串s中索引为left和right的字符在数组中的索引\n",
    "\"\"\"\n",
    "\n",
    "from typing import List\n",
    "\n",
    "class Solution:\n",
    "    def findAnagrams(self, s: str, p: str) -> List[int]:\n",
    "        n, m, res = len(s), len(p), []\n",
    "        if n < m: return res\n",
    "        p_cnt = [0] * 26\n",
    "        s_cnt = [0] * 26\n",
    "\n",
    "        for i in range(m):\n",
    "            p_cnt[ord(p[i]) - ord('a')] += 1\n",
    "        \n",
    "        left = 0\n",
    "        for right in range(n):\n",
    "            cur_right = ord(s[right]) - ord('a')\n",
    "            s_cnt[cur_right] += 1\n",
    "            while s_cnt[cur_right] > p_cnt[cur_right]:\n",
    "                cur_left = ord(s[left]) - ord('a')\n",
    "                s_cnt[cur_left] -= 1\n",
    "                left += 1\n",
    "            if right - left + 1 == m:\n",
    "                res.append(left)\n",
    "        return res\n",
    "\n",
    "if __name__ == '__main__':\n",
    "    s = \"cbaebabacd\"\n",
    "    p = \"abc\"\n",
    "    solution = Solution()\n",
    "    result = solution.findAnagrams(s, p)\n",
    "    print(result)\n"
   ]
  }
 ],
 "metadata": {
  "kernelspec": {
   "display_name": "goodjob",
   "language": "python",
   "name": "python3"
  },
  "language_info": {
   "codemirror_mode": {
    "name": "ipython",
    "version": 3
   },
   "file_extension": ".py",
   "mimetype": "text/x-python",
   "name": "python",
   "nbconvert_exporter": "python",
   "pygments_lexer": "ipython3",
   "version": "3.9.16"
  },
  "orig_nbformat": 4
 },
 "nbformat": 4,
 "nbformat_minor": 2
}
