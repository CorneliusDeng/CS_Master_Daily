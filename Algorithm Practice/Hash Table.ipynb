{
 "cells": [
  {
   "cell_type": "markdown",
   "metadata": {},
   "source": [
    "# 242 有效的字母异位词\n",
    "\n",
    "给定两个字符串 s 和 t ，编写一个函数来判断 t 是否是 s 的字母异位词。\n",
    "\n",
    "注意：若 s 和 t 中每个字符出现的次数都相同，则称 s 和 t 互为字母异位词。\n",
    "\n",
    "链接：https://leetcode.cn/problems/valid-anagram"
   ]
  },
  {
   "cell_type": "code",
   "execution_count": 5,
   "metadata": {},
   "outputs": [
    {
     "name": "stdout",
     "output_type": "stream",
     "text": [
      "True\n"
     ]
    }
   ],
   "source": [
    "'''\n",
    "数组其实就是一个简单哈希表，而且这道题目中字符串只有小写字符，那么就可以定义一个数组，来记录字符串s里字符出现的次数\n",
    "需要把字符映射到数组也就是哈希表的索引下标上，因为字符a到字符z的ASCII是26个连续的数值，所以字符a映射为下标0，相应的字符z映射为下标25\n",
    "遍历字符串 s，初现的字符对应位置+1；遍历字符串 t，出现的字符对应位置-1。最后只需判断数组是否有非0项，有则返回false，否则返回true\n",
    "'''\n",
    "\n",
    "class Solution:\n",
    "    def isAnagram(self, s: str, t: str) -> bool:\n",
    "        record = [0] * 26\n",
    "        for i in s:\n",
    "            # 并不需要记住字符a的ASCII，只要求出一个相对数值就可以了\n",
    "            record[ord(i) - ord(\"a\")] += 1\n",
    "        for i in t:\n",
    "            record[ord(i) - ord(\"a\")] -= 1\n",
    "        for k in range(26):\n",
    "            if record[k] != 0:\n",
    "                # record数组如果有的元素不为零0，说明字符串s和t 一定是谁多了字符或者谁少了字符。\n",
    "                return False\n",
    "        return True\n",
    "\n",
    "if __name__ == '__main__':\n",
    "    s = \"anagram\"\n",
    "    t = \"nagaram\"\n",
    "    solution = Solution()\n",
    "    result = solution.isAnagram(s, t)\n",
    "    print(result)"
   ]
  },
  {
   "cell_type": "markdown",
   "metadata": {},
   "source": [
    "# 383 赎金信\n",
    "\n",
    "给你两个字符串：ransomNote 和 magazine ，判断 ransomNote 能不能由 magazine 里面的字符构成。\n",
    "\n",
    "如果可以，返回 true ；否则返回 false 。\n",
    "\n",
    "magazine 中的每个字符只能在 ransomNote 中使用一次。\n",
    "\n",
    "链接：https://leetcode.cn/problems/ransom-note"
   ]
  },
  {
   "cell_type": "code",
   "execution_count": 8,
   "metadata": {},
   "outputs": [],
   "source": [
    "class Solution:\n",
    "    def canConstruct(self, ransomNote: str, magazine: str) -> bool:\n",
    "        ransom_count = [0] * 26\n",
    "        magazine_count = [0] * 26\n",
    "        for c in ransomNote:\n",
    "            ransom_count[ord(c) - ord('a')] += 1\n",
    "        for c in magazine:\n",
    "            magazine_count[ord(c) - ord('a')] += 1\n",
    "        return all(ransom_count[i] <= magazine_count[i] for i in range(26))\n",
    "\n",
    "if __name__ == 'name':\n",
    "    ransomNote = \"aa\"\n",
    "    magazine = \"aab\"\n",
    "    solution = Solution()\n",
    "    result = solution.canConstruct(ransomNote, magazine)\n",
    "    print(result)"
   ]
  },
  {
   "cell_type": "markdown",
   "metadata": {},
   "source": [
    "# 49 字母异位词分组\n",
    "\n",
    "给你一个字符串数组，请你将 字母异位词 组合在一起。可以按任意顺序返回结果列表。\n",
    "\n",
    "字母异位词 是由重新排列源单词的所有字母得到的一个新单词\n",
    "\n",
    "示例:\n",
    "\n",
    "输入: strs = [\"eat\", \"tea\", \"tan\", \"ate\", \"nat\", \"bat\"]\n",
    "\n",
    "输出: [[\"bat\"],[\"nat\",\"tan\"],[\"ate\",\"eat\",\"tea\"]]\n",
    "\n",
    "链接：https://leetcode.cn/problems/group-anagrams"
   ]
  },
  {
   "cell_type": "code",
   "execution_count": 2,
   "metadata": {},
   "outputs": [
    {
     "name": "stdout",
     "output_type": "stream",
     "text": [
      "[['eat', 'tea', 'ate'], ['tan', 'nat'], ['bat']]\n"
     ]
    }
   ],
   "source": [
    "\"\"\"\n",
    "主要是dict.get()函数的理解\n",
    "dict.get(key, default=None)\n",
    "1. key -- 字典中要查找的键。\n",
    "2. default -- 如果指定键的值不存在时，返回该默认值。\n",
    "\n",
    "还有一点要注意：因为字典的键，必须是不可变类型，所以用tuple\n",
    "\"\"\"\n",
    "\n",
    "from typing import List\n",
    "\n",
    "class Solution:\n",
    "    def groupAnagrams(self, strs: List[str]) -> List[List[str]]:\n",
    "        dict = {}\n",
    "        for item in strs:\n",
    "            key = tuple(sorted(item))\n",
    "            dict[key] = dict.get(key, []) + [item]\n",
    "        return list(dict.values())\n",
    "\n",
    "if __name__ == '__main__':\n",
    "    strs = [\"eat\", \"tea\", \"tan\", \"ate\", \"nat\", \"bat\"]\n",
    "    solution = Solution()\n",
    "    result = solution.groupAnagrams(strs)\n",
    "    print(result)\n"
   ]
  },
  {
   "cell_type": "markdown",
   "metadata": {},
   "source": [
    "# 438 找到字符串中所有字母异位词\n",
    "\n",
    "给定两个字符串 s 和 p，找到 s 中所有 p 的 异位词 的子串，返回这些子串的起始索引。不考虑答案输出的顺序。\n",
    "\n",
    "异位词 指由相同字母重排列形成的字符串（包括相同的字符串）。\n",
    "\n",
    "示例:\n",
    "\n",
    "输入: s = \"cbaebabacd\", p = \"abc\"\n",
    "\n",
    "输出: [0,6]\n",
    "\n",
    "解释:\n",
    "\n",
    "起始索引等于 0 的子串是 \"cba\", 它是 \"abc\" 的异位词。\n",
    "\n",
    "起始索引等于 6 的子串是 \"bac\", 它是 \"abc\" 的异位词。\n",
    "\n",
    "链接：https://leetcode.cn/problems/find-all-anagrams-in-a-string"
   ]
  },
  {
   "cell_type": "code",
   "execution_count": 1,
   "metadata": {},
   "outputs": [
    {
     "name": "stdout",
     "output_type": "stream",
     "text": [
      "[0, 6]\n"
     ]
    }
   ],
   "source": [
    "\"\"\"\n",
    "1、定义滑动窗口的左右两个指针left，right\n",
    "2、right一步一步向右走遍历s字符串\n",
    "3、right当前遍历到的字符加入s_cnt后不满足p_cnt的字符数量要求，将滑动窗口左侧字符不断弹出，也就是left不断右移，直到符合要求为止\n",
    "4、当滑动窗口的长度等于p的长度时，这时的s子字符串就是p的异位词\n",
    "\n",
    "其中，left和right表示滑动窗口在字符串s中的索引，cur_left和cur_right表示字符串s中索引为left和right的字符在数组中的索引\n",
    "\"\"\"\n",
    "\n",
    "from typing import List\n",
    "\n",
    "class Solution:\n",
    "    def findAnagrams(self, s: str, p: str) -> List[int]:\n",
    "        n, m, res = len(s), len(p), []\n",
    "        if n < m: return res\n",
    "        p_cnt = [0] * 26\n",
    "        s_cnt = [0] * 26\n",
    "\n",
    "        for i in range(m):\n",
    "            p_cnt[ord(p[i]) - ord('a')] += 1\n",
    "        \n",
    "        left = 0\n",
    "        for right in range(n):\n",
    "            cur_right = ord(s[right]) - ord('a')\n",
    "            s_cnt[cur_right] += 1\n",
    "            while s_cnt[cur_right] > p_cnt[cur_right]:\n",
    "                cur_left = ord(s[left]) - ord('a')\n",
    "                s_cnt[cur_left] -= 1\n",
    "                left += 1\n",
    "            if right - left + 1 == m:\n",
    "                res.append(left)\n",
    "        return res\n",
    "\n",
    "if __name__ == '__main__':\n",
    "    s = \"cbaebabacd\"\n",
    "    p = \"abc\"\n",
    "    solution = Solution()\n",
    "    result = solution.findAnagrams(s, p)\n",
    "    print(result)\n"
   ]
  },
  {
   "cell_type": "markdown",
   "metadata": {},
   "source": [
    "# 349 两个数组的交集\n",
    "\n",
    "给定两个数组 nums1 和 nums2 ，返回它们的交集 。输出结果中的每个元素一定是唯一的。我们可以不考虑输出结果的顺序 。\n",
    " \n",
    "链接：https://leetcode.cn/problems/intersection-of-two-arrays/"
   ]
  },
  {
   "cell_type": "code",
   "execution_count": 2,
   "metadata": {},
   "outputs": [
    {
     "name": "stdout",
     "output_type": "stream",
     "text": [
      "[2]\n",
      "[2]\n"
     ]
    }
   ],
   "source": [
    "from typing import List\n",
    "\n",
    "class Solution:\n",
    "    def intersection(self, nums1: List[int], nums2: List[int]) -> List[int]:\n",
    "        # 使用哈希表存储一个数组中的所有元素\n",
    "        table = {}\n",
    "        for num in nums1:\n",
    "            table[num] = table.get(num, 0) + 1 # 如果 num 存在于字典 table 中，则返回对应的值；否则返回指定的默认值 0\n",
    "        \n",
    "        # 使用集合存储结果\n",
    "        res = set()\n",
    "        for num in nums2:\n",
    "            if num in table:\n",
    "                res.add(num)\n",
    "                del table[num]\n",
    "        \n",
    "        return list(res)\n",
    "\n",
    "    def method_2(self, nums1: List[int], nums2: List[int]) -> List[int]:\n",
    "        # 使用集合，集合是一种无序且不重复的数据结构，其中的元素是唯一的，不会出现重复的元素\n",
    "        return list(set(nums1) & set(nums2))\n",
    "\n",
    "if __name__ == '__main__':\n",
    "    nums1 = [1,2,2,1]\n",
    "    nums2 = [2,2]\n",
    "    solution = Solution()\n",
    "    result = solution.intersection(nums1, nums2)\n",
    "    result_2 = solution.method_2(nums1, nums2)\n",
    "    print(result)\n",
    "    print(result_2)"
   ]
  },
  {
   "cell_type": "markdown",
   "metadata": {},
   "source": [
    "# 350 两个数组的交集 II\n",
    "\n",
    "给你两个整数数组 nums1 和 nums2 ，请你以数组形式返回两数组的交集。返回结果中每个元素出现的次数，应与元素在两个数组中都出现的次数一致（如果出现次数不一致，则考虑取较小值）。可以不考虑输出结果的顺序。\n",
    "\n",
    "示例:\n",
    "\n",
    "输入：nums1 = [4,9,5], nums2 = [9,4,9,8,4]\n",
    "\n",
    "输出：[4,9]\n",
    "\n",
    "链接：https://leetcode.cn/problems/intersection-of-two-arrays-ii/"
   ]
  },
  {
   "cell_type": "code",
   "execution_count": 3,
   "metadata": {},
   "outputs": [
    {
     "name": "stdout",
     "output_type": "stream",
     "text": [
      "[2, 2]\n"
     ]
    }
   ],
   "source": [
    "from typing import List\n",
    "\n",
    "# 对数组进行排序，然后使用双指针。若两个值不等，则数字小的指针，往右移一位；若相等，则加入结果数组，两个指针同时往右移一位\n",
    "class Solution:\n",
    "    def intersect(self, nums1: List[int], nums2: List[int]) -> List[int]:\n",
    "        nums1.sort()\n",
    "        nums2.sort()\n",
    "        \n",
    "        length1, length2 = len(nums1), len(nums2)\n",
    "        intersection = list()\n",
    "        index1 = index2 = 0\n",
    "        while index1 < length1 and index2 < length2:\n",
    "            if nums1[index1] < nums2[index2]:\n",
    "                index1 += 1\n",
    "            elif nums1[index1] > nums2[index2]:\n",
    "                index2 += 1\n",
    "            else:\n",
    "                intersection.append(nums1[index1])\n",
    "                index1 += 1\n",
    "                index2 += 1\n",
    "        return intersection\n",
    "\n",
    "if __name__ == '__main__':\n",
    "    nums1 = [1,2,2,1]\n",
    "    nums2 = [2,2]\n",
    "    solution = Solution()\n",
    "    result = solution.intersect(nums1, nums2)\n",
    "    print(result)\n"
   ]
  },
  {
   "cell_type": "markdown",
   "metadata": {},
   "source": [
    "# 202 快乐数\n",
    "\n",
    "编写一个算法来判断一个数 n 是不是快乐数。\n",
    "\n",
    "「快乐数」 定义为：\n",
    "- 对于一个正整数，每一次将该数替换为它每个位置上的数字的平方和。\n",
    "- 然后重复这个过程直到这个数变为 1，也可能是 无限循环 但始终变不到 1。\n",
    "- 如果这个过程 结果为 1，那么这个数就是快乐数。\n",
    "\n",
    "如果 n 是 快乐数 就返回 true ；不是，则返回 false 。\n",
    "\n",
    "链接：https://leetcode.cn/problems/happy-number/"
   ]
  },
  {
   "cell_type": "code",
   "execution_count": 4,
   "metadata": {},
   "outputs": [
    {
     "name": "stdout",
     "output_type": "stream",
     "text": [
      "True\n"
     ]
    }
   ],
   "source": [
    "'''\n",
    "题目中说了会 无限循环，那么也就是说求和的过程中，sum会重复出现，这对解题很重要\n",
    "当我们遇到了要快速判断一个元素是否出现集合里的时候，就要考虑哈希法了\n",
    "所以这道题目使用哈希法，来判断这个sum是否重复出现，如果重复了就是return false， 否则一直找到sum为1为止\n",
    "'''\n",
    "class Solution:\n",
    "    def isHappy(self, n: int) -> bool:\n",
    "        record = set() # 定义集合\n",
    "        while n not in record: # 如果n不在集合中，就一直循环\n",
    "           record.add(n)\n",
    "           new_num = 0\n",
    "           n_str = str(n) # 将n转换为字符串\n",
    "           for i in n_str: # 遍历字符串\n",
    "               new_num += int(i)**2\n",
    "           if new_num == 1: \n",
    "              return True\n",
    "           else: \n",
    "              n = new_num\n",
    "        return False\n",
    "\n",
    "if __name__ == '__main__':\n",
    "    n = 19\n",
    "    solution = Solution()\n",
    "    result = solution.isHappy(n)\n",
    "    print(result)\n",
    "\n"
   ]
  },
  {
   "cell_type": "markdown",
   "metadata": {},
   "source": [
    "# 1 两数之和\n",
    "\n",
    "给定一个整数数组 nums 和一个整数目标值 target，请你在该数组中找出 和为目标值 target  的那 两个 整数，并返回它们的数组下标。\n",
    "\n",
    "你可以假设每种输入只会对应一个答案。但是，数组中同一个元素在答案里不能重复出现。\n",
    "\n",
    "你可以按任意顺序返回答案。\n",
    "\n",
    "链接：https://leetcode.cn/problems/two-sum/"
   ]
  },
  {
   "cell_type": "code",
   "execution_count": 6,
   "metadata": {},
   "outputs": [
    {
     "name": "stdout",
     "output_type": "stream",
     "text": [
      "[0, 1]\n",
      "[0, 1]\n",
      "[0, 1]\n",
      "[0, 1]\n"
     ]
    }
   ],
   "source": [
    "from typing import List\n",
    "\n",
    "class Solution:\n",
    "    def twoSum(self, nums: List[int], target: int) -> List[int]: # （版本一） 使用字典\n",
    "        records = dict()\n",
    "        for index, value in enumerate(nums):  \n",
    "            if target - value in records:   # 遍历当前元素，并在map中寻找是否有匹配的key\n",
    "                return [records[target- value], index]\n",
    "            records[value] = index    # 遍历当前元素，并在map中寻找是否有匹配的key\n",
    "        return []\n",
    "\n",
    "    def method_1(self, nums: List[int], target: int) -> List[int]: # （版本二）使用集合\n",
    "        #创建一个集合来存储我们目前看到的数字\n",
    "        seen = set()             \n",
    "        for i, num in enumerate(nums):\n",
    "            complement = target - num\n",
    "            if complement in seen:\n",
    "                return [nums.index(complement), i]\n",
    "            seen.add(num)\n",
    "    \n",
    "    def method_2(self, nums: List[int], target: int) -> List[int]: # （版本三）使用双指针\n",
    "        # 对输入列表进行排序\n",
    "        nums_sorted = sorted(nums)\n",
    "        # 使用双指针\n",
    "        left = 0\n",
    "        right = len(nums_sorted) - 1\n",
    "        while left < right:\n",
    "            current_sum = nums_sorted[left] + nums_sorted[right]\n",
    "            if current_sum == target:\n",
    "                # 如果和等于目标数，则返回两个数的下标\n",
    "                left_index = nums.index(nums_sorted[left])\n",
    "                right_index = nums.index(nums_sorted[right])\n",
    "                if left_index == right_index:\n",
    "                    right_index = nums[left_index+1:].index(nums_sorted[right]) + left_index + 1\n",
    "                return [left_index, right_index]\n",
    "            elif current_sum < target:\n",
    "                # 如果总和小于目标，则将左侧指针向右移动\n",
    "                left += 1\n",
    "            else:\n",
    "                # 如果总和大于目标值，则将右指针向左移动\n",
    "                right -= 1\n",
    "    \n",
    "    def method_3(self, nums: List[int], target: int) -> List[int]: # （版本四）暴力法\n",
    "        for i in range(len(nums)):\n",
    "            for j in range(i+1, len(nums)):\n",
    "                if nums[i] + nums[j] == target:\n",
    "                    return [i,j]\n",
    "\n",
    "if __name__ == '__main__':\n",
    "    nums = [2,7,11,15]\n",
    "    target = 9\n",
    "    solution = Solution()\n",
    "    result_0 = solution.twoSum(nums, target)\n",
    "    result_1 = solution.method_1(nums, target)\n",
    "    result_2 = solution.method_2(nums, target)\n",
    "    result_3 = solution.method_3(nums, target)\n",
    "    print(result_0)\n",
    "    print(result_1)\n",
    "    print(result_2)\n",
    "    print(result_3)"
   ]
  }
 ],
 "metadata": {
  "kernelspec": {
   "display_name": "goodjob",
   "language": "python",
   "name": "python3"
  },
  "language_info": {
   "codemirror_mode": {
    "name": "ipython",
    "version": 3
   },
   "file_extension": ".py",
   "mimetype": "text/x-python",
   "name": "python",
   "nbconvert_exporter": "python",
   "pygments_lexer": "ipython3",
   "version": "3.9.16"
  },
  "orig_nbformat": 4
 },
 "nbformat": 4,
 "nbformat_minor": 2
}
