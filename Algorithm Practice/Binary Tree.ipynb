{
 "cells": [
  {
   "cell_type": "code",
   "execution_count": 1,
   "metadata": {},
   "outputs": [],
   "source": [
    "class TreeNode:\n",
    "    def __init__(self, val, left = None, right = None):\n",
    "        self.val = val\n",
    "        self.left = left\n",
    "        self.right = right\n",
    "\n",
    "from typing import List, Optional\n",
    "import collections"
   ]
  },
  {
   "cell_type": "markdown",
   "metadata": {},
   "source": [
    "# 二叉树遍历"
   ]
  },
  {
   "cell_type": "markdown",
   "metadata": {},
   "source": [
    "## 二叉树的前序遍历\n",
    "\n",
    "给你二叉树的根节点 root ，返回它节点值的 前序 遍历\n",
    "\n",
    "链接：https://leetcode.cn/problems/binary-tree-preorder-traversal/"
   ]
  },
  {
   "cell_type": "code",
   "execution_count": 2,
   "metadata": {},
   "outputs": [
    {
     "name": "stdout",
     "output_type": "stream",
     "text": [
      "[1, 2, 3]\n",
      "[1, 2, 3]\n"
     ]
    }
   ],
   "source": [
    "class Solution:\n",
    "    def preorderTraversal(self, root: TreeNode) -> List[int]:\n",
    "        if not root:\n",
    "            return []\n",
    "        left = self.preorderTraversal(root.left)\n",
    "        right = self.preorderTraversal(root.right)\n",
    "\n",
    "        return  [root.val] + left +  right\n",
    "\n",
    "    def non_recursion_preorder(self, root: TreeNode) -> List[int]:\n",
    "        # 前序遍历是中左右，每次先处理的是中间节点，那么先将根节点放入栈中，然后将右孩子加入栈，再加入左孩子\n",
    "        if not root:\n",
    "            return []\n",
    "        stack = [root] # 前序遍历的访问顺序和处理顺序是一致的，因此可以先将根节点放入栈中\n",
    "        result = []\n",
    "        while stack:\n",
    "            node = stack.pop()\n",
    "            # 中结点先处理\n",
    "            result.append(node.val)\n",
    "            # 右孩子先入栈\n",
    "            if node.right:\n",
    "                stack.append(node.right)\n",
    "            # 左孩子后入栈\n",
    "            if node.left:\n",
    "                stack.append(node.left)\n",
    "        return result\n",
    "\n",
    "if __name__ == '__main__':\n",
    "    s = Solution()\n",
    "    root_1 = TreeNode(1, None, TreeNode(2, TreeNode(3)))\n",
    "    print(s.preorderTraversal(root_1))\n",
    "    root_2 = TreeNode(1, None, TreeNode(2, TreeNode(3)))\n",
    "    print(s.non_recursion_preorder(root_2))"
   ]
  },
  {
   "cell_type": "markdown",
   "metadata": {},
   "source": [
    "## 二叉树的中序遍历\n",
    "\n",
    "给定一个二叉树的根节点 root ，返回 它的 中序 遍历 。\n",
    "\n",
    "链接：https://leetcode.cn/problems/binary-tree-inorder-traversal/"
   ]
  },
  {
   "cell_type": "code",
   "execution_count": 3,
   "metadata": {},
   "outputs": [
    {
     "name": "stdout",
     "output_type": "stream",
     "text": [
      "[1, 3, 2]\n",
      "[1, 3, 2]\n"
     ]
    }
   ],
   "source": [
    "class Solution:\n",
    "    def inorderTraversal(self, root: Optional[TreeNode]) -> List[int]:\n",
    "        if root is None:\n",
    "            return []\n",
    "        left = self.inorderTraversal(root.left)\n",
    "        right = self.inorderTraversal(root.right)\n",
    "\n",
    "        return left + [root.val] + right\n",
    "\n",
    "    def non_recursion_inorder(self, root: Optional[TreeNode]) -> List[int]:\n",
    "        if not root:\n",
    "            return []\n",
    "        stack = []  # 不能提前将root结点加入stack中\n",
    "        result = []\n",
    "        cur = root # 借用指针的遍历来帮助访问节点，栈则用来处理节点上的元素\n",
    "        while cur or stack:\n",
    "            # 先迭代访问最底层的左子树结点\n",
    "            if cur:     \n",
    "                stack.append(cur)\n",
    "                cur = cur.left\t\t\n",
    "            # 到达最左结点后处理栈顶结点    \n",
    "            else:\t\t\n",
    "                cur = stack.pop()\n",
    "                result.append(cur.val)\n",
    "                # 取栈顶元素右结点\n",
    "                cur = cur.right\t\n",
    "        return result\n",
    "\n",
    "\n",
    "if __name__ == '__main__':\n",
    "    s = Solution()\n",
    "    root_1 = TreeNode(1, None, TreeNode(2, TreeNode(3)))\n",
    "    print(s.inorderTraversal(root_1))\n",
    "    root_2 = TreeNode(1, None, TreeNode(2, TreeNode(3)))\n",
    "    print(s.non_recursion_inorder(root_2))\n",
    "        "
   ]
  },
  {
   "cell_type": "markdown",
   "metadata": {},
   "source": [
    "## 二叉树的后序遍历\n",
    "\n",
    "给你一棵二叉树的根节点 root ，返回其节点值的 后序遍历 \n",
    "\n",
    "https://leetcode.cn/problems/binary-tree-postorder-traversal/"
   ]
  },
  {
   "cell_type": "code",
   "execution_count": 4,
   "metadata": {},
   "outputs": [
    {
     "name": "stdout",
     "output_type": "stream",
     "text": [
      "[3, 2, 1]\n",
      "[3, 2, 1]\n"
     ]
    }
   ],
   "source": [
    "class Solution:\n",
    "    def postorderTraversal(self, root: Optional[TreeNode]) -> List[int]:\n",
    "        if root is None:\n",
    "            return []\n",
    "        left = self.postorderTraversal(root.left)\n",
    "        right = self.postorderTraversal(root.right)\n",
    "\n",
    "        return left + right + [root.val]\n",
    "    \n",
    "    def non_recursion_postorder(self, root: Optional[TreeNode]) -> List[int]:\n",
    "        # 先序遍历是中左右，后续遍历是左右中，需要调整一下先序遍历的代码顺序，就变成中右左的遍历顺序，然后在反转result数组，输出的结果顺序就是左右中\n",
    "        if not root:\n",
    "           return []\n",
    "        stack = [root]\n",
    "        result = []\n",
    "        while stack:\n",
    "            node = stack.pop()\n",
    "            # 中结点先处理\n",
    "            result.append(node.val)\n",
    "            # 左孩子先入栈\n",
    "            if node.left:\n",
    "                stack.append(node.left)\n",
    "            # 右孩子后入栈\n",
    "            if node.right:\n",
    "                stack.append(node.right)\n",
    "        # 将最终的数组翻转\n",
    "        return result[::-1]\n",
    "        \n",
    "\n",
    "if __name__ == '__main__':\n",
    "    s = Solution()\n",
    "    root_1 = TreeNode(1, None, TreeNode(2, TreeNode(3)))\n",
    "    print(s.postorderTraversal(root_1))\n",
    "    root_2 = TreeNode(1, None, TreeNode(2, TreeNode(3)))\n",
    "    print(s.non_recursion_postorder(root_2))"
   ]
  },
  {
   "cell_type": "markdown",
   "metadata": {},
   "source": [
    "## 非递归方式写出统一风格的三种遍历方式代码\n",
    "\n",
    "对于中序遍历来说，单单使用栈无法同时解决访问节点（遍历节点）和处理节点（将元素放进结果集）不一致的情况，那我们就将访问的节点放入栈中，把要处理的节点也放入栈中但是要做标记。\n",
    "\n",
    "具体做法为：把要处理的节点放入栈之后，紧接着放入一个空指针作为标记，这种方法也可以叫做标记法"
   ]
  },
  {
   "cell_type": "code",
   "execution_count": 5,
   "metadata": {},
   "outputs": [
    {
     "name": "stdout",
     "output_type": "stream",
     "text": [
      "[1, 2, 3]\n",
      "[1, 3, 2]\n",
      "[3, 2, 1]\n"
     ]
    }
   ],
   "source": [
    "class Solution:\n",
    "    def preorderTraversal(self, root: TreeNode) -> List[int]:\n",
    "        result = []\n",
    "        st= []\n",
    "        if root:\n",
    "            st.append(root)\n",
    "        while st:\n",
    "            node = st.pop()\n",
    "            if node != None:\n",
    "                if node.right: #右\n",
    "                    st.append(node.right)\n",
    "                if node.left: #左\n",
    "                    st.append(node.left)\n",
    "                st.append(node) #中\n",
    "                st.append(None)\n",
    "            else:\n",
    "                node = st.pop()\n",
    "                result.append(node.val)\n",
    "        return result\n",
    "\n",
    "    def inorderTraversal(self, root: TreeNode) -> List[int]:\n",
    "        result = []\n",
    "        st = []\n",
    "        if root:\n",
    "            st.append(root)\n",
    "        while st:\n",
    "            node = st.pop()\n",
    "            if node != None:\n",
    "                if node.right: #添加右节点（空节点不入栈）\n",
    "                    st.append(node.right)\n",
    "                \n",
    "                st.append(node) #添加中节点\n",
    "                st.append(None) #中节点访问过，但是还没有处理，加入空节点做为标记。\n",
    "                \n",
    "                if node.left: #添加左节点（空节点不入栈）\n",
    "                    st.append(node.left)\n",
    "            else: #只有遇到空节点的时候，才将下一个节点放进结果集\n",
    "                node = st.pop() #重新取出栈中元素\n",
    "                result.append(node.val) #加入到结果集\n",
    "        return result\n",
    "    \n",
    "    def postorderTraversal(self, root: TreeNode) -> List[int]:\n",
    "        result = []\n",
    "        st = []\n",
    "        if root:\n",
    "            st.append(root)\n",
    "        while st:\n",
    "            node = st.pop()\n",
    "            if node != None:\n",
    "                st.append(node) #中\n",
    "                st.append(None)\n",
    "                \n",
    "                if node.right: #右\n",
    "                    st.append(node.right)\n",
    "                if node.left: #左\n",
    "                    st.append(node.left)\n",
    "            else:\n",
    "                node = st.pop()\n",
    "                result.append(node.val)\n",
    "        return result\n",
    "\n",
    "if  __name__ == \"__main__\":\n",
    "    s = Solution()\n",
    "    root = TreeNode(1, None, TreeNode(2, TreeNode(3)))\n",
    "    print(s.preorderTraversal(root))\n",
    "    print(s.inorderTraversal(root))\n",
    "    print(s.postorderTraversal(root))"
   ]
  },
  {
   "cell_type": "markdown",
   "metadata": {},
   "source": [
    "# 二叉树层序遍历"
   ]
  },
  {
   "cell_type": "markdown",
   "metadata": {},
   "source": [
    "## 二叉树的层序遍历\n",
    "\n",
    "给你二叉树的根节点 root ，返回其节点值的 层序遍历 。 （即逐层地，从左到右访问所有节点）。\n",
    "\n",
    "链接：https://leetcode.cn/problems/binary-tree-level-order-traversal/"
   ]
  },
  {
   "cell_type": "code",
   "execution_count": 10,
   "metadata": {},
   "outputs": [
    {
     "name": "stdout",
     "output_type": "stream",
     "text": [
      "[[3], [9, 20], [15, 7]]\n",
      "[[3], [9, 20], [15, 7]]\n"
     ]
    }
   ],
   "source": [
    "class Solution:\n",
    "    def levelOrder(self, root: Optional[TreeNode]) -> List[List[int]]: # 长度法\n",
    "        if not root:\n",
    "            return []\n",
    "        queue = collections.deque([root]) # 创建一个双端队列，并将根节点放入队列中\n",
    "        result = []  \n",
    "        while queue: \n",
    "            level = [] # 用来存放每一层的节点值\n",
    "            for _ in range(len(queue)): \n",
    "                cur = queue.popleft() \n",
    "                level.append(cur.val) # 将当前节点值加入到level中\n",
    "                if cur.left: # 将当前节点的左右孩子加入到队列中\n",
    "                    queue.append(cur.left)\n",
    "                if cur.right:\n",
    "                    queue.append(cur.right)\n",
    "            result.append(level) \n",
    "        return result\n",
    "\n",
    "    def method_2(self, root: Optional[TreeNode]) -> List[List[int]]: # 递归法\n",
    "        levels = []\n",
    "        self.helper(root, 0, levels)\n",
    "        return levels\n",
    "    \n",
    "    def helper(self, node, level, levels): # 定义一个helper方法，输入参数为当前节点、当前层数和levels列表\n",
    "        if not node:\n",
    "            return\n",
    "        if len(levels) == level: # 如果当前层数等于levels列表的长度，说明当前层还没有被遍历到，需要添加一个空列表\n",
    "            levels.append([])\n",
    "        levels[level].append(node.val) # 将当前节点的值添加到levels列表中对应层数的列表中\n",
    "        self.helper(node.left, level + 1, levels) # 递归遍历左右子树\n",
    "        self.helper(node.right, level + 1, levels)\n",
    "\n",
    "if __name__ == '__main__':\n",
    "    s = Solution()\n",
    "    test_tree = TreeNode(3, TreeNode(9), TreeNode(20, TreeNode(15), TreeNode(7)))\n",
    "    print(s.levelOrder(test_tree))\n",
    "    print(s.method_2(test_tree))"
   ]
  },
  {
   "cell_type": "markdown",
   "metadata": {},
   "source": [
    "## 二叉树的层序遍历 II\n",
    "\n",
    "给你二叉树的根节点 root ，返回其节点值 自底向上的层序遍历 。 （即按从叶子节点所在层到根节点所在的层，逐层从左向右遍历）\n",
    "\n",
    "链接：https://leetcode.cn/problems/binary-tree-level-order-traversal-ii/"
   ]
  },
  {
   "cell_type": "code",
   "execution_count": 13,
   "metadata": {},
   "outputs": [
    {
     "name": "stdout",
     "output_type": "stream",
     "text": [
      "[[15, 7], [9, 20], [3]]\n"
     ]
    }
   ],
   "source": [
    "class Solution:\n",
    "    def levelOrderBottom(self, root: Optional[TreeNode]) -> List[List[int]]:\n",
    "        if not root:\n",
    "            return []\n",
    "        queue = collections.deque([root]) # 创建一个双端队列，并将根节点放入队列中\n",
    "        result = []  \n",
    "        while queue: \n",
    "            level = [] # 用来存放每一层的节点值\n",
    "            for _ in range(len(queue)): \n",
    "                cur = queue.popleft() \n",
    "                level.append(cur.val) # 将当前节点值加入到level中\n",
    "                if cur.left: # 将当前节点的左右孩子加入到队列中\n",
    "                    queue.append(cur.left)\n",
    "                if cur.right:\n",
    "                    queue.append(cur.right)\n",
    "            result.append(level) \n",
    "        return result[::-1] # 将最终的结果翻转\n",
    "\n",
    "if __name__ == '__main__':\n",
    "    s = Solution()\n",
    "    test_tree = TreeNode(3, TreeNode(9), TreeNode(20, TreeNode(15), TreeNode(7)))\n",
    "    print(s.levelOrderBottom(test_tree))"
   ]
  },
  {
   "cell_type": "markdown",
   "metadata": {},
   "source": [
    "## 二叉树的右视图\n",
    "\n",
    "给定一个二叉树的 根节点 root，想象自己站在它的右侧，按照从顶部到底部的顺序，返回从右侧所能看到的节点值\n",
    "\n",
    "链接：https://leetcode.cn/problems/binary-tree-right-side-view/"
   ]
  },
  {
   "cell_type": "code",
   "execution_count": 14,
   "metadata": {},
   "outputs": [
    {
     "name": "stdout",
     "output_type": "stream",
     "text": [
      "[3, 20, 7]\n"
     ]
    }
   ],
   "source": [
    "# 层序遍历的时候，判断是否遍历到单层的最后面的元素，如果是，就放进result数组中，随后返回result就可以了\n",
    "class Solution:\n",
    "    def rightSideView(self, root: Optional[TreeNode]) -> List[int]:\n",
    "        if not root:\n",
    "            return []\n",
    "        queue = collections.deque([root]) \n",
    "        right_side = []\n",
    "        while queue:\n",
    "            level_size = len(queue) # 记录当前层的节点个数\n",
    "            for i in range(level_size): # 遍历当前层的节点\n",
    "                node = queue.popleft() # 将当前层的节点依次出队\n",
    "                if i == level_size - 1: # 如果当前节点是当前层的最后一个节点，就将其加入到right_side数组中\n",
    "                    right_side.append(node.val)\n",
    "                if node.left:\n",
    "                    queue.append(node.left)\n",
    "                if node.right:\n",
    "                    queue.append(node.right)\n",
    "        return right_side\n",
    "\n",
    "if __name__ == '__main__':\n",
    "    s = Solution()\n",
    "    test_tree = TreeNode(3, TreeNode(9), TreeNode(20, TreeNode(15), TreeNode(7)))\n",
    "    print(s.rightSideView(test_tree))"
   ]
  },
  {
   "cell_type": "markdown",
   "metadata": {},
   "source": [
    "## 二叉树的层平均值\n",
    "\n",
    "给定一个非空二叉树的根节点 root , 以数组的形式返回每一层节点的平均值\n",
    "\n",
    "链接：https://leetcode.cn/problems/average-of-levels-in-binary-tree/"
   ]
  },
  {
   "cell_type": "code",
   "execution_count": 15,
   "metadata": {},
   "outputs": [
    {
     "name": "stdout",
     "output_type": "stream",
     "text": [
      "[3.0, 14.5, 11.0]\n"
     ]
    }
   ],
   "source": [
    "class Solution:\n",
    "    def averageOfLevels(self, root: Optional[TreeNode]) -> List[float]:\n",
    "        if not root:\n",
    "            return []\n",
    "        queue = collections.deque([root])\n",
    "        averages  = []\n",
    "\n",
    "        while queue:\n",
    "            size = len(queue) # 记录当前层的节点个数\n",
    "            level_sum = 0 \n",
    "            for i in range(size):\n",
    "                node = queue.popleft() \n",
    "                level_sum += node.val\n",
    "                    \n",
    "                if node.left: # 将当前节点的左右孩子加入到队列中\n",
    "                    queue.append(node.left)\n",
    "                if node.right:\n",
    "                    queue.append(node.right)\n",
    "            \n",
    "            averages.append(level_sum / size) # 将当前层的平均值加入到averages数组中\n",
    "        \n",
    "        return averages\n",
    "\n",
    "if __name__ == '__main__':\n",
    "    s = Solution()\n",
    "    test_tree = TreeNode(3, TreeNode(9), TreeNode(20, TreeNode(15), TreeNode(7)))\n",
    "    print(s.averageOfLevels(test_tree))"
   ]
  },
  {
   "cell_type": "markdown",
   "metadata": {},
   "source": [
    "## N 叉树的层序遍历\n",
    "\n",
    "给定一个 N 叉树，返回其节点值的层序遍历。（即从左到右，逐层遍历）\n",
    "\n",
    "树的序列化输入是用层序遍历，每组子节点都由 null 值分隔\n",
    "\n",
    "链接：https://leetcode.cn/problems/n-ary-tree-level-order-traversal/"
   ]
  },
  {
   "cell_type": "code",
   "execution_count": 19,
   "metadata": {},
   "outputs": [
    {
     "name": "stdout",
     "output_type": "stream",
     "text": [
      "[[1], [3, 2, 4], [5, 6]]\n"
     ]
    }
   ],
   "source": [
    "# Definition for a Node.\n",
    "class Node:\n",
    "    def __init__(self, val=None, children=None):\n",
    "        self.val = val\n",
    "        self.children = children\n",
    "\n",
    "class Solution:\n",
    "    def levelOrder(self, root: 'Node') -> List[List[int]]:\n",
    "        if not root:\n",
    "            return []\n",
    "        queue = collections.deque([root])\n",
    "        result = []\n",
    "\n",
    "        while queue:\n",
    "            level_size = len(queue)\n",
    "            level = []\n",
    "\n",
    "            for _ in range(level_size):\n",
    "                node = queue.popleft()\n",
    "                level.append(node.val)\n",
    "                if node.children is not None:\n",
    "                    for child in node.children:\n",
    "                        queue.append(child)\n",
    "            result.append(level)\n",
    "        \n",
    "        return result\n",
    "\n",
    "if __name__ == '__main__':\n",
    "    s = Solution()\n",
    "    test_tree = Node(1, [Node(3, [Node(5), Node(6)]), Node(2), Node(4)])\n",
    "    print(s.levelOrder(test_tree))\n",
    "\n",
    "        "
   ]
  },
  {
   "cell_type": "markdown",
   "metadata": {},
   "source": [
    "## 在每个树行中找最大值\n",
    "\n",
    "给定一棵二叉树的根节点 root ，请找出该二叉树中每一层的最大值\n",
    "\n",
    "链接：https://leetcode.cn/problems/find-largest-value-in-each-tree-row/"
   ]
  },
  {
   "cell_type": "code",
   "execution_count": 20,
   "metadata": {},
   "outputs": [
    {
     "name": "stdout",
     "output_type": "stream",
     "text": [
      "[1, 3, 9]\n"
     ]
    }
   ],
   "source": [
    "class Solution:\n",
    "    def largestValues(self, root: Optional[TreeNode]) -> List[int]:\n",
    "        if not root:\n",
    "            return []\n",
    "        queue = collections.deque([root])\n",
    "        result = []\n",
    "        while queue:\n",
    "            level_size = len(queue)\n",
    "            max_value = float('-inf')\n",
    "            for _ in range(level_size):\n",
    "                node = queue.popleft()\n",
    "                max_value = max(max_value, node.val)\n",
    "                if node.left:\n",
    "                    queue.append(node.left)\n",
    "                if node.right:\n",
    "                    queue.append(node.right)\n",
    "            result.append(max_value)\n",
    "        return result\n",
    "\n",
    "if __name__ == '__main__':\n",
    "    s = Solution()\n",
    "    test_tree = TreeNode(1, TreeNode(3, TreeNode(5), TreeNode(3)), TreeNode(2, None, TreeNode(9)))\n",
    "    print(s.largestValues(test_tree))"
   ]
  },
  {
   "cell_type": "markdown",
   "metadata": {},
   "source": [
    "## 填充每个节点的下一个右侧节点指针\n",
    "\n",
    "给定一个 完美二叉树 ，其所有叶子节点都在同一层，每个父节点都有两个子节点。二叉树定义如下：\n",
    "\n",
    "```\n",
    "struct Node {\n",
    "  int val;\n",
    "  Node *left;\n",
    "  Node *right;\n",
    "  Node *next;\n",
    "}\n",
    "```\n",
    "\n",
    "填充它的每个 next 指针，让这个指针指向其下一个右侧节点。如果找不到下一个右侧节点，则将 next 指针设置为 NULL。\n",
    "\n",
    "初始状态下，所有 next 指针都被设置为 NULL\n",
    "\n",
    "链接：https://leetcode.cn/problems/populating-next-right-pointers-in-each-node/"
   ]
  },
  {
   "cell_type": "code",
   "execution_count": 21,
   "metadata": {},
   "outputs": [
    {
     "name": "stdout",
     "output_type": "stream",
     "text": [
      "<__main__.Node object at 0x000001AD455C62B0>\n"
     ]
    }
   ],
   "source": [
    "# Definition for a Node.\n",
    "class Node:\n",
    "    def __init__(self, val: int = 0, left: 'Node' = None, right: 'Node' = None, next: 'Node' = None):\n",
    "        self.val = val\n",
    "        self.left = left\n",
    "        self.right = right\n",
    "        self.next = next\n",
    "\n",
    "class Solution:\n",
    "    def connect(self, root: 'Optional[Node]') -> 'Optional[Node]':\n",
    "        if not root:\n",
    "            return root\n",
    "        \n",
    "        queue = collections.deque([root])\n",
    "        \n",
    "        while queue:\n",
    "            level_size = len(queue)\n",
    "            prev = None # 记录前一个节点\n",
    "            \n",
    "            for i in range(level_size):\n",
    "                node = queue.popleft() \n",
    "                \n",
    "                if prev:\n",
    "                    prev.next = node # 将前一个节点的next指向当前节点\n",
    "                prev = node # 更新prev\n",
    "\n",
    "                if node.left:\n",
    "                    queue.append(node.left)\n",
    "                if node.right:\n",
    "                    queue.append(node.right)\n",
    "        \n",
    "        return root\n",
    "\n",
    "if __name__ == '__main__':\n",
    "    s = Solution()\n",
    "    test_tree = Node(1, Node(2, Node(4), Node(5)), Node(3, Node(6), Node(7)))\n",
    "    print(s.connect(test_tree))"
   ]
  },
  {
   "cell_type": "markdown",
   "metadata": {},
   "source": [
    "## 填充每个节点的下一个右侧节点指针 II\n",
    "\n",
    "给定一个二叉树：\n",
    "\n",
    "```\n",
    "struct Node {\n",
    "  int val;\n",
    "  Node *left;\n",
    "  Node *right;\n",
    "  Node *next;\n",
    "}\n",
    "```\n",
    "\n",
    "填充它的每个 next 指针，让这个指针指向其下一个右侧节点。如果找不到下一个右侧节点，则将 next 指针设置为 NULL 。\n",
    "\n",
    "初始状态下，所有 next 指针都被设置为 NULL\n",
    "\n",
    "链接：https://leetcode.cn/problems/populating-next-right-pointers-in-each-node-ii/"
   ]
  },
  {
   "cell_type": "code",
   "execution_count": 22,
   "metadata": {},
   "outputs": [
    {
     "name": "stdout",
     "output_type": "stream",
     "text": [
      "<__main__.Node object at 0x000001AD456E8E20>\n"
     ]
    }
   ],
   "source": [
    "# 这道题目说是二叉树，上题说的是完美二叉树，其实没有任何差别，一样的代码一样的逻辑\n",
    "\n",
    "# Definition for a Node.\n",
    "class Node:\n",
    "    def __init__(self, val: int = 0, left: 'Node' = None, right: 'Node' = None, next: 'Node' = None):\n",
    "        self.val = val\n",
    "        self.left = left\n",
    "        self.right = right\n",
    "        self.next = next\n",
    "\n",
    "class Solution:\n",
    "    def connect(self, root: 'Node') -> 'Node':\n",
    "        if not root:\n",
    "            return root\n",
    "        \n",
    "        queue = collections.deque([root])\n",
    "        \n",
    "        while queue:\n",
    "            level_size = len(queue)\n",
    "            prev = None # 记录前一个节点\n",
    "            \n",
    "            for i in range(level_size):\n",
    "                node = queue.popleft() \n",
    "                \n",
    "                if prev:\n",
    "                    prev.next = node # 将前一个节点的next指向当前节点\n",
    "                prev = node # 更新prev\n",
    "\n",
    "                if node.left:\n",
    "                    queue.append(node.left)\n",
    "                if node.right:\n",
    "                    queue.append(node.right)\n",
    "        \n",
    "        return root\n",
    "\n",
    "if __name__ == '__main__':\n",
    "    s = Solution()\n",
    "    test_tree = Node(1, Node(2, Node(4), Node(5)), Node(3, Node(6), Node(7)))\n",
    "    print(s.connect(test_tree))\n",
    "        "
   ]
  },
  {
   "cell_type": "markdown",
   "metadata": {},
   "source": [
    "## 二叉树的最大深度\n",
    "\n",
    "给定一个二叉树 root ，返回其最大深度。\n",
    "\n",
    "二叉树的 最大深度 是指从根节点到最远叶子节点的最长路径上的节点数\n",
    "\n",
    "链接：https://leetcode.cn/problems/maximum-depth-of-binary-tree/"
   ]
  },
  {
   "cell_type": "code",
   "execution_count": 23,
   "metadata": {},
   "outputs": [
    {
     "name": "stdout",
     "output_type": "stream",
     "text": [
      "3\n"
     ]
    }
   ],
   "source": [
    "class Solution:\n",
    "    def maxDepth(self, root: Optional[TreeNode]) -> int:\n",
    "        if not root:\n",
    "            return 0\n",
    "        \n",
    "        depth = 0\n",
    "        queue = collections.deque([root])\n",
    "\n",
    "        while queue:\n",
    "            depth += 1\n",
    "            level_size = len(queue)\n",
    "            for _ in range(level_size):\n",
    "                node = queue.popleft()\n",
    "                if node.left:\n",
    "                    queue.append(node.left)\n",
    "                if node.right:\n",
    "                    queue.append(node.right)\n",
    "        return depth\n",
    "\n",
    "if __name__ == '__main__':\n",
    "    s = Solution()\n",
    "    test_tree = TreeNode(3, TreeNode(9), TreeNode(20, TreeNode(15), TreeNode(7)))\n",
    "    print(s.maxDepth(test_tree))"
   ]
  },
  {
   "cell_type": "markdown",
   "metadata": {},
   "source": [
    "## 二叉树的最小深度\n",
    "\n",
    "给定一个二叉树，找出其最小深度。\n",
    "\n",
    "最小深度是从根节点到最近叶子节点的最短路径上的节点数量。\n",
    "\n",
    "说明：叶子节点是指没有子节点的节点\n",
    "\n",
    "链接：https://leetcode.cn/problems/minimum-depth-of-binary-tree/"
   ]
  },
  {
   "cell_type": "code",
   "execution_count": 24,
   "metadata": {},
   "outputs": [
    {
     "name": "stdout",
     "output_type": "stream",
     "text": [
      "2\n"
     ]
    }
   ],
   "source": [
    "# 相对于 [二叉树的最大深度]，本题还也可以使用层序遍历的方式来解决，思路是一样的。但不同的是，当左右孩子都为空的时候，说明遍历到了最小深度\n",
    "\n",
    "class Solution:\n",
    "    def minDepth(self, root: Optional[TreeNode]) -> int:\n",
    "        if not root:\n",
    "            return 0\n",
    "\n",
    "        depth = 0\n",
    "        queue = collections.deque([root])\n",
    "\n",
    "        while queue:\n",
    "            depth += 1\n",
    "            for _ in range(len(queue)):\n",
    "                node = queue.popleft()\n",
    "                \n",
    "                if not node.left and not node.right: # 如果当前节点的左右孩子都为空，说明遍历到了最小深度\n",
    "                    return depth\n",
    "                \n",
    "                if node.left:\n",
    "                    queue.append(node.left)\n",
    "                if node.right:\n",
    "                    queue.append(node.right)\n",
    "            \n",
    "\n",
    "if __name__ == '__main__':\n",
    "    s = Solution()\n",
    "    test_tree = TreeNode(3, TreeNode(9), TreeNode(20, TreeNode(15), TreeNode(7)))\n",
    "    print(s.minDepth(test_tree))\n"
   ]
  }
 ],
 "metadata": {
  "kernelspec": {
   "display_name": "goodjob",
   "language": "python",
   "name": "python3"
  },
  "language_info": {
   "codemirror_mode": {
    "name": "ipython",
    "version": 3
   },
   "file_extension": ".py",
   "mimetype": "text/x-python",
   "name": "python",
   "nbconvert_exporter": "python",
   "pygments_lexer": "ipython3",
   "version": "3.9.16"
  },
  "orig_nbformat": 4
 },
 "nbformat": 4,
 "nbformat_minor": 2
}
