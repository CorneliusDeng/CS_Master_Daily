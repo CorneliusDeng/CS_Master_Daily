{
 "cells": [
  {
   "cell_type": "code",
   "execution_count": 36,
   "metadata": {},
   "outputs": [],
   "source": [
    "class TreeNode:\n",
    "    def __init__(self, val, left = None, right = None):\n",
    "        self.val = val\n",
    "        self.left = left\n",
    "        self.right = right\n",
    "\n",
    "from typing import List, Optional\n",
    "import collections\n",
    "from collections import deque"
   ]
  },
  {
   "cell_type": "markdown",
   "metadata": {},
   "source": [
    "# 二叉树遍历"
   ]
  },
  {
   "cell_type": "markdown",
   "metadata": {},
   "source": [
    "## 二叉树的前序遍历\n",
    "\n",
    "给你二叉树的根节点 root ，返回它节点值的 前序 遍历\n",
    "\n",
    "链接：https://leetcode.cn/problems/binary-tree-preorder-traversal/"
   ]
  },
  {
   "cell_type": "code",
   "execution_count": 37,
   "metadata": {},
   "outputs": [
    {
     "name": "stdout",
     "output_type": "stream",
     "text": [
      "[1, 2, 3]\n",
      "[1, 2, 3]\n"
     ]
    }
   ],
   "source": [
    "class Solution:\n",
    "    def preorderTraversal(self, root: TreeNode) -> List[int]:\n",
    "        if not root:\n",
    "            return []\n",
    "        left = self.preorderTraversal(root.left)\n",
    "        right = self.preorderTraversal(root.right)\n",
    "\n",
    "        return  [root.val] + left +  right\n",
    "\n",
    "    def non_recursion_preorder(self, root: TreeNode) -> List[int]:\n",
    "        # 前序遍历是中左右，每次先处理的是中间节点，那么先将根节点放入栈中，然后将右孩子加入栈，再加入左孩子\n",
    "        if not root:\n",
    "            return []\n",
    "        stack = [root] # 前序遍历的访问顺序和处理顺序是一致的，因此可以先将根节点放入栈中\n",
    "        result = []\n",
    "        while stack:\n",
    "            node = stack.pop()\n",
    "            # 中结点先处理\n",
    "            result.append(node.val)\n",
    "            # 右孩子先入栈\n",
    "            if node.right:\n",
    "                stack.append(node.right)\n",
    "            # 左孩子后入栈\n",
    "            if node.left:\n",
    "                stack.append(node.left)\n",
    "        return result\n",
    "\n",
    "if __name__ == '__main__':\n",
    "    s = Solution()\n",
    "    root_1 = TreeNode(1, None, TreeNode(2, TreeNode(3)))\n",
    "    print(s.preorderTraversal(root_1))\n",
    "    root_2 = TreeNode(1, None, TreeNode(2, TreeNode(3)))\n",
    "    print(s.non_recursion_preorder(root_2))"
   ]
  },
  {
   "cell_type": "markdown",
   "metadata": {},
   "source": [
    "## 二叉树的中序遍历\n",
    "\n",
    "给定一个二叉树的根节点 root ，返回 它的 中序 遍历 。\n",
    "\n",
    "链接：https://leetcode.cn/problems/binary-tree-inorder-traversal/"
   ]
  },
  {
   "cell_type": "code",
   "execution_count": 38,
   "metadata": {},
   "outputs": [
    {
     "name": "stdout",
     "output_type": "stream",
     "text": [
      "[1, 3, 2]\n",
      "[1, 3, 2]\n"
     ]
    }
   ],
   "source": [
    "class Solution:\n",
    "    def inorderTraversal(self, root: Optional[TreeNode]) -> List[int]:\n",
    "        if root is None:\n",
    "            return []\n",
    "        left = self.inorderTraversal(root.left)\n",
    "        right = self.inorderTraversal(root.right)\n",
    "\n",
    "        return left + [root.val] + right\n",
    "\n",
    "    def non_recursion_inorder(self, root: Optional[TreeNode]) -> List[int]:\n",
    "        if not root:\n",
    "            return []\n",
    "        stack = []  # 不能提前将root结点加入stack中\n",
    "        result = []\n",
    "        cur = root # 借用指针的遍历来帮助访问节点，栈则用来处理节点上的元素\n",
    "        while cur or stack:\n",
    "            # 先迭代访问最底层的左子树结点\n",
    "            if cur:     \n",
    "                stack.append(cur)\n",
    "                cur = cur.left\t\t\n",
    "            # 到达最左结点后处理栈顶结点    \n",
    "            else:\t\t\n",
    "                cur = stack.pop()\n",
    "                result.append(cur.val)\n",
    "                # 取栈顶元素右结点\n",
    "                cur = cur.right\t\n",
    "        return result\n",
    "\n",
    "\n",
    "if __name__ == '__main__':\n",
    "    s = Solution()\n",
    "    root_1 = TreeNode(1, None, TreeNode(2, TreeNode(3)))\n",
    "    print(s.inorderTraversal(root_1))\n",
    "    root_2 = TreeNode(1, None, TreeNode(2, TreeNode(3)))\n",
    "    print(s.non_recursion_inorder(root_2))\n",
    "        "
   ]
  },
  {
   "cell_type": "markdown",
   "metadata": {},
   "source": [
    "## 二叉树的后序遍历\n",
    "\n",
    "给你一棵二叉树的根节点 root ，返回其节点值的 后序遍历 \n",
    "\n",
    "https://leetcode.cn/problems/binary-tree-postorder-traversal/"
   ]
  },
  {
   "cell_type": "code",
   "execution_count": 39,
   "metadata": {},
   "outputs": [
    {
     "name": "stdout",
     "output_type": "stream",
     "text": [
      "[3, 2, 1]\n",
      "[3, 2, 1]\n"
     ]
    }
   ],
   "source": [
    "class Solution:\n",
    "    def postorderTraversal(self, root: Optional[TreeNode]) -> List[int]:\n",
    "        if root is None:\n",
    "            return []\n",
    "        left = self.postorderTraversal(root.left)\n",
    "        right = self.postorderTraversal(root.right)\n",
    "\n",
    "        return left + right + [root.val]\n",
    "    \n",
    "    def non_recursion_postorder(self, root: Optional[TreeNode]) -> List[int]:\n",
    "        # 先序遍历是中左右，后续遍历是左右中，需要调整一下先序遍历的代码顺序，就变成中右左的遍历顺序，然后在反转result数组，输出的结果顺序就是左右中\n",
    "        if not root:\n",
    "           return []\n",
    "        stack = [root]\n",
    "        result = []\n",
    "        while stack:\n",
    "            node = stack.pop()\n",
    "            # 中结点先处理\n",
    "            result.append(node.val)\n",
    "            # 左孩子先入栈\n",
    "            if node.left:\n",
    "                stack.append(node.left)\n",
    "            # 右孩子后入栈\n",
    "            if node.right:\n",
    "                stack.append(node.right)\n",
    "        # 将最终的数组翻转\n",
    "        return result[::-1]\n",
    "        \n",
    "\n",
    "if __name__ == '__main__':\n",
    "    s = Solution()\n",
    "    root_1 = TreeNode(1, None, TreeNode(2, TreeNode(3)))\n",
    "    print(s.postorderTraversal(root_1))\n",
    "    root_2 = TreeNode(1, None, TreeNode(2, TreeNode(3)))\n",
    "    print(s.non_recursion_postorder(root_2))"
   ]
  },
  {
   "cell_type": "markdown",
   "metadata": {},
   "source": [
    "## 非递归方式写出统一风格的三种遍历方式代码\n",
    "\n",
    "对于中序遍历来说，单单使用栈无法同时解决访问节点（遍历节点）和处理节点（将元素放进结果集）不一致的情况，那我们就将访问的节点放入栈中，把要处理的节点也放入栈中但是要做标记。\n",
    "\n",
    "具体做法为：把要处理的节点放入栈之后，紧接着放入一个空指针作为标记，这种方法也可以叫做标记法"
   ]
  },
  {
   "cell_type": "code",
   "execution_count": 40,
   "metadata": {},
   "outputs": [
    {
     "name": "stdout",
     "output_type": "stream",
     "text": [
      "[1, 2, 3]\n",
      "[1, 3, 2]\n",
      "[3, 2, 1]\n"
     ]
    }
   ],
   "source": [
    "class Solution:\n",
    "    def preorderTraversal(self, root: TreeNode) -> List[int]:\n",
    "        result = []\n",
    "        st= []\n",
    "        if root:\n",
    "            st.append(root)\n",
    "        while st:\n",
    "            node = st.pop()\n",
    "            if node != None:\n",
    "                if node.right: #右\n",
    "                    st.append(node.right)\n",
    "                if node.left: #左\n",
    "                    st.append(node.left)\n",
    "                st.append(node) #中\n",
    "                st.append(None)\n",
    "            else:\n",
    "                node = st.pop()\n",
    "                result.append(node.val)\n",
    "        return result\n",
    "\n",
    "    def inorderTraversal(self, root: TreeNode) -> List[int]:\n",
    "        result = []\n",
    "        st = []\n",
    "        if root:\n",
    "            st.append(root)\n",
    "        while st:\n",
    "            node = st.pop()\n",
    "            if node != None:\n",
    "                if node.right: #添加右节点（空节点不入栈）\n",
    "                    st.append(node.right)\n",
    "                \n",
    "                st.append(node) #添加中节点\n",
    "                st.append(None) #中节点访问过，但是还没有处理，加入空节点做为标记。\n",
    "                \n",
    "                if node.left: #添加左节点（空节点不入栈）\n",
    "                    st.append(node.left)\n",
    "            else: #只有遇到空节点的时候，才将下一个节点放进结果集\n",
    "                node = st.pop() #重新取出栈中元素\n",
    "                result.append(node.val) #加入到结果集\n",
    "        return result\n",
    "    \n",
    "    def postorderTraversal(self, root: TreeNode) -> List[int]:\n",
    "        result = []\n",
    "        st = []\n",
    "        if root:\n",
    "            st.append(root)\n",
    "        while st:\n",
    "            node = st.pop()\n",
    "            if node != None:\n",
    "                st.append(node) #中\n",
    "                st.append(None)\n",
    "                \n",
    "                if node.right: #右\n",
    "                    st.append(node.right)\n",
    "                if node.left: #左\n",
    "                    st.append(node.left)\n",
    "            else:\n",
    "                node = st.pop()\n",
    "                result.append(node.val)\n",
    "        return result\n",
    "\n",
    "if  __name__ == \"__main__\":\n",
    "    s = Solution()\n",
    "    root = TreeNode(1, None, TreeNode(2, TreeNode(3)))\n",
    "    print(s.preorderTraversal(root))\n",
    "    print(s.inorderTraversal(root))\n",
    "    print(s.postorderTraversal(root))"
   ]
  },
  {
   "cell_type": "markdown",
   "metadata": {},
   "source": [
    "# 二叉树层序遍历"
   ]
  },
  {
   "cell_type": "markdown",
   "metadata": {},
   "source": [
    "## 二叉树的层序遍历\n",
    "\n",
    "给你二叉树的根节点 root ，返回其节点值的 层序遍历 。 （即逐层地，从左到右访问所有节点）。\n",
    "\n",
    "链接：https://leetcode.cn/problems/binary-tree-level-order-traversal/"
   ]
  },
  {
   "cell_type": "code",
   "execution_count": 41,
   "metadata": {},
   "outputs": [
    {
     "name": "stdout",
     "output_type": "stream",
     "text": [
      "[[3], [9, 20], [15, 7]]\n",
      "[[3], [9, 20], [15, 7]]\n"
     ]
    }
   ],
   "source": [
    "class Solution:\n",
    "    def levelOrder(self, root: Optional[TreeNode]) -> List[List[int]]: # 长度法\n",
    "        if not root:\n",
    "            return []\n",
    "        queue = collections.deque([root]) # 创建一个双端队列，并将根节点放入队列中\n",
    "        result = []  \n",
    "        while queue: \n",
    "            level = [] # 用来存放每一层的节点值\n",
    "            for _ in range(len(queue)): \n",
    "                cur = queue.popleft() \n",
    "                level.append(cur.val) # 将当前节点值加入到level中\n",
    "                if cur.left: # 将当前节点的左右孩子加入到队列中\n",
    "                    queue.append(cur.left)\n",
    "                if cur.right:\n",
    "                    queue.append(cur.right)\n",
    "            result.append(level) \n",
    "        return result\n",
    "\n",
    "    def method_2(self, root: Optional[TreeNode]) -> List[List[int]]: # 递归法\n",
    "        levels = []\n",
    "        self.helper(root, 0, levels)\n",
    "        return levels\n",
    "    \n",
    "    def helper(self, node, level, levels): # 定义一个helper方法，输入参数为当前节点、当前层数和levels列表\n",
    "        if not node:\n",
    "            return\n",
    "        if len(levels) == level: # 如果当前层数等于levels列表的长度，说明当前层还没有被遍历到，需要添加一个空列表\n",
    "            levels.append([])\n",
    "        levels[level].append(node.val) # 将当前节点的值添加到levels列表中对应层数的列表中\n",
    "        self.helper(node.left, level + 1, levels) # 递归遍历左右子树\n",
    "        self.helper(node.right, level + 1, levels)\n",
    "\n",
    "if __name__ == '__main__':\n",
    "    s = Solution()\n",
    "    test_tree = TreeNode(3, TreeNode(9), TreeNode(20, TreeNode(15), TreeNode(7)))\n",
    "    print(s.levelOrder(test_tree))\n",
    "    print(s.method_2(test_tree))"
   ]
  },
  {
   "cell_type": "markdown",
   "metadata": {},
   "source": [
    "## 二叉树的层序遍历 II\n",
    "\n",
    "给你二叉树的根节点 root ，返回其节点值 自底向上的层序遍历 。 （即按从叶子节点所在层到根节点所在的层，逐层从左向右遍历）\n",
    "\n",
    "链接：https://leetcode.cn/problems/binary-tree-level-order-traversal-ii/"
   ]
  },
  {
   "cell_type": "code",
   "execution_count": 42,
   "metadata": {},
   "outputs": [
    {
     "name": "stdout",
     "output_type": "stream",
     "text": [
      "[[15, 7], [9, 20], [3]]\n"
     ]
    }
   ],
   "source": [
    "class Solution:\n",
    "    def levelOrderBottom(self, root: Optional[TreeNode]) -> List[List[int]]:\n",
    "        if not root:\n",
    "            return []\n",
    "        queue = collections.deque([root]) # 创建一个双端队列，并将根节点放入队列中\n",
    "        result = []  \n",
    "        while queue: \n",
    "            level = [] # 用来存放每一层的节点值\n",
    "            for _ in range(len(queue)): \n",
    "                cur = queue.popleft() \n",
    "                level.append(cur.val) # 将当前节点值加入到level中\n",
    "                if cur.left: # 将当前节点的左右孩子加入到队列中\n",
    "                    queue.append(cur.left)\n",
    "                if cur.right:\n",
    "                    queue.append(cur.right)\n",
    "            result.append(level) \n",
    "        return result[::-1] # 将最终的结果翻转\n",
    "\n",
    "if __name__ == '__main__':\n",
    "    s = Solution()\n",
    "    test_tree = TreeNode(3, TreeNode(9), TreeNode(20, TreeNode(15), TreeNode(7)))\n",
    "    print(s.levelOrderBottom(test_tree))"
   ]
  },
  {
   "cell_type": "markdown",
   "metadata": {},
   "source": [
    "## 二叉树的右视图\n",
    "\n",
    "给定一个二叉树的 根节点 root，想象自己站在它的右侧，按照从顶部到底部的顺序，返回从右侧所能看到的节点值\n",
    "\n",
    "链接：https://leetcode.cn/problems/binary-tree-right-side-view/"
   ]
  },
  {
   "cell_type": "code",
   "execution_count": 43,
   "metadata": {},
   "outputs": [
    {
     "name": "stdout",
     "output_type": "stream",
     "text": [
      "[3, 20, 7]\n"
     ]
    }
   ],
   "source": [
    "# 层序遍历的时候，判断是否遍历到单层的最后面的元素，如果是，就放进result数组中，随后返回result就可以了\n",
    "class Solution:\n",
    "    def rightSideView(self, root: Optional[TreeNode]) -> List[int]:\n",
    "        if not root:\n",
    "            return []\n",
    "        queue = collections.deque([root]) \n",
    "        right_side = []\n",
    "        while queue:\n",
    "            level_size = len(queue) # 记录当前层的节点个数\n",
    "            for i in range(level_size): # 遍历当前层的节点\n",
    "                node = queue.popleft() # 将当前层的节点依次出队\n",
    "                if i == level_size - 1: # 如果当前节点是当前层的最后一个节点，就将其加入到right_side数组中\n",
    "                    right_side.append(node.val)\n",
    "                if node.left:\n",
    "                    queue.append(node.left)\n",
    "                if node.right:\n",
    "                    queue.append(node.right)\n",
    "        return right_side\n",
    "\n",
    "if __name__ == '__main__':\n",
    "    s = Solution()\n",
    "    test_tree = TreeNode(3, TreeNode(9), TreeNode(20, TreeNode(15), TreeNode(7)))\n",
    "    print(s.rightSideView(test_tree))"
   ]
  },
  {
   "cell_type": "markdown",
   "metadata": {},
   "source": [
    "## 二叉树的层平均值\n",
    "\n",
    "给定一个非空二叉树的根节点 root , 以数组的形式返回每一层节点的平均值\n",
    "\n",
    "链接：https://leetcode.cn/problems/average-of-levels-in-binary-tree/"
   ]
  },
  {
   "cell_type": "code",
   "execution_count": 44,
   "metadata": {},
   "outputs": [
    {
     "name": "stdout",
     "output_type": "stream",
     "text": [
      "[3.0, 14.5, 11.0]\n"
     ]
    }
   ],
   "source": [
    "class Solution:\n",
    "    def averageOfLevels(self, root: Optional[TreeNode]) -> List[float]:\n",
    "        if not root:\n",
    "            return []\n",
    "        queue = collections.deque([root])\n",
    "        averages  = []\n",
    "\n",
    "        while queue:\n",
    "            size = len(queue) # 记录当前层的节点个数\n",
    "            level_sum = 0 \n",
    "            for i in range(size):\n",
    "                node = queue.popleft() \n",
    "                level_sum += node.val\n",
    "                    \n",
    "                if node.left: # 将当前节点的左右孩子加入到队列中\n",
    "                    queue.append(node.left)\n",
    "                if node.right:\n",
    "                    queue.append(node.right)\n",
    "            \n",
    "            averages.append(level_sum / size) # 将当前层的平均值加入到averages数组中\n",
    "        \n",
    "        return averages\n",
    "\n",
    "if __name__ == '__main__':\n",
    "    s = Solution()\n",
    "    test_tree = TreeNode(3, TreeNode(9), TreeNode(20, TreeNode(15), TreeNode(7)))\n",
    "    print(s.averageOfLevels(test_tree))"
   ]
  },
  {
   "cell_type": "markdown",
   "metadata": {},
   "source": [
    "## N 叉树的层序遍历\n",
    "\n",
    "给定一个 N 叉树，返回其节点值的层序遍历。（即从左到右，逐层遍历）\n",
    "\n",
    "树的序列化输入是用层序遍历，每组子节点都由 null 值分隔\n",
    "\n",
    "链接：https://leetcode.cn/problems/n-ary-tree-level-order-traversal/"
   ]
  },
  {
   "cell_type": "code",
   "execution_count": 45,
   "metadata": {},
   "outputs": [
    {
     "name": "stdout",
     "output_type": "stream",
     "text": [
      "[[1], [3, 2, 4], [5, 6]]\n"
     ]
    }
   ],
   "source": [
    "# Definition for a Node.\n",
    "class Node:\n",
    "    def __init__(self, val=None, children=None):\n",
    "        self.val = val\n",
    "        self.children = children\n",
    "\n",
    "class Solution:\n",
    "    def levelOrder(self, root: 'Node') -> List[List[int]]:\n",
    "        if not root:\n",
    "            return []\n",
    "        queue = collections.deque([root])\n",
    "        result = []\n",
    "\n",
    "        while queue:\n",
    "            level_size = len(queue)\n",
    "            level = []\n",
    "\n",
    "            for _ in range(level_size):\n",
    "                node = queue.popleft()\n",
    "                level.append(node.val)\n",
    "                if node.children is not None:\n",
    "                    for child in node.children:\n",
    "                        queue.append(child)\n",
    "            result.append(level)\n",
    "        \n",
    "        return result\n",
    "\n",
    "if __name__ == '__main__':\n",
    "    s = Solution()\n",
    "    test_tree = Node(1, [Node(3, [Node(5), Node(6)]), Node(2), Node(4)])\n",
    "    print(s.levelOrder(test_tree))\n",
    "\n",
    "        "
   ]
  },
  {
   "cell_type": "markdown",
   "metadata": {},
   "source": [
    "## 在每个树行中找最大值\n",
    "\n",
    "给定一棵二叉树的根节点 root ，请找出该二叉树中每一层的最大值\n",
    "\n",
    "链接：https://leetcode.cn/problems/find-largest-value-in-each-tree-row/"
   ]
  },
  {
   "cell_type": "code",
   "execution_count": 46,
   "metadata": {},
   "outputs": [
    {
     "name": "stdout",
     "output_type": "stream",
     "text": [
      "[1, 3, 9]\n"
     ]
    }
   ],
   "source": [
    "class Solution:\n",
    "    def largestValues(self, root: Optional[TreeNode]) -> List[int]:\n",
    "        if not root:\n",
    "            return []\n",
    "        queue = collections.deque([root])\n",
    "        result = []\n",
    "        while queue:\n",
    "            level_size = len(queue)\n",
    "            max_value = float('-inf')\n",
    "            for _ in range(level_size):\n",
    "                node = queue.popleft()\n",
    "                max_value = max(max_value, node.val)\n",
    "                if node.left:\n",
    "                    queue.append(node.left)\n",
    "                if node.right:\n",
    "                    queue.append(node.right)\n",
    "            result.append(max_value)\n",
    "        return result\n",
    "\n",
    "if __name__ == '__main__':\n",
    "    s = Solution()\n",
    "    test_tree = TreeNode(1, TreeNode(3, TreeNode(5), TreeNode(3)), TreeNode(2, None, TreeNode(9)))\n",
    "    print(s.largestValues(test_tree))"
   ]
  },
  {
   "cell_type": "markdown",
   "metadata": {},
   "source": [
    "## 填充每个节点的下一个右侧节点指针\n",
    "\n",
    "给定一个 完美二叉树 ，其所有叶子节点都在同一层，每个父节点都有两个子节点。二叉树定义如下：\n",
    "\n",
    "```\n",
    "struct Node {\n",
    "  int val;\n",
    "  Node *left;\n",
    "  Node *right;\n",
    "  Node *next;\n",
    "}\n",
    "```\n",
    "\n",
    "填充它的每个 next 指针，让这个指针指向其下一个右侧节点。如果找不到下一个右侧节点，则将 next 指针设置为 NULL。\n",
    "\n",
    "初始状态下，所有 next 指针都被设置为 NULL\n",
    "\n",
    "链接：https://leetcode.cn/problems/populating-next-right-pointers-in-each-node/"
   ]
  },
  {
   "cell_type": "code",
   "execution_count": 47,
   "metadata": {},
   "outputs": [
    {
     "name": "stdout",
     "output_type": "stream",
     "text": [
      "<__main__.Node object at 0x7fc7e887bac0>\n"
     ]
    }
   ],
   "source": [
    "# Definition for a Node.\n",
    "class Node:\n",
    "    def __init__(self, val: int = 0, left: 'Node' = None, right: 'Node' = None, next: 'Node' = None):\n",
    "        self.val = val\n",
    "        self.left = left\n",
    "        self.right = right\n",
    "        self.next = next\n",
    "\n",
    "class Solution:\n",
    "    def connect(self, root: 'Optional[Node]') -> 'Optional[Node]':\n",
    "        if not root:\n",
    "            return root\n",
    "        \n",
    "        queue = collections.deque([root])\n",
    "        \n",
    "        while queue:\n",
    "            level_size = len(queue)\n",
    "            prev = None # 记录前一个节点\n",
    "            \n",
    "            for i in range(level_size):\n",
    "                node = queue.popleft() \n",
    "                \n",
    "                if prev:\n",
    "                    prev.next = node # 将前一个节点的next指向当前节点\n",
    "                prev = node # 更新prev\n",
    "\n",
    "                if node.left:\n",
    "                    queue.append(node.left)\n",
    "                if node.right:\n",
    "                    queue.append(node.right)\n",
    "        \n",
    "        return root\n",
    "\n",
    "if __name__ == '__main__':\n",
    "    s = Solution()\n",
    "    test_tree = Node(1, Node(2, Node(4), Node(5)), Node(3, Node(6), Node(7)))\n",
    "    print(s.connect(test_tree))"
   ]
  },
  {
   "cell_type": "markdown",
   "metadata": {},
   "source": [
    "## 填充每个节点的下一个右侧节点指针 II\n",
    "\n",
    "给定一个二叉树：\n",
    "\n",
    "```\n",
    "struct Node {\n",
    "  int val;\n",
    "  Node *left;\n",
    "  Node *right;\n",
    "  Node *next;\n",
    "}\n",
    "```\n",
    "\n",
    "填充它的每个 next 指针，让这个指针指向其下一个右侧节点。如果找不到下一个右侧节点，则将 next 指针设置为 NULL 。\n",
    "\n",
    "初始状态下，所有 next 指针都被设置为 NULL\n",
    "\n",
    "链接：https://leetcode.cn/problems/populating-next-right-pointers-in-each-node-ii/"
   ]
  },
  {
   "cell_type": "code",
   "execution_count": 48,
   "metadata": {},
   "outputs": [
    {
     "name": "stdout",
     "output_type": "stream",
     "text": [
      "<__main__.Node object at 0x7fc8186e69a0>\n"
     ]
    }
   ],
   "source": [
    "# 这道题目说是二叉树，上题说的是完美二叉树，其实没有任何差别，一样的代码一样的逻辑\n",
    "\n",
    "# Definition for a Node.\n",
    "class Node:\n",
    "    def __init__(self, val: int = 0, left: 'Node' = None, right: 'Node' = None, next: 'Node' = None):\n",
    "        self.val = val\n",
    "        self.left = left\n",
    "        self.right = right\n",
    "        self.next = next\n",
    "\n",
    "class Solution:\n",
    "    def connect(self, root: 'Node') -> 'Node':\n",
    "        if not root:\n",
    "            return root\n",
    "        \n",
    "        queue = collections.deque([root])\n",
    "        \n",
    "        while queue:\n",
    "            level_size = len(queue)\n",
    "            prev = None # 记录前一个节点\n",
    "            \n",
    "            for i in range(level_size):\n",
    "                node = queue.popleft() \n",
    "                \n",
    "                if prev:\n",
    "                    prev.next = node # 将前一个节点的next指向当前节点\n",
    "                prev = node # 更新prev\n",
    "\n",
    "                if node.left:\n",
    "                    queue.append(node.left)\n",
    "                if node.right:\n",
    "                    queue.append(node.right)\n",
    "        \n",
    "        return root\n",
    "\n",
    "if __name__ == '__main__':\n",
    "    s = Solution()\n",
    "    test_tree = Node(1, Node(2, Node(4), Node(5)), Node(3, Node(6), Node(7)))\n",
    "    print(s.connect(test_tree))\n",
    "        "
   ]
  },
  {
   "cell_type": "markdown",
   "metadata": {},
   "source": [
    "## 二叉树的最大深度\n",
    "\n",
    "给定一个二叉树 root ，返回其最大深度。\n",
    "\n",
    "二叉树的 最大深度 是指从根节点到最远叶子节点的最长路径上的节点数\n",
    "\n",
    "链接：https://leetcode.cn/problems/maximum-depth-of-binary-tree/"
   ]
  },
  {
   "cell_type": "code",
   "execution_count": 49,
   "metadata": {},
   "outputs": [
    {
     "name": "stdout",
     "output_type": "stream",
     "text": [
      "3\n"
     ]
    }
   ],
   "source": [
    "class Solution:\n",
    "    def maxDepth(self, root: Optional[TreeNode]) -> int:\n",
    "        if not root:\n",
    "            return 0\n",
    "        \n",
    "        depth = 0\n",
    "        queue = collections.deque([root])\n",
    "\n",
    "        while queue:\n",
    "            depth += 1\n",
    "            level_size = len(queue)\n",
    "            for _ in range(level_size):\n",
    "                node = queue.popleft()\n",
    "                if node.left:\n",
    "                    queue.append(node.left)\n",
    "                if node.right:\n",
    "                    queue.append(node.right)\n",
    "        return depth\n",
    "\n",
    "if __name__ == '__main__':\n",
    "    s = Solution()\n",
    "    test_tree = TreeNode(3, TreeNode(9), TreeNode(20, TreeNode(15), TreeNode(7)))\n",
    "    print(s.maxDepth(test_tree))"
   ]
  },
  {
   "cell_type": "markdown",
   "metadata": {},
   "source": [
    "## 二叉树的最小深度\n",
    "\n",
    "给定一个二叉树，找出其最小深度。\n",
    "\n",
    "最小深度是从根节点到最近叶子节点的最短路径上的节点数量。\n",
    "\n",
    "说明：叶子节点是指没有子节点的节点\n",
    "\n",
    "链接：https://leetcode.cn/problems/minimum-depth-of-binary-tree/"
   ]
  },
  {
   "cell_type": "code",
   "execution_count": 50,
   "metadata": {},
   "outputs": [
    {
     "name": "stdout",
     "output_type": "stream",
     "text": [
      "2\n"
     ]
    }
   ],
   "source": [
    "# 相对于 [二叉树的最大深度]，本题还也可以使用层序遍历的方式来解决，思路是一样的。但不同的是，当左右孩子都为空的时候，说明遍历到了最小深度\n",
    "\n",
    "class Solution:\n",
    "    def minDepth(self, root: Optional[TreeNode]) -> int:\n",
    "        if not root:\n",
    "            return 0\n",
    "\n",
    "        depth = 0\n",
    "        queue = collections.deque([root])\n",
    "\n",
    "        while queue:\n",
    "            depth += 1\n",
    "            for _ in range(len(queue)):\n",
    "                node = queue.popleft()\n",
    "                \n",
    "                if not node.left and not node.right: # 如果当前节点的左右孩子都为空，说明遍历到了最小深度\n",
    "                    return depth\n",
    "                \n",
    "                if node.left:\n",
    "                    queue.append(node.left)\n",
    "                if node.right:\n",
    "                    queue.append(node.right)\n",
    "            \n",
    "\n",
    "if __name__ == '__main__':\n",
    "    s = Solution()\n",
    "    test_tree = TreeNode(3, TreeNode(9), TreeNode(20, TreeNode(15), TreeNode(7)))\n",
    "    print(s.minDepth(test_tree))\n"
   ]
  },
  {
   "cell_type": "markdown",
   "metadata": {},
   "source": [
    "# 翻转二叉树\n",
    "\n",
    "给你一棵二叉树的根节点 root ，翻转这棵二叉树，并返回其根节点\n",
    "\n",
    "链接：https://leetcode.cn/problems/invert-binary-tree/description/"
   ]
  },
  {
   "cell_type": "code",
   "execution_count": 51,
   "metadata": {},
   "outputs": [
    {
     "name": "stdout",
     "output_type": "stream",
     "text": [
      "<__main__.TreeNode object at 0x7fc7e87d1a30>\n"
     ]
    }
   ],
   "source": [
    "class Solution:\n",
    "    def invertTree(self, root: TreeNode) -> TreeNode:\n",
    "        if not root:\n",
    "            return None\n",
    "        root.left, root.right = root.right, root.left\n",
    "        self.invertTree(root.left)\n",
    "        self.invertTree(root.right)\n",
    "        return root\n",
    "    \n",
    "if __name__ == '__main__':\n",
    "    s = Solution()\n",
    "    test_tree = TreeNode(4, TreeNode(2, TreeNode(1), TreeNode(3)), TreeNode(7, TreeNode(6), TreeNode(9)))\n",
    "    print(s.invertTree(test_tree))"
   ]
  },
  {
   "cell_type": "markdown",
   "metadata": {},
   "source": [
    "# 对称二叉树\n",
    "\n",
    "给你一个二叉树的根节点 root ， 检查它是否轴对称\n",
    "\n",
    "链接：https://leetcode.cn/problems/symmetric-tree/"
   ]
  },
  {
   "cell_type": "code",
   "execution_count": 52,
   "metadata": {},
   "outputs": [
    {
     "name": "stdout",
     "output_type": "stream",
     "text": [
      "True\n",
      "True\n",
      "True\n",
      "True\n"
     ]
    }
   ],
   "source": [
    "class Solution:\n",
    "    def isSymmetric(self, root: Optional[TreeNode]) -> bool:\n",
    "        if not root:\n",
    "            return True\n",
    "        return self.compare(root.left, root.right) # 递归法\n",
    "        \n",
    "    def compare(self, left, right): # 定义一个compare方法，用来比较左右子树是否对称\n",
    "        \n",
    "        if left == None and right != None: return False # 左子树为空，右子树不为空，不对称\n",
    "        elif left != None and right == None: return False # 左子树不为空，右子树为空，不对称\n",
    "        elif left == None and right == None: return True # 左子树为空，右子树为空，对称\n",
    "        elif left.val != right.val: return False # 左右子树都不为空，但是数值不相等，不对称\n",
    "        \n",
    "        # 此时就是：左右节点都不为空，且数值相同的情况。然后才做递归，判断下一层的情况\n",
    "        outside = self.compare(left.left, right.right) # 左子树：左、 右子树：右\n",
    "        inside = self.compare(left.right, right.left) # 左子树：右、 右子树：左\n",
    "        isSame = outside and inside # 左子树：中、 右子树：中 （逻辑处理）\n",
    "        return isSame\n",
    "    \n",
    "    def method_2(self, root: Optional[TreeNode]) -> bool: # 迭代法，使用队列\n",
    "        if not root:\n",
    "            return True\n",
    "        queue = collections.deque()\n",
    "        queue.append(root.left) # 将根结点的左孩子加入队列\n",
    "        queue.append(root.right) # 将根结点的右孩子加入队列\n",
    "        while queue: #接下来就要判断这这两个树是否相互翻转\n",
    "            leftNode = queue.popleft() # 左孩子出队\n",
    "            rightNode = queue.popleft() # 右孩子出队\n",
    "            if not leftNode and not rightNode: # 左节点为空、右节点为空，此时说明是对称的\n",
    "                continue\n",
    "            \n",
    "            # 左右一个节点不为空，或者都不为空但数值不相同，返回false\n",
    "            if not leftNode or not rightNode or leftNode.val != rightNode.val:\n",
    "                return False\n",
    "            queue.append(leftNode.left) # 加入左节点左孩子\n",
    "            queue.append(rightNode.right) # 加入右节点右孩子\n",
    "            queue.append(leftNode.right) # 加入左节点右孩子\n",
    "            queue.append(rightNode.left) # 加入右节点左孩子\n",
    "        return True\n",
    "\n",
    "    def method_3(self, root: Optional[TreeNode]) -> bool: # 迭代法，使用栈\n",
    "        if not root:\n",
    "            return True\n",
    "        st = [] # 这里改成了栈\n",
    "        st.append(root.left)\n",
    "        st.append(root.right)\n",
    "        while st:\n",
    "            rightNode = st.pop()\n",
    "            leftNode = st.pop()\n",
    "            if not leftNode and not rightNode: # 左节点为空、右节点为空，此时说明是对称的\n",
    "                continue\n",
    "            if not leftNode or not rightNode or leftNode.val != rightNode.val:\n",
    "                return False\n",
    "            st.append(leftNode.left)\n",
    "            st.append(rightNode.right)\n",
    "            st.append(leftNode.right)\n",
    "            st.append(rightNode.left)\n",
    "        return True\n",
    "\n",
    "    def method_4(self, root: Optional[TreeNode]) -> bool: # 层次遍历\n",
    "        if not root:\n",
    "            return True\n",
    "        queue = collections.deque([root.left, root.right]) # 将根结点的左孩子和右孩子加入队列\n",
    "        while queue: \n",
    "            level_size = len(queue) # 记录当前层的节点个数\n",
    "            if level_size % 2 != 0: # 如果当前层的节点个数是奇数，说明不是对称的\n",
    "                return False\n",
    "            level_vals = [] # 用来存放当前层的节点值\n",
    "            for i in range(level_size): # 遍历当前层的节点\n",
    "                node = queue.popleft() # 将当前层的节点依次出队\n",
    "                if node:\n",
    "                    level_vals.append(node.val) # 将当前节点值加入到level_vals中\n",
    "                    queue.append(node.left) # 将当前节点的左右孩子加入到队列中\n",
    "                    queue.append(node.right)\n",
    "                else:\n",
    "                    level_vals.append(None) # 如果当前节点为空，就将None加入到level_vals中\n",
    "                    \n",
    "            if level_vals != level_vals[::-1]: # 如果当前层的节点值不是对称的，就返回False\n",
    "                return False\n",
    "            \n",
    "        return True\n",
    "\n",
    "if __name__ == '__main__':\n",
    "    s = Solution()\n",
    "    test_tree = TreeNode(1, TreeNode(2, TreeNode(3), TreeNode(4)), TreeNode(2, TreeNode(4), TreeNode(3)))\n",
    "    print(s.isSymmetric(test_tree))\n",
    "    print(s.method_2(test_tree))\n",
    "    print(s.method_3(test_tree))\n",
    "    print(s.method_4(test_tree))"
   ]
  },
  {
   "cell_type": "markdown",
   "metadata": {},
   "source": [
    "# 相同的树\n",
    "\n",
    "给你两棵二叉树的根节点 p 和 q ，编写一个函数来检验这两棵树是否相同。\n",
    "\n",
    "如果两个树在结构上相同，并且节点具有相同的值，则认为它们是相同的\n",
    "\n",
    "链接：https://leetcode.cn/problems/same-tree/"
   ]
  },
  {
   "cell_type": "code",
   "execution_count": 53,
   "metadata": {},
   "outputs": [
    {
     "name": "stdout",
     "output_type": "stream",
     "text": [
      "True\n"
     ]
    }
   ],
   "source": [
    "class Solution:\n",
    "    def isSameTree(self, p: Optional[TreeNode], q: Optional[TreeNode]) -> bool:\n",
    "        return self.compare(p, q)\n",
    "    \n",
    "    def compare(self, left, right): \n",
    "        if left == None and right != None: return False # 左子树为空，右子树不为空，不相同\n",
    "        elif left != None and right == None: return False # 左子树不为空，右子树为空，不相同\n",
    "        elif left == None and right == None: return True # 左子树为空，右子树为空，相同\n",
    "        elif left.val != right.val: return False # 左右子树都不为空，但是数值不相等，不相同\n",
    "        \n",
    "        # 此时就是：左右节点都不为空，且数值相同的情况。然后才做递归，判断下一层的情况\n",
    "        outside = self.compare(left.left, right.left) # 左子树：左、 右子树：左\n",
    "        inside = self.compare(left.right, right.right) # 左子树：右、 右子树：右\n",
    "        isSame = outside and inside # 左子树：中、 右子树：中 （逻辑处理）\n",
    "        return isSame\n",
    "\n",
    "if __name__ == '__main__':\n",
    "    s = Solution()\n",
    "    test_tree_1 = TreeNode(1, TreeNode(2), TreeNode(3))\n",
    "    test_tree_2 = TreeNode(1, TreeNode(2), TreeNode(3))\n",
    "    print(s.isSameTree(test_tree_1, test_tree_2))"
   ]
  },
  {
   "cell_type": "markdown",
   "metadata": {},
   "source": [
    "# 另一棵树的子树\n",
    "\n",
    "给你两棵二叉树 root 和 subRoot 。检验 root 中是否包含和 subRoot 具有相同结构和节点值的子树。如果存在，返回 true ；否则，返回 false 。\n",
    "\n",
    "二叉树 tree 的一棵子树包括 tree 的某个节点和这个节点的所有后代节点。tree 也可以看做它自身的一棵子树。\n",
    "\n",
    "链接：https://leetcode.cn/problems/subtree-of-another-tree/"
   ]
  },
  {
   "cell_type": "code",
   "execution_count": 54,
   "metadata": {},
   "outputs": [
    {
     "name": "stdout",
     "output_type": "stream",
     "text": [
      "True\n"
     ]
    }
   ],
   "source": [
    "class Solution:\n",
    "    def identical(self, node_a, node_b):  # 判定两棵树是否相同\n",
    "        if not node_a and not node_b:  # 两个 node 都为空为 True\n",
    "            return True\n",
    "        if node_a is None or node_b is None:  # 一方空，一方不空，为False\n",
    "            return False\n",
    "        # 否则说明两个 node 都非空，那么如果两个树相等必须满足3个条件，即当前 node 的值相等，且各自左右子树也对应相等\n",
    "        return node_a.val == node_b.val and self.identical(node_a.left, node_b.left) and self.identical(node_a.right, node_b.right)\n",
    "\n",
    "    def isSubtree(self, s: TreeNode, t: TreeNode) -> bool:\n",
    "        if not s:\n",
    "            return False  # 边界，如果s为空直接返回False\n",
    "        if self.identical(s, t):  # 若 s 和 t 对应的两棵树相同则返回True\n",
    "            return True\n",
    "        # 不然的话就继续探索 s 的左右子树是否和 t 相等\n",
    "        return self.isSubtree(s.left, t) or self.isSubtree(s.right, t)\n",
    "\n",
    "if __name__ == '__main__':\n",
    "    s = Solution()\n",
    "    test_tree_1 = TreeNode(3, TreeNode(4, TreeNode(1), TreeNode(2)), TreeNode(5))\n",
    "    test_tree_2 = TreeNode(4, TreeNode(1), TreeNode(2))\n",
    "    print(s.isSubtree(test_tree_1, test_tree_2))"
   ]
  },
  {
   "cell_type": "markdown",
   "metadata": {},
   "source": [
    "# 完全二叉树的节点个数\n",
    "\n",
    "给你一棵 完全二叉树 的根节点 root ，求出该树的节点个数。\n",
    "\n",
    "完全二叉树的定义如下：在完全二叉树中，除了最底层节点可能没填满外，其余每层节点数都达到最大值，并且最下面一层的节点都集中在该层最左边的若干位置。若最底层为第 h 层，则该层包含 1~ $2^h$ 个节点。\n",
    "\n",
    "进阶：遍历树来统计节点是一种时间复杂度为 O(n) 的简单解决方案。你可以设计一个更快的算法吗？\n",
    "\n",
    "链接：https://leetcode.cn/problems/count-complete-tree-nodes/"
   ]
  },
  {
   "cell_type": "code",
   "execution_count": 55,
   "metadata": {},
   "outputs": [
    {
     "name": "stdout",
     "output_type": "stream",
     "text": [
      "5\n",
      "5\n"
     ]
    }
   ],
   "source": [
    "class Solution:\n",
    "    def countNodes(self, root: Optional[TreeNode]) -> int:\n",
    "        if not root:\n",
    "            return 0\n",
    "        return 1 + self.countNodes(root.left) + self.countNodes(root.right)\n",
    "\n",
    "    def method_2(self, root: Optional[TreeNode]) -> int: # 利用完全二叉树特性\n",
    "        if not root:   \n",
    "            return 0\n",
    "        count = 1\n",
    "        left = root.left\n",
    "        right = root.right\n",
    "        while left and right:\n",
    "            count += 1\n",
    "            left = left.left\n",
    "            right = right.right\n",
    "        if not left and not right:  # 如果左右子树都为空，说明是满二叉树\n",
    "            return 2 ** count - 1\n",
    "        return 1 + self.method_2(root.left) + self.method_2(root.right)\n",
    "\n",
    "if __name__ == '__main__':\n",
    "    s = Solution()\n",
    "    test_tree = TreeNode(3, TreeNode(9), TreeNode(20, TreeNode(15), TreeNode(7)))\n",
    "    print(s.countNodes(test_tree))\n",
    "    print(s.method_2(test_tree))\n",
    "        "
   ]
  },
  {
   "cell_type": "markdown",
   "metadata": {},
   "source": [
    "# 平衡二叉树\n",
    "\n",
    "给定一个二叉树，判断它是否是高度平衡的二叉树。\n",
    "\n",
    "链接：https://leetcode.cn/problems/balanced-binary-tree/"
   ]
  },
  {
   "cell_type": "code",
   "execution_count": 56,
   "metadata": {},
   "outputs": [
    {
     "name": "stdout",
     "output_type": "stream",
     "text": [
      "True\n",
      "True\n"
     ]
    }
   ],
   "source": [
    "class Solution:\n",
    "    def isBalanced(self, root: Optional[TreeNode]) -> bool: # 递归法\n",
    "        return self.get_hight(root) != -1 # 如果返回的高度不为-1，说明是平衡二叉树，否则不是平衡二叉树\n",
    "    def get_hight(self, node): # 定义一个方法，用来计算当前节点的高度\n",
    "        if not node:\n",
    "            return 0\n",
    "        left = self.get_hight(node.left)\n",
    "        right = self.get_hight(node.right)\n",
    "        if left == -1 or right == -1 or abs(left - right) > 1: # 如果左右子树的高度差大于1，或者左右子树中有一棵子树不是平衡二叉树，就返回-1\n",
    "            return -1\n",
    "        return max(left, right) + 1 # 返回当前节点的高度\n",
    "\n",
    "    def method_2(self, root: Optional[TreeNode]) -> bool: # 迭代法\n",
    "        if not root:\n",
    "            return True\n",
    "        height_map = {} # 定义一个字典，用来存放每个节点的高度\n",
    "        stack = [root] # 将根节点放入栈中\n",
    "        while stack: # 当栈不为空的时候，循环遍历\n",
    "            node = stack.pop() # 将栈顶元素弹出\n",
    "            if node: # 如果栈顶元素不为空，就将其左右孩子和自身加入到栈中\n",
    "                stack.append(node)\n",
    "                stack.append(None)\n",
    "                if node.left: stack.append(node.left) \n",
    "                if node.right: stack.append(node.right)\n",
    "            else: # 如果栈顶元素为空，说明遍历到了叶子节点，开始计算高度\n",
    "                real_node = stack.pop() # 将栈顶元素弹出\n",
    "                left, right = height_map.get(real_node.left, 0), height_map.get(real_node.right, 0) # 获取左右子树的高度\n",
    "                if abs(left - right) > 1: # 如果左右子树的高度差大于1，就返回False\n",
    "                    return False\n",
    "                height_map[real_node] = 1 + max(left, right) # 将当前节点的高度加入到字典中\n",
    "        return True\n",
    "\n",
    "if  __name__ == \"__main__\":\n",
    "    s = Solution()\n",
    "    test_tree = TreeNode(3, TreeNode(9), TreeNode(20, TreeNode(15), TreeNode(7)))\n",
    "    print(s.isBalanced(test_tree))\n",
    "    print(s.method_2(test_tree))\n",
    "\n"
   ]
  },
  {
   "cell_type": "markdown",
   "metadata": {},
   "source": [
    "# 二叉树的所有路径\n",
    "\n",
    "给你一个二叉树的根节点root ，按任意顺序，返回所有从根节点到叶子节点的路径。\n",
    "\n",
    "链接：https://leetcode.cn/problems/binary-tree-paths/"
   ]
  },
  {
   "cell_type": "code",
   "execution_count": 57,
   "metadata": {},
   "outputs": [
    {
     "name": "stdout",
     "output_type": "stream",
     "text": [
      "['3->9', '3->20->15', '3->20->7']\n"
     ]
    }
   ],
   "source": [
    "# 思路：这道题目要求从根节点到叶子的路径，所以需要前序遍历，这样才方便让父节点指向孩子节点，找到对应的路径。同时需要回溯，因为我们要把路径记录下来，需要回溯来回退一个路径再进入另一个路径。\n",
    "\n",
    "class Solution:\n",
    "    def traversal(self, cur, path, result):\n",
    "        path.append(cur.val)  # 将当前节点的值加入路径\n",
    "        if not cur.left and not cur.right:  # 到达叶子节点\n",
    "            sPath = '->'.join(map(str, path)) # 将路径转换为字符串\n",
    "            result.append(sPath)\n",
    "            return\n",
    "        if cur.left:  # 如果当前节点有左子节点\n",
    "            self.traversal(cur.left, path, result) # 递归遍历左子树\n",
    "            path.pop()  # 回溯，将路径中的当前节点弹出\n",
    "        if cur.right:  # 如果当前节点有右子节点\n",
    "            self.traversal(cur.right, path, result) # 递归遍历右子树\n",
    "            path.pop()  # 回溯，将路径中的当前节点弹出\n",
    "\n",
    "    def binaryTreePaths(self, root: Optional[TreeNode]) -> List[str]:\n",
    "        result = []\n",
    "        path = []\n",
    "        if not root:\n",
    "            return result\n",
    "        self.traversal(root, path, result) # 从根节点开始遍历二叉树\n",
    "        return result\n",
    "\n",
    "if __name__ == '__main__':\n",
    "    s = Solution()\n",
    "    test_tree = TreeNode(3, TreeNode(9), TreeNode(20, TreeNode(15), TreeNode(7)))\n",
    "    print(s.binaryTreePaths(test_tree))"
   ]
  },
  {
   "cell_type": "markdown",
   "metadata": {},
   "source": [
    "# 左叶子之和\n",
    "\n",
    "给定二叉树的根节点 root ，返回所有左叶子之和\n",
    "\n",
    "链接：https://leetcode.cn/problems/sum-of-left-leaves/"
   ]
  },
  {
   "cell_type": "code",
   "execution_count": 58,
   "metadata": {},
   "outputs": [
    {
     "name": "stdout",
     "output_type": "stream",
     "text": [
      "24\n",
      "24\n"
     ]
    }
   ],
   "source": [
    "class Solution:\n",
    "    def sumOfLeftLeaves(self, root: Optional[TreeNode]) -> int: # 递归法\n",
    "        if root is None: # 如果根节点为空，直接返回0\n",
    "            return 0\n",
    "        leftValue = 0\n",
    "        if root.left is not None and root.left.left is None and root.left.right is None: # 如果当前节点的左孩子不为空，且左孩子的左右孩子都为空，说明是左叶子节点\n",
    "            leftValue = root.left.val\n",
    "        return leftValue + self.sumOfLeftLeaves(root.left) + self.sumOfLeftLeaves(root.right)\n",
    "    \n",
    "    def method_2(self, root: Optional[TreeNode]) -> int: # 迭代法\n",
    "        if root is None:\n",
    "            return 0\n",
    "        st = [root] # 将根节点放入栈中\n",
    "        result = 0 \n",
    "        while st: # 当栈不为空的时候，循环遍历\n",
    "            node = st.pop() # 将栈顶元素弹出\n",
    "            if node.left and node.left.left is None and node.left.right is None: # 如果当前节点的左孩子不为空，且左孩子的左右孩子都为空，说明是左叶子节点\n",
    "                result += node.left.val\n",
    "            if node.right: # 将当前节点的左右孩子加入到栈中\n",
    "                st.append(node.right)\n",
    "            if node.left:\n",
    "                st.append(node.left)\n",
    "        return result\n",
    "\n",
    "if __name__ == '__main__':\n",
    "    s = Solution()\n",
    "    test_tree = TreeNode(3, TreeNode(9), TreeNode(20, TreeNode(15), TreeNode(7)))\n",
    "    print(s.sumOfLeftLeaves(test_tree))\n",
    "    print(s.method_2(test_tree))\n"
   ]
  },
  {
   "cell_type": "markdown",
   "metadata": {},
   "source": [
    "# 找树左下角的值\n",
    "\n",
    "给定一个二叉树的 根节点 root，请找出该二叉树的 最底层 最左边 节点的值。假设二叉树中至少有一个节点。\n",
    "\n",
    "链接：https://leetcode.cn/problems/find-bottom-left-tree-value/"
   ]
  },
  {
   "cell_type": "code",
   "execution_count": 59,
   "metadata": {},
   "outputs": [
    {
     "name": "stdout",
     "output_type": "stream",
     "text": [
      "15\n"
     ]
    }
   ],
   "source": [
    "class Solution: \n",
    "    def findBottomLeftValue(self, root: Optional[TreeNode]) -> int: # 迭代法\n",
    "        if root is None: # 如果根节点为空，直接返回0\n",
    "            return 0\n",
    "        queue = deque() # 创建一个双端队列，并将根节点放入队列中\n",
    "        queue.append(root)\n",
    "        result = 0\n",
    "        while queue: # 当队列不为空的时候，循环遍历\n",
    "            size = len(queue) # 记录当前层的节点个数\n",
    "            for i in range(size):\n",
    "                node = queue.popleft() # 将当前层的节点依次出队\n",
    "                if i == 0: # 如果当前节点是当前层的第一个节点，就将其值赋给result，result随着层数遍历而更新\n",
    "                    result = node.val\n",
    "                if node.left: # 将当前节点的左右孩子加入到队列中\n",
    "                    queue.append(node.left)\n",
    "                if node.right:\n",
    "                    queue.append(node.right)\n",
    "        return result\n",
    "\n",
    "if __name__ == '__main__':\n",
    "    s = Solution()\n",
    "    test_tree = TreeNode(3, TreeNode(9), TreeNode(20, TreeNode(15), TreeNode(7)))\n",
    "    print(s.findBottomLeftValue(test_tree))"
   ]
  },
  {
   "cell_type": "markdown",
   "metadata": {},
   "source": [
    "# 路径总和\n",
    "\n",
    "给你二叉树的根节点 root 和一个表示目标和的整数 targetSum 。判断该树中是否存在 根节点到叶子节点 的路径，这条路径上所有节点值相加等于目标和 targetSum 。如果存在，返回 true ；否则，返回 false 。\n",
    "\n",
    "链接：https://leetcode.cn/problems/path-sum/"
   ]
  },
  {
   "cell_type": "code",
   "execution_count": 60,
   "metadata": {},
   "outputs": [
    {
     "name": "stdout",
     "output_type": "stream",
     "text": [
      "True\n",
      "True\n"
     ]
    }
   ],
   "source": [
    "class Solution:\n",
    "    def hasPathSum(self, root: Optional[TreeNode], targetSum: int) -> bool: # 递归\n",
    "        if not root: # 如果根节点为空，直接返回False\n",
    "            return False\n",
    "        if not root.left and not root.right and targetSum == root.val: # 如果当前节点是叶子节点，且当前节点的值等于目标值，就返回True\n",
    "            return True\n",
    "        return self.hasPathSum(root.left, targetSum - root.val) or self.hasPathSum(root.right, targetSum - root.val) # 递归遍历左右子树\n",
    "\n",
    "    def method_2(self, root: Optional[TreeNode], targetSum: int) -> bool: # 迭代\n",
    "        if not root:\n",
    "            return False\n",
    "        st = [(root, root.val)] # 将根节点和根节点的值组合为一个元组，放入栈中\n",
    "        while st:\n",
    "            node, path_sum = st.pop() # 将栈顶元素弹出\n",
    "            if not node.left and not node.right and path_sum == targetSum: # 如果该节点是叶子节点了，同时该节点的路径数值等于sum，那么就返回true\n",
    "                return True\n",
    "            if node.right: # 右节点，压进去一个节点的时候，将该节点的路径数值也记录下来\n",
    "                st.append((node.right, path_sum + node.right.val))\n",
    "            if node.left: # 左节点，压进去一个节点的时候，将该节点的路径数值也记录下来\n",
    "                st.append((node.left, path_sum + node.left.val))\n",
    "        return False\n",
    "\n",
    "if __name__ == '__main__':\n",
    "    s = Solution()\n",
    "    test_tree = TreeNode(5, TreeNode(4, TreeNode(11, TreeNode(7), TreeNode(2))), TreeNode(8, TreeNode(13), TreeNode(4, None, TreeNode(1))))\n",
    "    print(s.hasPathSum(test_tree, 22))\n",
    "    print(s.method_2(test_tree, 22))\n"
   ]
  },
  {
   "cell_type": "markdown",
   "metadata": {},
   "source": [
    "# 路径总和 II\n",
    "\n",
    "给你二叉树的根节点 root 和一个整数目标和 targetSum ，找出所有 从根节点到叶子节点 路径总和等于给定目标和的路径。\n",
    "\n",
    "链接：https://leetcode.cn/problems/path-sum-ii/\n"
   ]
  },
  {
   "cell_type": "code",
   "execution_count": 61,
   "metadata": {},
   "outputs": [
    {
     "name": "stdout",
     "output_type": "stream",
     "text": [
      "[[5, 4, 11, 2], [5, 8, 4, 5]]\n",
      "[[5, 4, 11, 2], [5, 8, 4, 5]]\n"
     ]
    }
   ],
   "source": [
    "class Solution:\n",
    "    def pathSum(self, root: Optional[TreeNode], targetSum: int) -> List[List[int]]: # 递归\n",
    "        result = []\n",
    "        self.traversal(root, targetSum, [], result)\n",
    "        return result\n",
    "    \n",
    "    def traversal(self,node, sum, path, result): # 遍历二叉树\n",
    "            if not node: # 如果当前节点为空，直接返回\n",
    "                return\n",
    "            path.append(node.val) # 将当前节点的值加入到路径中\n",
    "            sum -= node.val # 将当前节点的值从目标值中减去\n",
    "            if not node.left and not node.right and sum == 0: # 如果当前节点是叶子节点，且当前节点的值等于目标值，就将路径加入到result中\n",
    "                result.append(list(path))\n",
    "            self.traversal(node.left, sum, path, result) # 递归遍历左子树\n",
    "            self.traversal(node.right, sum, path, result) # 递归遍历右子树\n",
    "            path.pop() # 回溯，将路径中的当前节点弹出\n",
    "    \n",
    "\n",
    "    def method_2(self, root: Optional[TreeNode], targetSum: int) -> List[List[int]]: # 迭代\n",
    "        if not root:\n",
    "            return []\n",
    "        stack = [(root, [root.val])] # 将根节点和根节点的值组合为一个元组，放入栈中\n",
    "        res = []\n",
    "        while stack: # 当栈不为空的时候，循环遍历\n",
    "            node, path = stack.pop() # 将栈顶元素弹出\n",
    "            if not node.left and not node.right and sum(path) == targetSum: # 如果该节点是叶子节点了，同时该节点的路径上数值等于sum，那么就将该路径加入到res中\n",
    "                res.append(path)\n",
    "            if node.right: # 右节点，压进去一个节点的时候，将该节点的路径数值也记录下来\n",
    "                stack.append((node.right, path + [node.right.val]))\n",
    "            if node.left: # 左节点，压进去一个节点的时候，将该节点的路径数值也记录下来\n",
    "                stack.append((node.left, path + [node.left.val]))\n",
    "        return res\n",
    "\n",
    "if __name__ == '__main__':\n",
    "    s = Solution()\n",
    "    test_tree = TreeNode(5, TreeNode(4, TreeNode(11, TreeNode(7), TreeNode(2))), TreeNode(8, TreeNode(13), TreeNode(4, TreeNode(5), TreeNode(1))))\n",
    "    print(s.pathSum(test_tree, 22))\n",
    "    print(s.method_2(test_tree, 22))"
   ]
  },
  {
   "cell_type": "markdown",
   "metadata": {},
   "source": [
    "# 从中序与后序遍历序列构造二叉树\n",
    "\n",
    "给定两个整数数组 inorder 和 postorder ，其中 inorder 是二叉树的中序遍历， postorder 是同一棵树的后序遍历，请你构造并返回这颗 二叉树 \n",
    "\n",
    "链接：https://leetcode.cn/problems/construct-binary-tree-from-inorder-and-postorder-traversal/description/"
   ]
  },
  {
   "cell_type": "code",
   "execution_count": 62,
   "metadata": {},
   "outputs": [
    {
     "name": "stdout",
     "output_type": "stream",
     "text": [
      "<__main__.TreeNode object at 0x7fc7e8a36df0>\n"
     ]
    }
   ],
   "source": [
    "# 以后序数组的最后一个元素为切割点，先切中序数组，根据中序数组，反过来再切后序数组。一层一层切下去，每次后序数组最后一个元素就是节点元素\n",
    "\n",
    "class Solution:\n",
    "    def buildTree(self, inorder: List[int], postorder: List[int]) -> Optional[TreeNode]:\n",
    "        # 第一步: 特殊情况讨论: 树为空. (递归终止条件)\n",
    "        if not postorder:\n",
    "            return None\n",
    "\n",
    "        # 第二步: 后序遍历的最后一个就是当前的中间节点\n",
    "        root_val = postorder[-1]\n",
    "        root = TreeNode(root_val)\n",
    "\n",
    "        # 第三步: 找切割点\n",
    "        separator_idx = inorder.index(root_val)\n",
    "\n",
    "        # 第四步: 切割inorder数组, 得到inorder数组的左,右半边\n",
    "        inorder_left = inorder[:separator_idx]\n",
    "        inorder_right = inorder[separator_idx + 1:]\n",
    "\n",
    "        # 第五步: 切割postorder数组, 得到postorder数组的左，右半边\n",
    "        # 重点: 中序数组大小一定跟后序数组大小是相同的\n",
    "        postorder_left = postorder[:len(inorder_left)]\n",
    "        postorder_right = postorder[len(inorder_left): len(postorder) - 1]\n",
    "\n",
    "        # 第六步: 递归\n",
    "        root.left = self.buildTree(inorder_left, postorder_left)\n",
    "        root.right = self.buildTree(inorder_right, postorder_right)\n",
    "\n",
    "        # 第七步: 返回答案\n",
    "        return root\n",
    "\n",
    "if __name__ == '__main__':\n",
    "    s = Solution()\n",
    "    print(s.buildTree([9,3,15,20,7], [9,15,7,20,3]))"
   ]
  },
  {
   "cell_type": "markdown",
   "metadata": {},
   "source": [
    "# 从前序与中序遍历序列构造二叉树\n",
    "\n",
    "给定两个整数数组 preorder 和 inorder ，其中 preorder 是二叉树的先序遍历， inorder 是同一棵树的中序遍历，请构造二叉树并返回其根节点\n",
    "\n",
    "链接：https://leetcode.cn/problems/construct-binary-tree-from-preorder-and-inorder-traversal/"
   ]
  },
  {
   "cell_type": "code",
   "execution_count": 63,
   "metadata": {},
   "outputs": [
    {
     "name": "stdout",
     "output_type": "stream",
     "text": [
      "<__main__.TreeNode object at 0x7fc7e887b790>\n"
     ]
    }
   ],
   "source": [
    "class Solution:\n",
    "    def buildTree(self, preorder: List[int], inorder: List[int]) -> Optional[TreeNode]:\n",
    "        # 第一步: 特殊情况讨论: 树为空. 或者说是递归终止条件\n",
    "        if not preorder:\n",
    "            return None\n",
    "\n",
    "        # 第二步: 前序遍历的第一个就是当前的中间节点\n",
    "        root_val = preorder[0]\n",
    "        root = TreeNode(root_val)\n",
    "\n",
    "        # 第三步: 找切割点\n",
    "        separator_idx = inorder.index(root_val)\n",
    "\n",
    "        # 第四步: 切割inorder数组. 得到inorder数组的左,右半边.\n",
    "        inorder_left = inorder[:separator_idx]\n",
    "        inorder_right = inorder[separator_idx + 1:]\n",
    "\n",
    "        # 第五步: 切割preorder数组. 得到preorder数组的左,右半边.\n",
    "        # 重点: 中序数组大小一定跟前序数组大小是相同的.\n",
    "        preorder_left = preorder[1:1 + len(inorder_left)]\n",
    "        preorder_right = preorder[1 + len(inorder_left):]\n",
    "\n",
    "        # 第六步: 递归\n",
    "        root.left = self.buildTree(preorder_left, inorder_left)\n",
    "        root.right = self.buildTree(preorder_right, inorder_right)\n",
    "\n",
    "        # 第七步: 返回答案\n",
    "        return root\n",
    "    \n",
    "if __name__ == '__main__':\n",
    "    s = Solution()\n",
    "    print(s.buildTree([3,9,20,15,7], [9,3,15,20,7]))\n"
   ]
  },
  {
   "cell_type": "markdown",
   "metadata": {},
   "source": [
    "# 最大二叉树\n",
    "\n",
    "给定一个不重复的整数数组 nums 。 最大二叉树 可以用下面的算法从 nums 递归地构建:\n",
    "- 创建一个根节点，其值为 nums 中的最大值。\n",
    "- 递归地在最大值 左边 的 子数组前缀上 构建左子树。\n",
    "- 递归地在最大值 右边 的 子数组后缀上 构建右子树。\n",
    "\n",
    "返回 nums 构建的 最大二叉树 。\n",
    "\n",
    "链接：https://leetcode.cn/problems/maximum-binary-tree/\n"
   ]
  },
  {
   "cell_type": "code",
   "execution_count": 64,
   "metadata": {},
   "outputs": [
    {
     "name": "stdout",
     "output_type": "stream",
     "text": [
      "<__main__.TreeNode object at 0x7fc8185f3e20>\n"
     ]
    }
   ],
   "source": [
    "class Solution:\n",
    "    def constructMaximumBinaryTree(self, nums: List[int]) -> Optional[TreeNode]:\n",
    "        if not nums:\n",
    "            return None\n",
    "        max_val = max(nums) # 找到数组中的最大值\n",
    "        max_idx = nums.index(max_val) # 找到最大值的索引\n",
    "        root = TreeNode(max_val) # 以最大值创建根节点\n",
    "        root.left = self.constructMaximumBinaryTree(nums[:max_idx]) # 递归创建左子树\n",
    "        root.right = self.constructMaximumBinaryTree(nums[max_idx + 1:]) # 递归创建右子树\n",
    "        return root\n",
    "\n",
    "if __name__ == '__main__':\n",
    "    s = Solution()\n",
    "    print(s.constructMaximumBinaryTree([3,2,1,6,0,5]))"
   ]
  },
  {
   "cell_type": "markdown",
   "metadata": {},
   "source": [
    "# 合并二叉树\n",
    "\n",
    "给你两棵二叉树： root1 和 root2 。\n",
    "\n",
    "想象一下，当你将其中一棵覆盖到另一棵之上时，两棵树上的一些节点将会重叠（而另一些不会）。你需要将这两棵树合并成一棵新二叉树。合并的规则是：如果两个节点重叠，那么将这两个节点的值相加作为合并后节点的新值；否则，不为 null 的节点将直接作为新二叉树的节点。\n",
    "\n",
    "返回合并后的二叉树。\n",
    "\n",
    "注意: 合并过程必须从两个树的根节点开始。\n",
    "\n",
    "链接：https://leetcode.cn/problems/merge-two-binary-trees/"
   ]
  },
  {
   "cell_type": "code",
   "execution_count": 65,
   "metadata": {},
   "outputs": [
    {
     "name": "stdout",
     "output_type": "stream",
     "text": [
      "<__main__.TreeNode object at 0x7fc7e87d16d0>\n"
     ]
    }
   ],
   "source": [
    "class Solution:\n",
    "    def mergeTrees(self, root1: Optional[TreeNode], root2: Optional[TreeNode]) -> Optional[TreeNode]: # 递归+前序遍历，重复使用root1，节约空间\n",
    "        # 递归终止条件: 但凡有一个节点为空, 就立刻返回另外一个. 如果另外一个也为None就直接返回None. \n",
    "        if not root1: \n",
    "            return root2\n",
    "        if not root2: \n",
    "            return root1\n",
    "        # 上面的递归终止条件保证了代码执行到这里root1, root2都非空. \n",
    "        root1.val += root2.val # 中\n",
    "        root1.left = self.mergeTrees(root1.left, root2.left) #左\n",
    "        root1.right = self.mergeTrees(root1.right, root2.right) # 右\n",
    "        \n",
    "        return root1 \n",
    "\n",
    "    def method_2(self, root1: Optional[TreeNode], root2: Optional[TreeNode]) -> Optional[TreeNode]: # 递归+前序遍历，新建root\n",
    "        # 递归终止条件: 但凡有一个节点为空, 就立刻返回另外一个. 如果另外一个也为None就直接返回None. \n",
    "        if not root1: \n",
    "            return root2\n",
    "        if not root2: \n",
    "            return root1\n",
    "        # 上面的递归终止条件保证了代码执行到这里root1, root2都非空. \n",
    "        root = TreeNode()\n",
    "        root.val = root1.val + root2.val # 中\n",
    "        root.left = self.mergeTrees(root1.left, root2.left) # 左\n",
    "        root.right = self.mergeTrees(root1.right, root2.right) # 右\n",
    "        \n",
    "        return root\n",
    "    \n",
    "    def method_3(self, root1: Optional[TreeNode], root2: Optional[TreeNode]) -> Optional[TreeNode]: # 迭代\n",
    "        if not root1:\n",
    "            return root2\n",
    "        if not root2:\n",
    "            return root1\n",
    "        \n",
    "        queue = deque()\n",
    "        queue.append((root1, root2)) # 将两个根节点组成一个元组，放入队列中\n",
    "\n",
    "        while queue: # 当队列不为空的时候，循环遍历\n",
    "            node1, node2 = queue.popleft() # 将队首元素弹出\n",
    "            node1.val += node2.val # 将两个节点的值相加\n",
    "\n",
    "            if node1.left and node2.left: # 如果两个节点的左孩子都不为空，就将两个节点的左孩子组成一个元组，放入队列中\n",
    "                queue.append((node1.left, node2.left))\n",
    "            elif not node1.left: # 如果node1的左孩子为空，就将node2的左孩子赋值给node1的左孩子\n",
    "                node1.left = node2.left\n",
    "\n",
    "            if node1.right and node2.right: # 如果两个节点的右孩子都不为空，就将两个节点的右孩子组成一个元组，放入队列中\n",
    "                queue.append((node1.right, node2.right))\n",
    "            elif not node1.right: # 如果node1的右孩子为空，就将node2的右孩子赋值给node1的右孩子\n",
    "                node1.right = node2.right\n",
    "\n",
    "        return root1\n",
    "\n",
    "if __name__ == '__main__':\n",
    "    s = Solution()\n",
    "    test_tree_1 = TreeNode(1, TreeNode(3, TreeNode(5)), TreeNode(2))\n",
    "    test_tree_2 = TreeNode(2, TreeNode(1, None, TreeNode(4)), TreeNode(3, None, TreeNode(7)))\n",
    "    print(s.mergeTrees(test_tree_1, test_tree_2))\n",
    "    # print(s.method_2(test_tree_1, test_tree_2))\n",
    "    # print(s.method_3(test_tree_1, test_tree_2))"
   ]
  }
 ],
 "metadata": {
  "kernelspec": {
   "display_name": "goodjob",
   "language": "python",
   "name": "python3"
  },
  "language_info": {
   "codemirror_mode": {
    "name": "ipython",
    "version": 3
   },
   "file_extension": ".py",
   "mimetype": "text/x-python",
   "name": "python",
   "nbconvert_exporter": "python",
   "pygments_lexer": "ipython3",
   "version": "3.9.18"
  },
  "orig_nbformat": 4
 },
 "nbformat": 4,
 "nbformat_minor": 2
}
