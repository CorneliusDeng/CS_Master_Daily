{
 "cells": [
  {
   "cell_type": "code",
   "execution_count": 12,
   "metadata": {},
   "outputs": [],
   "source": [
    "class TreeNode:\n",
    "    def __init__(self, val, left = None, right = None):\n",
    "        self.val = val\n",
    "        self.left = left\n",
    "        self.right = right"
   ]
  },
  {
   "cell_type": "markdown",
   "metadata": {},
   "source": [
    "# 二叉树遍历"
   ]
  },
  {
   "cell_type": "markdown",
   "metadata": {},
   "source": [
    "## 二叉树的前序遍历\n",
    "\n",
    "给你二叉树的根节点 root ，返回它节点值的 前序 遍历\n",
    "\n",
    "链接：https://leetcode.cn/problems/binary-tree-preorder-traversal/"
   ]
  },
  {
   "cell_type": "code",
   "execution_count": 13,
   "metadata": {},
   "outputs": [
    {
     "name": "stdout",
     "output_type": "stream",
     "text": [
      "[1, 2, 3]\n",
      "[1, 2, 3]\n"
     ]
    }
   ],
   "source": [
    "from typing import List\n",
    "\n",
    "class Solution:\n",
    "    def preorderTraversal(self, root: TreeNode) -> List[int]:\n",
    "        if not root:\n",
    "            return []\n",
    "        left = self.preorderTraversal(root.left)\n",
    "        right = self.preorderTraversal(root.right)\n",
    "\n",
    "        return  [root.val] + left +  right\n",
    "\n",
    "    def non_recursion_preorder(self, root: TreeNode) -> List[int]:\n",
    "        # 前序遍历是中左右，每次先处理的是中间节点，那么先将根节点放入栈中，然后将右孩子加入栈，再加入左孩子\n",
    "        if not root:\n",
    "            return []\n",
    "        stack = [root] # 前序遍历的访问顺序和处理顺序是一致的，因此可以先将根节点放入栈中\n",
    "        result = []\n",
    "        while stack:\n",
    "            node = stack.pop()\n",
    "            # 中结点先处理\n",
    "            result.append(node.val)\n",
    "            # 右孩子先入栈\n",
    "            if node.right:\n",
    "                stack.append(node.right)\n",
    "            # 左孩子后入栈\n",
    "            if node.left:\n",
    "                stack.append(node.left)\n",
    "        return result\n",
    "\n",
    "if __name__ == '__main__':\n",
    "    s = Solution()\n",
    "    root_1 = TreeNode(1, None, TreeNode(2, TreeNode(3)))\n",
    "    print(s.preorderTraversal(root_1))\n",
    "    root_2 = TreeNode(1, None, TreeNode(2, TreeNode(3)))\n",
    "    print(s.non_recursion_preorder(root_2))"
   ]
  },
  {
   "cell_type": "markdown",
   "metadata": {},
   "source": [
    "## 二叉树的中序遍历\n",
    "\n",
    "给定一个二叉树的根节点 root ，返回 它的 中序 遍历 。\n",
    "\n",
    "链接：https://leetcode.cn/problems/binary-tree-inorder-traversal/"
   ]
  },
  {
   "cell_type": "code",
   "execution_count": 14,
   "metadata": {},
   "outputs": [
    {
     "name": "stdout",
     "output_type": "stream",
     "text": [
      "[1, 3, 2]\n",
      "[1, 3, 2]\n"
     ]
    }
   ],
   "source": [
    "from typing import List, Optional\n",
    "\n",
    "class Solution:\n",
    "    def inorderTraversal(self, root: Optional[TreeNode]) -> List[int]:\n",
    "        if root is None:\n",
    "            return []\n",
    "        left = self.inorderTraversal(root.left)\n",
    "        right = self.inorderTraversal(root.right)\n",
    "\n",
    "        return left + [root.val] + right\n",
    "\n",
    "    def non_recursion_inorder(self, root: Optional[TreeNode]) -> List[int]:\n",
    "        if not root:\n",
    "            return []\n",
    "        stack = []  # 不能提前将root结点加入stack中\n",
    "        result = []\n",
    "        cur = root # 借用指针的遍历来帮助访问节点，栈则用来处理节点上的元素\n",
    "        while cur or stack:\n",
    "            # 先迭代访问最底层的左子树结点\n",
    "            if cur:     \n",
    "                stack.append(cur)\n",
    "                cur = cur.left\t\t\n",
    "            # 到达最左结点后处理栈顶结点    \n",
    "            else:\t\t\n",
    "                cur = stack.pop()\n",
    "                result.append(cur.val)\n",
    "                # 取栈顶元素右结点\n",
    "                cur = cur.right\t\n",
    "        return result\n",
    "\n",
    "\n",
    "if __name__ == '__main__':\n",
    "    s = Solution()\n",
    "    root_1 = TreeNode(1, None, TreeNode(2, TreeNode(3)))\n",
    "    print(s.inorderTraversal(root_1))\n",
    "    root_2 = TreeNode(1, None, TreeNode(2, TreeNode(3)))\n",
    "    print(s.non_recursion_inorder(root_2))\n",
    "        "
   ]
  },
  {
   "cell_type": "markdown",
   "metadata": {},
   "source": [
    "## 二叉树的后序遍历\n",
    "\n",
    "给你一棵二叉树的根节点 root ，返回其节点值的 后序遍历 \n",
    "\n",
    "https://leetcode.cn/problems/binary-tree-postorder-traversal/"
   ]
  },
  {
   "cell_type": "code",
   "execution_count": 15,
   "metadata": {},
   "outputs": [
    {
     "name": "stdout",
     "output_type": "stream",
     "text": [
      "[3, 2, 1]\n",
      "[3, 2, 1]\n"
     ]
    }
   ],
   "source": [
    "from typing import List, Optional\n",
    "\n",
    "class Solution:\n",
    "    def postorderTraversal(self, root: Optional[TreeNode]) -> List[int]:\n",
    "        if root is None:\n",
    "            return []\n",
    "        left = self.postorderTraversal(root.left)\n",
    "        right = self.postorderTraversal(root.right)\n",
    "\n",
    "        return left + right + [root.val]\n",
    "    \n",
    "    def non_recursion_postorder(self, root: Optional[TreeNode]) -> List[int]:\n",
    "        # 先序遍历是中左右，后续遍历是左右中，需要调整一下先序遍历的代码顺序，就变成中右左的遍历顺序，然后在反转result数组，输出的结果顺序就是左右中\n",
    "        if not root:\n",
    "           return []\n",
    "        stack = [root]\n",
    "        result = []\n",
    "        while stack:\n",
    "            node = stack.pop()\n",
    "            # 中结点先处理\n",
    "            result.append(node.val)\n",
    "            # 左孩子先入栈\n",
    "            if node.left:\n",
    "                stack.append(node.left)\n",
    "            # 右孩子后入栈\n",
    "            if node.right:\n",
    "                stack.append(node.right)\n",
    "        # 将最终的数组翻转\n",
    "        return result[::-1]\n",
    "        \n",
    "\n",
    "if __name__ == '__main__':\n",
    "    s = Solution()\n",
    "    root_1 = TreeNode(1, None, TreeNode(2, TreeNode(3)))\n",
    "    print(s.postorderTraversal(root_1))\n",
    "    root_2 = TreeNode(1, None, TreeNode(2, TreeNode(3)))\n",
    "    print(s.non_recursion_postorder(root_2))"
   ]
  },
  {
   "cell_type": "markdown",
   "metadata": {},
   "source": [
    "## 非递归方式写出统一风格的三种遍历方式代码\n",
    "\n",
    "对于中序遍历来说，单单使用栈无法同时解决访问节点（遍历节点）和处理节点（将元素放进结果集）不一致的情况，那我们就将访问的节点放入栈中，把要处理的节点也放入栈中但是要做标记。\n",
    "\n",
    "具体做法为：把要处理的节点放入栈之后，紧接着放入一个空指针作为标记，这种方法也可以叫做标记法"
   ]
  },
  {
   "cell_type": "code",
   "execution_count": 16,
   "metadata": {},
   "outputs": [
    {
     "name": "stdout",
     "output_type": "stream",
     "text": [
      "[1, 2, 3]\n",
      "[1, 3, 2]\n",
      "[3, 2, 1]\n"
     ]
    }
   ],
   "source": [
    "from typing import List\n",
    "\n",
    "class Solution:\n",
    "    def preorderTraversal(self, root: TreeNode) -> List[int]:\n",
    "        result = []\n",
    "        st= []\n",
    "        if root:\n",
    "            st.append(root)\n",
    "        while st:\n",
    "            node = st.pop()\n",
    "            if node != None:\n",
    "                if node.right: #右\n",
    "                    st.append(node.right)\n",
    "                if node.left: #左\n",
    "                    st.append(node.left)\n",
    "                st.append(node) #中\n",
    "                st.append(None)\n",
    "            else:\n",
    "                node = st.pop()\n",
    "                result.append(node.val)\n",
    "        return result\n",
    "\n",
    "    def inorderTraversal(self, root: TreeNode) -> List[int]:\n",
    "        result = []\n",
    "        st = []\n",
    "        if root:\n",
    "            st.append(root)\n",
    "        while st:\n",
    "            node = st.pop()\n",
    "            if node != None:\n",
    "                if node.right: #添加右节点（空节点不入栈）\n",
    "                    st.append(node.right)\n",
    "                \n",
    "                st.append(node) #添加中节点\n",
    "                st.append(None) #中节点访问过，但是还没有处理，加入空节点做为标记。\n",
    "                \n",
    "                if node.left: #添加左节点（空节点不入栈）\n",
    "                    st.append(node.left)\n",
    "            else: #只有遇到空节点的时候，才将下一个节点放进结果集\n",
    "                node = st.pop() #重新取出栈中元素\n",
    "                result.append(node.val) #加入到结果集\n",
    "        return result\n",
    "    \n",
    "    def postorderTraversal(self, root: TreeNode) -> List[int]:\n",
    "        result = []\n",
    "        st = []\n",
    "        if root:\n",
    "            st.append(root)\n",
    "        while st:\n",
    "            node = st.pop()\n",
    "            if node != None:\n",
    "                st.append(node) #中\n",
    "                st.append(None)\n",
    "                \n",
    "                if node.right: #右\n",
    "                    st.append(node.right)\n",
    "                if node.left: #左\n",
    "                    st.append(node.left)\n",
    "            else:\n",
    "                node = st.pop()\n",
    "                result.append(node.val)\n",
    "        return result\n",
    "\n",
    "if  __name__ == \"__main__\":\n",
    "    s = Solution()\n",
    "    root = TreeNode(1, None, TreeNode(2, TreeNode(3)))\n",
    "    print(s.preorderTraversal(root))\n",
    "    print(s.inorderTraversal(root))\n",
    "    print(s.postorderTraversal(root))"
   ]
  },
  {
   "cell_type": "markdown",
   "metadata": {},
   "source": [
    "# 二叉树层序遍历"
   ]
  },
  {
   "cell_type": "markdown",
   "metadata": {},
   "source": [
    "## 二叉树的层序遍历\n",
    "\n",
    "给你二叉树的根节点 root ，返回其节点值的 层序遍历 。 （即逐层地，从左到右访问所有节点）。\n",
    "\n",
    "链接：https://leetcode.cn/problems/binary-tree-level-order-traversal/"
   ]
  }
 ],
 "metadata": {
  "kernelspec": {
   "display_name": "goodjob",
   "language": "python",
   "name": "python3"
  },
  "language_info": {
   "codemirror_mode": {
    "name": "ipython",
    "version": 3
   },
   "file_extension": ".py",
   "mimetype": "text/x-python",
   "name": "python",
   "nbconvert_exporter": "python",
   "pygments_lexer": "ipython3",
   "version": "3.9.16"
  },
  "orig_nbformat": 4
 },
 "nbformat": 4,
 "nbformat_minor": 2
}
