{
  "cells": [
    {
      "cell_type": "markdown",
      "metadata": {
        "id": "R9vl76yDEoKe"
      },
      "source": [
        "<a href=\"https://colab.research.google.com/github/wandb/examples/blob/master/colabs/intro/Intro_to_Weights_&_Biases.ipynb\" target=\"_parent\"><img src=\"https://colab.research.google.com/assets/colab-badge.svg\" alt=\"Open In Colab\"/></a>\n",
        "<!--- @wandbcode{intro-colab} -->"
      ]
    },
    {
      "cell_type": "markdown",
      "metadata": {
        "id": "F35yVcu7EoKh"
      },
      "source": [
        "<img src=\"http://wandb.me/logo-im-png\" width=\"400\" alt=\"Weights & Biases\" />\n",
        "<!--- @wandbcode{intro-colab} -->"
      ]
    },
    {
      "cell_type": "markdown",
      "metadata": {
        "id": "KzUeyoH8EoKi"
      },
      "source": [
        "# 🏃‍♀️ Quickstart\n",
        "Use **[Weights & Biases](https://wandb.ai/site?utm_source=intro_colab&utm_medium=code&utm_campaign=intro)** for machine learning experiment tracking, model checkpointing, and collaboration with your team. See the full Weights & Biases Documentation **[here](https://docs.wandb.ai/quickstart)**"
      ]
    },
    {
      "cell_type": "markdown",
      "metadata": {
        "id": "9BqE5QNBEoKi"
      },
      "source": [
        "## 🤩 A shared dashboard for your experiments\n",
        "\n",
        "With just a few lines of code,\n",
        "you'll get rich, interactive, shareable dashboards [which you can see yourself here](https://wandb.ai/wandb/wandb_example).\n",
        "![](https://i.imgur.com/Pell4Oo.png)"
      ]
    },
    {
      "cell_type": "markdown",
      "metadata": {
        "id": "cmZznT1PEoKj"
      },
      "source": [
        "\n",
        "## 🔒 Data & Privacy\n",
        "\n",
        "We take security very seriously, and our cloud-hosted dashboard uses industry standard best practices for encryption. If you're working with models and datasets that cannot leave your enterprise cluster, we have [on-prem](https://docs.wandb.com/self-hosted) installations available.\n",
        "\n",
        "It's also easy to download all your data and export it to other tools — like custom analysis in a Jupyter notebook. Here's [more on our API](https://docs.wandb.com/library/api).\n",
        "\n",
        "---"
      ]
    },
    {
      "cell_type": "markdown",
      "metadata": {
        "id": "jibMU9lMEoKj"
      },
      "source": [
        "## 🪄 Install `wandb` library and login\n",
        "\n",
        "\n",
        "Start by installing the library and logging in to your free account.\n",
        "\n"
      ]
    },
    {
      "cell_type": "code",
      "execution_count": 1,
      "metadata": {
        "id": "AHzyQwesEoKk"
      },
      "outputs": [
        {
          "name": "stderr",
          "output_type": "stream",
          "text": [
            "\n",
            "[notice] A new release of pip is available: 23.2.1 -> 24.0\n",
            "[notice] To update, run: python.exe -m pip install --upgrade pip\n"
          ]
        }
      ],
      "source": [
        "!pip install wandb -qU"
      ]
    },
    {
      "cell_type": "code",
      "execution_count": 2,
      "metadata": {
        "id": "aKrobkVzEoKl"
      },
      "outputs": [],
      "source": [
        "# Log in to your W&B account\n",
        "import wandb"
      ]
    },
    {
      "cell_type": "code",
      "execution_count": 3,
      "metadata": {
        "id": "QGwHqF1REoKl"
      },
      "outputs": [
        {
          "name": "stderr",
          "output_type": "stream",
          "text": [
            "Failed to detect the name of this notebook, you can set it manually with the WANDB_NOTEBOOK_NAME environment variable to enable code saving.\n",
            "\u001b[34m\u001b[1mwandb\u001b[0m: Currently logged in as: \u001b[33mcorneliusdeng\u001b[0m (\u001b[33mcomputerscience\u001b[0m). Use \u001b[1m`wandb login --relogin`\u001b[0m to force relogin\n",
            "\u001b[34m\u001b[1mwandb\u001b[0m: \u001b[33mWARNING\u001b[0m If you're specifying your api key in code, ensure this code is not shared publicly.\n",
            "\u001b[34m\u001b[1mwandb\u001b[0m: \u001b[33mWARNING\u001b[0m Consider setting the WANDB_API_KEY environment variable, or running `wandb login` from the command line.\n",
            "\u001b[34m\u001b[1mwandb\u001b[0m: Appending key for api.wandb.ai to your netrc file: C:\\Users\\b1301\\.netrc\n"
          ]
        },
        {
          "data": {
            "text/plain": [
              "True"
            ]
          },
          "execution_count": 3,
          "metadata": {},
          "output_type": "execute_result"
        }
      ],
      "source": [
        "# wandb.login(key='')\n",
        "wandb.login()"
      ]
    },
    {
      "cell_type": "markdown",
      "metadata": {
        "id": "sPgFmVZsEoKl"
      },
      "source": [
        "## 👟 Run an experiment\n",
        "1️⃣. **Start a new run** and pass in hyperparameters to track\n",
        "\n",
        "2️⃣. **Log metrics** from training or evaluation\n",
        "\n",
        "3️⃣. **Visualize results** in the dashboard"
      ]
    },
    {
      "cell_type": "code",
      "execution_count": 4,
      "metadata": {
        "id": "zD8KKDFKEoKm"
      },
      "outputs": [
        {
          "data": {
            "text/html": [
              "Tracking run with wandb version 0.16.6"
            ],
            "text/plain": [
              "<IPython.core.display.HTML object>"
            ]
          },
          "metadata": {},
          "output_type": "display_data"
        },
        {
          "data": {
            "text/html": [
              "Run data is saved locally in <code>d:\\UESTC\\Code for Scattered Knowledge\\wandb\\run-20240417_112831-nuqg4wkv</code>"
            ],
            "text/plain": [
              "<IPython.core.display.HTML object>"
            ]
          },
          "metadata": {},
          "output_type": "display_data"
        },
        {
          "data": {
            "text/html": [
              "Syncing run <strong><a href='https://wandb.ai/computerscience/basic-introduction/runs/nuqg4wkv' target=\"_blank\">experiment_0</a></strong> to <a href='https://wandb.ai/computerscience/basic-introduction' target=\"_blank\">Weights & Biases</a> (<a href='https://wandb.me/run' target=\"_blank\">docs</a>)<br/>"
            ],
            "text/plain": [
              "<IPython.core.display.HTML object>"
            ]
          },
          "metadata": {},
          "output_type": "display_data"
        },
        {
          "data": {
            "text/html": [
              " View project at <a href='https://wandb.ai/computerscience/basic-introduction' target=\"_blank\">https://wandb.ai/computerscience/basic-introduction</a>"
            ],
            "text/plain": [
              "<IPython.core.display.HTML object>"
            ]
          },
          "metadata": {},
          "output_type": "display_data"
        },
        {
          "data": {
            "text/html": [
              " View run at <a href='https://wandb.ai/computerscience/basic-introduction/runs/nuqg4wkv' target=\"_blank\">https://wandb.ai/computerscience/basic-introduction/runs/nuqg4wkv</a>"
            ],
            "text/plain": [
              "<IPython.core.display.HTML object>"
            ]
          },
          "metadata": {},
          "output_type": "display_data"
        },
        {
          "name": "stdout",
          "output_type": "stream",
          "text": [
            "Epoch 2, Loss: 0.7816898103998756, Accuracy: 0.2663882901176121\n",
            "Epoch 3, Loss: 0.44431268863440265, Accuracy: 0.4969233143783287\n",
            "Epoch 4, Loss: 0.4464390143297866, Accuracy: 0.5489216131426684\n",
            "Epoch 5, Loss: 0.3090050563971666, Accuracy: 0.7005221337542197\n",
            "Epoch 6, Loss: 0.26101697409639524, Accuracy: 0.7860458416676107\n",
            "Epoch 7, Loss: 0.307999851701217, Accuracy: 0.694680847008979\n",
            "Epoch 8, Loss: 0.24973178243869332, Accuracy: 0.7635701648595201\n",
            "Epoch 9, Loss: 0.16549993160340146, Accuracy: 0.735963740289003\n"
          ]
        },
        {
          "data": {
            "text/html": [
              "<style>\n",
              "    table.wandb td:nth-child(1) { padding: 0 10px; text-align: left ; width: auto;} td:nth-child(2) {text-align: left ; width: 100%}\n",
              "    .wandb-row { display: flex; flex-direction: row; flex-wrap: wrap; justify-content: flex-start; width: 100% }\n",
              "    .wandb-col { display: flex; flex-direction: column; flex-basis: 100%; flex: 1; padding: 10px; }\n",
              "    </style>\n",
              "<div class=\"wandb-row\"><div class=\"wandb-col\"><h3>Run history:</h3><br/><table class=\"wandb\"><tr><td>acc</td><td>▁▄▅▇█▇█▇</td></tr><tr><td>loss</td><td>█▄▄▃▂▃▂▁</td></tr></table><br/></div><div class=\"wandb-col\"><h3>Run summary:</h3><br/><table class=\"wandb\"><tr><td>acc</td><td>0.73596</td></tr><tr><td>loss</td><td>0.1655</td></tr></table><br/></div></div>"
            ],
            "text/plain": [
              "<IPython.core.display.HTML object>"
            ]
          },
          "metadata": {},
          "output_type": "display_data"
        },
        {
          "data": {
            "text/html": [
              " View run <strong style=\"color:#cdcd00\">experiment_0</strong> at: <a href='https://wandb.ai/computerscience/basic-introduction/runs/nuqg4wkv' target=\"_blank\">https://wandb.ai/computerscience/basic-introduction/runs/nuqg4wkv</a><br/> View project at: <a href='https://wandb.ai/computerscience/basic-introduction' target=\"_blank\">https://wandb.ai/computerscience/basic-introduction</a><br/>Synced 5 W&B file(s), 0 media file(s), 0 artifact file(s) and 0 other file(s)"
            ],
            "text/plain": [
              "<IPython.core.display.HTML object>"
            ]
          },
          "metadata": {},
          "output_type": "display_data"
        },
        {
          "data": {
            "text/html": [
              "Find logs at: <code>.\\wandb\\run-20240417_112831-nuqg4wkv\\logs</code>"
            ],
            "text/plain": [
              "<IPython.core.display.HTML object>"
            ]
          },
          "metadata": {},
          "output_type": "display_data"
        },
        {
          "data": {
            "text/html": [
              "Tracking run with wandb version 0.16.6"
            ],
            "text/plain": [
              "<IPython.core.display.HTML object>"
            ]
          },
          "metadata": {},
          "output_type": "display_data"
        },
        {
          "data": {
            "text/html": [
              "Run data is saved locally in <code>d:\\UESTC\\Code for Scattered Knowledge\\wandb\\run-20240417_112844-glwqjrzv</code>"
            ],
            "text/plain": [
              "<IPython.core.display.HTML object>"
            ]
          },
          "metadata": {},
          "output_type": "display_data"
        },
        {
          "data": {
            "text/html": [
              "Syncing run <strong><a href='https://wandb.ai/computerscience/basic-introduction/runs/glwqjrzv' target=\"_blank\">experiment_1</a></strong> to <a href='https://wandb.ai/computerscience/basic-introduction' target=\"_blank\">Weights & Biases</a> (<a href='https://wandb.me/run' target=\"_blank\">docs</a>)<br/>"
            ],
            "text/plain": [
              "<IPython.core.display.HTML object>"
            ]
          },
          "metadata": {},
          "output_type": "display_data"
        },
        {
          "data": {
            "text/html": [
              " View project at <a href='https://wandb.ai/computerscience/basic-introduction' target=\"_blank\">https://wandb.ai/computerscience/basic-introduction</a>"
            ],
            "text/plain": [
              "<IPython.core.display.HTML object>"
            ]
          },
          "metadata": {},
          "output_type": "display_data"
        },
        {
          "data": {
            "text/html": [
              " View run at <a href='https://wandb.ai/computerscience/basic-introduction/runs/glwqjrzv' target=\"_blank\">https://wandb.ai/computerscience/basic-introduction/runs/glwqjrzv</a>"
            ],
            "text/plain": [
              "<IPython.core.display.HTML object>"
            ]
          },
          "metadata": {},
          "output_type": "display_data"
        },
        {
          "name": "stdout",
          "output_type": "stream",
          "text": [
            "Epoch 2, Loss: 0.9026221846882346, Accuracy: 0.2238156561734204\n",
            "Epoch 3, Loss: 0.39528261145604826, Accuracy: 0.5378839946094772\n",
            "Epoch 4, Loss: 0.4306477107751313, Accuracy: 0.7180715197174959\n",
            "Epoch 5, Loss: 0.23577198826082205, Accuracy: 0.7587037977298684\n",
            "Epoch 6, Loss: 0.23751870973251804, Accuracy: 0.6993777422490061\n",
            "Epoch 7, Loss: 0.2553331814710113, Accuracy: 0.7167516532944638\n",
            "Epoch 8, Loss: 0.19323185255017405, Accuracy: 0.778837478391378\n",
            "Epoch 9, Loss: 0.25589809129359814, Accuracy: 0.7908703660422747\n"
          ]
        },
        {
          "data": {
            "text/html": [
              "<style>\n",
              "    table.wandb td:nth-child(1) { padding: 0 10px; text-align: left ; width: auto;} td:nth-child(2) {text-align: left ; width: 100%}\n",
              "    .wandb-row { display: flex; flex-direction: row; flex-wrap: wrap; justify-content: flex-start; width: 100% }\n",
              "    .wandb-col { display: flex; flex-direction: column; flex-basis: 100%; flex: 1; padding: 10px; }\n",
              "    </style>\n",
              "<div class=\"wandb-row\"><div class=\"wandb-col\"><h3>Run history:</h3><br/><table class=\"wandb\"><tr><td>acc</td><td>▁▅▇█▇▇██</td></tr><tr><td>loss</td><td>█▃▃▁▁▂▁▂</td></tr></table><br/></div><div class=\"wandb-col\"><h3>Run summary:</h3><br/><table class=\"wandb\"><tr><td>acc</td><td>0.79087</td></tr><tr><td>loss</td><td>0.2559</td></tr></table><br/></div></div>"
            ],
            "text/plain": [
              "<IPython.core.display.HTML object>"
            ]
          },
          "metadata": {},
          "output_type": "display_data"
        },
        {
          "data": {
            "text/html": [
              " View run <strong style=\"color:#cdcd00\">experiment_1</strong> at: <a href='https://wandb.ai/computerscience/basic-introduction/runs/glwqjrzv' target=\"_blank\">https://wandb.ai/computerscience/basic-introduction/runs/glwqjrzv</a><br/> View project at: <a href='https://wandb.ai/computerscience/basic-introduction' target=\"_blank\">https://wandb.ai/computerscience/basic-introduction</a><br/>Synced 5 W&B file(s), 0 media file(s), 0 artifact file(s) and 0 other file(s)"
            ],
            "text/plain": [
              "<IPython.core.display.HTML object>"
            ]
          },
          "metadata": {},
          "output_type": "display_data"
        },
        {
          "data": {
            "text/html": [
              "Find logs at: <code>.\\wandb\\run-20240417_112844-glwqjrzv\\logs</code>"
            ],
            "text/plain": [
              "<IPython.core.display.HTML object>"
            ]
          },
          "metadata": {},
          "output_type": "display_data"
        },
        {
          "data": {
            "text/html": [
              "Tracking run with wandb version 0.16.6"
            ],
            "text/plain": [
              "<IPython.core.display.HTML object>"
            ]
          },
          "metadata": {},
          "output_type": "display_data"
        },
        {
          "data": {
            "text/html": [
              "Run data is saved locally in <code>d:\\UESTC\\Code for Scattered Knowledge\\wandb\\run-20240417_112857-8udnlafy</code>"
            ],
            "text/plain": [
              "<IPython.core.display.HTML object>"
            ]
          },
          "metadata": {},
          "output_type": "display_data"
        },
        {
          "data": {
            "text/html": [
              "Syncing run <strong><a href='https://wandb.ai/computerscience/basic-introduction/runs/8udnlafy' target=\"_blank\">experiment_2</a></strong> to <a href='https://wandb.ai/computerscience/basic-introduction' target=\"_blank\">Weights & Biases</a> (<a href='https://wandb.me/run' target=\"_blank\">docs</a>)<br/>"
            ],
            "text/plain": [
              "<IPython.core.display.HTML object>"
            ]
          },
          "metadata": {},
          "output_type": "display_data"
        },
        {
          "data": {
            "text/html": [
              " View project at <a href='https://wandb.ai/computerscience/basic-introduction' target=\"_blank\">https://wandb.ai/computerscience/basic-introduction</a>"
            ],
            "text/plain": [
              "<IPython.core.display.HTML object>"
            ]
          },
          "metadata": {},
          "output_type": "display_data"
        },
        {
          "data": {
            "text/html": [
              " View run at <a href='https://wandb.ai/computerscience/basic-introduction/runs/8udnlafy' target=\"_blank\">https://wandb.ai/computerscience/basic-introduction/runs/8udnlafy</a>"
            ],
            "text/plain": [
              "<IPython.core.display.HTML object>"
            ]
          },
          "metadata": {},
          "output_type": "display_data"
        },
        {
          "name": "stdout",
          "output_type": "stream",
          "text": [
            "Epoch 2, Loss: 0.8500156614050123, Accuracy: 0.3084135411497506\n",
            "Epoch 3, Loss: 0.46974384160779203, Accuracy: 0.7112336048456619\n",
            "Epoch 4, Loss: 0.35639472453281545, Accuracy: 0.7381261117361693\n",
            "Epoch 5, Loss: 0.3343133459325681, Accuracy: 0.6195134579609429\n",
            "Epoch 6, Loss: 0.2528389144601247, Accuracy: 0.7344539099173513\n",
            "Epoch 7, Loss: 0.2381362614497416, Accuracy: 0.7545021238538521\n",
            "Epoch 8, Loss: 0.28186287180627445, Accuracy: 0.7491667691759023\n",
            "Epoch 9, Loss: 0.16118961393159226, Accuracy: 0.7849961062594271\n"
          ]
        },
        {
          "data": {
            "text/html": [
              "<style>\n",
              "    table.wandb td:nth-child(1) { padding: 0 10px; text-align: left ; width: auto;} td:nth-child(2) {text-align: left ; width: 100%}\n",
              "    .wandb-row { display: flex; flex-direction: row; flex-wrap: wrap; justify-content: flex-start; width: 100% }\n",
              "    .wandb-col { display: flex; flex-direction: column; flex-basis: 100%; flex: 1; padding: 10px; }\n",
              "    </style>\n",
              "<div class=\"wandb-row\"><div class=\"wandb-col\"><h3>Run history:</h3><br/><table class=\"wandb\"><tr><td>acc</td><td>▁▇▇▆▇█▇█</td></tr><tr><td>loss</td><td>█▄▃▃▂▂▂▁</td></tr></table><br/></div><div class=\"wandb-col\"><h3>Run summary:</h3><br/><table class=\"wandb\"><tr><td>acc</td><td>0.785</td></tr><tr><td>loss</td><td>0.16119</td></tr></table><br/></div></div>"
            ],
            "text/plain": [
              "<IPython.core.display.HTML object>"
            ]
          },
          "metadata": {},
          "output_type": "display_data"
        },
        {
          "data": {
            "text/html": [
              " View run <strong style=\"color:#cdcd00\">experiment_2</strong> at: <a href='https://wandb.ai/computerscience/basic-introduction/runs/8udnlafy' target=\"_blank\">https://wandb.ai/computerscience/basic-introduction/runs/8udnlafy</a><br/> View project at: <a href='https://wandb.ai/computerscience/basic-introduction' target=\"_blank\">https://wandb.ai/computerscience/basic-introduction</a><br/>Synced 5 W&B file(s), 0 media file(s), 0 artifact file(s) and 0 other file(s)"
            ],
            "text/plain": [
              "<IPython.core.display.HTML object>"
            ]
          },
          "metadata": {},
          "output_type": "display_data"
        },
        {
          "data": {
            "text/html": [
              "Find logs at: <code>.\\wandb\\run-20240417_112857-8udnlafy\\logs</code>"
            ],
            "text/plain": [
              "<IPython.core.display.HTML object>"
            ]
          },
          "metadata": {},
          "output_type": "display_data"
        },
        {
          "data": {
            "text/html": [
              "Tracking run with wandb version 0.16.6"
            ],
            "text/plain": [
              "<IPython.core.display.HTML object>"
            ]
          },
          "metadata": {},
          "output_type": "display_data"
        },
        {
          "data": {
            "text/html": [
              "Run data is saved locally in <code>d:\\UESTC\\Code for Scattered Knowledge\\wandb\\run-20240417_112911-bwv8eudn</code>"
            ],
            "text/plain": [
              "<IPython.core.display.HTML object>"
            ]
          },
          "metadata": {},
          "output_type": "display_data"
        },
        {
          "data": {
            "text/html": [
              "Syncing run <strong><a href='https://wandb.ai/computerscience/basic-introduction/runs/bwv8eudn' target=\"_blank\">experiment_3</a></strong> to <a href='https://wandb.ai/computerscience/basic-introduction' target=\"_blank\">Weights & Biases</a> (<a href='https://wandb.me/run' target=\"_blank\">docs</a>)<br/>"
            ],
            "text/plain": [
              "<IPython.core.display.HTML object>"
            ]
          },
          "metadata": {},
          "output_type": "display_data"
        },
        {
          "data": {
            "text/html": [
              " View project at <a href='https://wandb.ai/computerscience/basic-introduction' target=\"_blank\">https://wandb.ai/computerscience/basic-introduction</a>"
            ],
            "text/plain": [
              "<IPython.core.display.HTML object>"
            ]
          },
          "metadata": {},
          "output_type": "display_data"
        },
        {
          "data": {
            "text/html": [
              " View run at <a href='https://wandb.ai/computerscience/basic-introduction/runs/bwv8eudn' target=\"_blank\">https://wandb.ai/computerscience/basic-introduction/runs/bwv8eudn</a>"
            ],
            "text/plain": [
              "<IPython.core.display.HTML object>"
            ]
          },
          "metadata": {},
          "output_type": "display_data"
        },
        {
          "name": "stdout",
          "output_type": "stream",
          "text": [
            "Epoch 2, Loss: 0.5584195414025307, Accuracy: 0.5786008002794175\n",
            "Epoch 3, Loss: 0.2145052663814015, Accuracy: 0.7616185154258296\n",
            "Epoch 4, Loss: 0.2427486755591931, Accuracy: 0.8030277677610882\n",
            "Epoch 5, Loss: 0.24096039968025812, Accuracy: 0.8454798775140971\n",
            "Epoch 6, Loss: 0.1172379952496339, Accuracy: 0.9082229529946922\n",
            "Epoch 7, Loss: 0.12419292102350249, Accuracy: 0.8494553981705537\n",
            "Epoch 8, Loss: 0.17135579954877395, Accuracy: 0.9089950716275172\n",
            "Epoch 9, Loss: 0.09347012487377021, Accuracy: 0.8611770417698474\n"
          ]
        },
        {
          "data": {
            "text/html": [
              "<style>\n",
              "    table.wandb td:nth-child(1) { padding: 0 10px; text-align: left ; width: auto;} td:nth-child(2) {text-align: left ; width: 100%}\n",
              "    .wandb-row { display: flex; flex-direction: row; flex-wrap: wrap; justify-content: flex-start; width: 100% }\n",
              "    .wandb-col { display: flex; flex-direction: column; flex-basis: 100%; flex: 1; padding: 10px; }\n",
              "    </style>\n",
              "<div class=\"wandb-row\"><div class=\"wandb-col\"><h3>Run history:</h3><br/><table class=\"wandb\"><tr><td>acc</td><td>▁▅▆▇█▇█▇</td></tr><tr><td>loss</td><td>█▃▃▃▁▁▂▁</td></tr></table><br/></div><div class=\"wandb-col\"><h3>Run summary:</h3><br/><table class=\"wandb\"><tr><td>acc</td><td>0.86118</td></tr><tr><td>loss</td><td>0.09347</td></tr></table><br/></div></div>"
            ],
            "text/plain": [
              "<IPython.core.display.HTML object>"
            ]
          },
          "metadata": {},
          "output_type": "display_data"
        },
        {
          "data": {
            "text/html": [
              " View run <strong style=\"color:#cdcd00\">experiment_3</strong> at: <a href='https://wandb.ai/computerscience/basic-introduction/runs/bwv8eudn' target=\"_blank\">https://wandb.ai/computerscience/basic-introduction/runs/bwv8eudn</a><br/> View project at: <a href='https://wandb.ai/computerscience/basic-introduction' target=\"_blank\">https://wandb.ai/computerscience/basic-introduction</a><br/>Synced 5 W&B file(s), 0 media file(s), 0 artifact file(s) and 0 other file(s)"
            ],
            "text/plain": [
              "<IPython.core.display.HTML object>"
            ]
          },
          "metadata": {},
          "output_type": "display_data"
        },
        {
          "data": {
            "text/html": [
              "Find logs at: <code>.\\wandb\\run-20240417_112911-bwv8eudn\\logs</code>"
            ],
            "text/plain": [
              "<IPython.core.display.HTML object>"
            ]
          },
          "metadata": {},
          "output_type": "display_data"
        },
        {
          "data": {
            "text/html": [
              "Tracking run with wandb version 0.16.6"
            ],
            "text/plain": [
              "<IPython.core.display.HTML object>"
            ]
          },
          "metadata": {},
          "output_type": "display_data"
        },
        {
          "data": {
            "text/html": [
              "Run data is saved locally in <code>d:\\UESTC\\Code for Scattered Knowledge\\wandb\\run-20240417_112924-qdh9c9cv</code>"
            ],
            "text/plain": [
              "<IPython.core.display.HTML object>"
            ]
          },
          "metadata": {},
          "output_type": "display_data"
        },
        {
          "data": {
            "text/html": [
              "Syncing run <strong><a href='https://wandb.ai/computerscience/basic-introduction/runs/qdh9c9cv' target=\"_blank\">experiment_4</a></strong> to <a href='https://wandb.ai/computerscience/basic-introduction' target=\"_blank\">Weights & Biases</a> (<a href='https://wandb.me/run' target=\"_blank\">docs</a>)<br/>"
            ],
            "text/plain": [
              "<IPython.core.display.HTML object>"
            ]
          },
          "metadata": {},
          "output_type": "display_data"
        },
        {
          "data": {
            "text/html": [
              " View project at <a href='https://wandb.ai/computerscience/basic-introduction' target=\"_blank\">https://wandb.ai/computerscience/basic-introduction</a>"
            ],
            "text/plain": [
              "<IPython.core.display.HTML object>"
            ]
          },
          "metadata": {},
          "output_type": "display_data"
        },
        {
          "data": {
            "text/html": [
              " View run at <a href='https://wandb.ai/computerscience/basic-introduction/runs/qdh9c9cv' target=\"_blank\">https://wandb.ai/computerscience/basic-introduction/runs/qdh9c9cv</a>"
            ],
            "text/plain": [
              "<IPython.core.display.HTML object>"
            ]
          },
          "metadata": {},
          "output_type": "display_data"
        },
        {
          "name": "stdout",
          "output_type": "stream",
          "text": [
            "Epoch 2, Loss: 0.8252379383289781, Accuracy: 0.3660396432610477\n",
            "Epoch 3, Loss: 0.32809393507038653, Accuracy: 0.4212920049252264\n",
            "Epoch 4, Loss: 0.3781697477048168, Accuracy: 0.5462608925175394\n",
            "Epoch 5, Loss: 0.23458300630771164, Accuracy: 0.6556527893135418\n",
            "Epoch 6, Loss: 0.3605636190729789, Accuracy: 0.6716535118683511\n",
            "Epoch 7, Loss: 0.29269203326622645, Accuracy: 0.691539166840222\n",
            "Epoch 8, Loss: 0.30016730855413754, Accuracy: 0.7552815449292338\n",
            "Epoch 9, Loss: 0.27575864191094857, Accuracy: 0.78029147129254\n"
          ]
        },
        {
          "data": {
            "text/html": [
              "<style>\n",
              "    table.wandb td:nth-child(1) { padding: 0 10px; text-align: left ; width: auto;} td:nth-child(2) {text-align: left ; width: 100%}\n",
              "    .wandb-row { display: flex; flex-direction: row; flex-wrap: wrap; justify-content: flex-start; width: 100% }\n",
              "    .wandb-col { display: flex; flex-direction: column; flex-basis: 100%; flex: 1; padding: 10px; }\n",
              "    </style>\n",
              "<div class=\"wandb-row\"><div class=\"wandb-col\"><h3>Run history:</h3><br/><table class=\"wandb\"><tr><td>acc</td><td>▁▂▄▆▆▇██</td></tr><tr><td>loss</td><td>█▂▃▁▂▂▂▁</td></tr></table><br/></div><div class=\"wandb-col\"><h3>Run summary:</h3><br/><table class=\"wandb\"><tr><td>acc</td><td>0.78029</td></tr><tr><td>loss</td><td>0.27576</td></tr></table><br/></div></div>"
            ],
            "text/plain": [
              "<IPython.core.display.HTML object>"
            ]
          },
          "metadata": {},
          "output_type": "display_data"
        },
        {
          "data": {
            "text/html": [
              " View run <strong style=\"color:#cdcd00\">experiment_4</strong> at: <a href='https://wandb.ai/computerscience/basic-introduction/runs/qdh9c9cv' target=\"_blank\">https://wandb.ai/computerscience/basic-introduction/runs/qdh9c9cv</a><br/> View project at: <a href='https://wandb.ai/computerscience/basic-introduction' target=\"_blank\">https://wandb.ai/computerscience/basic-introduction</a><br/>Synced 5 W&B file(s), 0 media file(s), 0 artifact file(s) and 0 other file(s)"
            ],
            "text/plain": [
              "<IPython.core.display.HTML object>"
            ]
          },
          "metadata": {},
          "output_type": "display_data"
        },
        {
          "data": {
            "text/html": [
              "Find logs at: <code>.\\wandb\\run-20240417_112924-qdh9c9cv\\logs</code>"
            ],
            "text/plain": [
              "<IPython.core.display.HTML object>"
            ]
          },
          "metadata": {},
          "output_type": "display_data"
        }
      ],
      "source": [
        "import random\n",
        "\n",
        "# Launch 5 simulated experiments\n",
        "total_runs = 5\n",
        "for run in range(total_runs):\n",
        "  # 🐝 1️⃣ Start a new run to track this script\n",
        "  wandb.init(\n",
        "      # Set the project where this run will be logged\n",
        "      project=\"basic-introduction\",\n",
        "      # We pass a run name (otherwise it’ll be randomly assigned, like sunshine-lollypop-10)\n",
        "      name=f\"experiment_{run}\",\n",
        "      # Track hyperparameters and run metadata\n",
        "      config={\n",
        "      \"learning_rate\": 0.02,\n",
        "      \"architecture\": \"CNN\",\n",
        "      \"dataset\": \"CIFAR-100\",\n",
        "      \"epochs\": 10,\n",
        "      })\n",
        "\n",
        "  # This simple block simulates a training loop logging metrics\n",
        "  epochs = 10\n",
        "  offset = random.random() / 5\n",
        "  for epoch in range(2, epochs):\n",
        "      acc = 1 - 2 ** -epoch - random.random() / epoch - offset\n",
        "      loss = 2 ** -epoch + random.random() / epoch + offset\n",
        "      print(f\"Epoch {epoch}, Loss: {loss}, Accuracy: {acc}\")\n",
        "      # 🐝 2️⃣ Log metrics from your script to W&B\n",
        "      wandb.log({\"acc\": acc, \"loss\": loss})\n",
        "\n",
        "  # Mark the run as finished\n",
        "  wandb.finish()"
      ]
    },
    {
      "cell_type": "markdown",
      "metadata": {
        "id": "1nqkaJKmEoKm"
      },
      "source": [
        "3️⃣ You can find your interactive dashboard by clicking any of the  👆 wandb links above."
      ]
    },
    {
      "cell_type": "markdown",
      "metadata": {
        "id": "6oDs5z9XEoKm"
      },
      "source": [
        "# 🔥 Simple Pytorch Neural Network\n",
        "\n",
        "💪 Run this model to train a simple MNIST classifier, and click on the project page link to see your results stream in live to a W&B project.\n",
        "\n",
        "\n",
        "Any run in `wandb` automatically logs [metrics](https://docs.wandb.ai/ref/app/pages/run-page#charts-tab),\n",
        "[system information](https://docs.wandb.ai/ref/app/pages/run-page#system-tab),\n",
        "[hyperparameters](https://docs.wandb.ai/ref/app/pages/run-page#overview-tab),\n",
        "[terminal output](https://docs.wandb.ai/ref/app/pages/run-page#logs-tab) and\n",
        "you'll see an [interactive table](https://docs.wandb.ai/guides/data-vis)\n",
        "with model inputs and outputs."
      ]
    },
    {
      "cell_type": "markdown",
      "metadata": {
        "id": "HbAnkfnNEoKm"
      },
      "source": [
        "## Set up Dataloader"
      ]
    },
    {
      "cell_type": "code",
      "execution_count": 7,
      "metadata": {
        "id": "_PWylg67EoKm"
      },
      "outputs": [],
      "source": [
        "#@title\n",
        "import wandb\n",
        "import math\n",
        "import random\n",
        "import torch, torchvision\n",
        "import torch.nn as nn\n",
        "import torchvision.transforms as T\n",
        "\n",
        "# device = \"cuda:0\" if torch.cuda.is_available() else \"cpu\"\n",
        "device = \"cpu\"\n",
        "\n",
        "def get_dataloader(is_train, batch_size, slice=5):\n",
        "    '''\n",
        "    Get a training dataloader\n",
        "    is_train: Boolean indicating if the data is for training.\n",
        "    batch_size: Number of samples per batch.\n",
        "    slice: Step size for slicing the dataset.\n",
        "    '''\n",
        "    full_dataset = torchvision.datasets.MNIST(root=\".\", train=is_train, transform=T.ToTensor(), download=True)\n",
        "    sub_dataset = torch.utils.data.Subset(full_dataset, indices=range(0, len(full_dataset), slice))\n",
        "    loader = torch.utils.data.DataLoader(dataset=sub_dataset,\n",
        "                                         batch_size=batch_size,\n",
        "                                         shuffle=True if is_train else False,\n",
        "                                         pin_memory=True, num_workers=2)\n",
        "    return loader\n",
        "\n",
        "def get_model(dropout):\n",
        "    '''\n",
        "    A simple model with a single hidden layer.\n",
        "    dropout: Dropout rate for the Dropout layer in the model.\n",
        "    '''\n",
        "    model = nn.Sequential(nn.Flatten(),\n",
        "                         nn.Linear(28*28, 256),\n",
        "                         nn.BatchNorm1d(256),\n",
        "                         nn.ReLU(),\n",
        "                         nn.Dropout(dropout),\n",
        "                         nn.Linear(256,10)).to(device)\n",
        "    return model\n",
        "\n",
        "def validate_model(model, valid_dl, loss_func, log_images=False, batch_idx=0):\n",
        "    '''\n",
        "    Compute performance of the model on the validation dataset and log a wandb.Table\n",
        "    model: The model to be validated.\n",
        "    valid_dl: The dataloader for the validation data.\n",
        "    loss_func: The loss function.\n",
        "    log_images: Boolean indicating if images should be logged.\n",
        "    batch_idx: The batch index for logging images.\n",
        "    '''\n",
        "    model.eval()\n",
        "    val_loss = 0.\n",
        "    # Use torch's inference_mode context manager to disable gradient computation to save memory.\n",
        "    with torch.inference_mode():\n",
        "        correct = 0\n",
        "        for i, (images, labels) in enumerate(valid_dl):\n",
        "            images, labels = images.to(device), labels.to(device)\n",
        "\n",
        "            # Forward pass to compute the model's output.\n",
        "            outputs = model(images)\n",
        "            val_loss += loss_func(outputs, labels)*labels.size(0)\n",
        "\n",
        "            # Compute accuracy and accumulate\n",
        "            _, predicted = torch.max(outputs.data, 1)\n",
        "            correct += (predicted == labels).sum().item()\n",
        "\n",
        "            # If images should be logged and the current batch index is the same as the batch index for logging, log the images.\n",
        "            if i==batch_idx and log_images:\n",
        "                log_image_table(images, predicted, labels, outputs.softmax(dim=1))\n",
        "\n",
        "    return val_loss / len(valid_dl.dataset), correct / len(valid_dl.dataset)\n",
        "\n",
        "def log_image_table(images, predicted, labels, probs):\n",
        "    '''\n",
        "    Log a wandb.Table with (img, pred, target, scores)\n",
        "    '''\n",
        "    # 🐝 Create a wandb Table to log images, labels and predictions to\n",
        "    table = wandb.Table(columns=[\"image\", \"pred\", \"target\"]+[f\"score_{i}\" for i in range(10)])\n",
        "    for img, pred, targ, prob in zip(images.to(\"cpu\"), predicted.to(\"cpu\"), labels.to(\"cpu\"), probs.to(\"cpu\")):\n",
        "        table.add_data(wandb.Image(img[0].numpy()*255), pred, targ, *prob.numpy())\n",
        "    wandb.log({\"predictions_table\":table}, commit=False)"
      ]
    },
    {
      "cell_type": "markdown",
      "metadata": {
        "id": "aPp6F51cEoKm"
      },
      "source": [
        "## Train Your Model"
      ]
    },
    {
      "cell_type": "code",
      "execution_count": 8,
      "metadata": {
        "id": "fSwccvaVEoKn"
      },
      "outputs": [
        {
          "data": {
            "text/html": [
              "Finishing last run (ID:yapmgakj) before initializing another..."
            ],
            "text/plain": [
              "<IPython.core.display.HTML object>"
            ]
          },
          "metadata": {},
          "output_type": "display_data"
        },
        {
          "data": {
            "text/html": [
              " View run <strong style=\"color:#cdcd00\">ethereal-vortex-1</strong> at: <a href='https://wandb.ai/computerscience/pytorch-introduction/runs/yapmgakj' target=\"_blank\">https://wandb.ai/computerscience/pytorch-introduction/runs/yapmgakj</a><br/> View project at: <a href='https://wandb.ai/computerscience/pytorch-introduction' target=\"_blank\">https://wandb.ai/computerscience/pytorch-introduction</a><br/>Synced 5 W&B file(s), 0 media file(s), 0 artifact file(s) and 0 other file(s)"
            ],
            "text/plain": [
              "<IPython.core.display.HTML object>"
            ]
          },
          "metadata": {},
          "output_type": "display_data"
        },
        {
          "data": {
            "text/html": [
              "Find logs at: <code>.\\wandb\\run-20240417_113049-yapmgakj\\logs</code>"
            ],
            "text/plain": [
              "<IPython.core.display.HTML object>"
            ]
          },
          "metadata": {},
          "output_type": "display_data"
        },
        {
          "data": {
            "text/html": [
              "Successfully finished last run (ID:yapmgakj). Initializing new run:<br/>"
            ],
            "text/plain": [
              "<IPython.core.display.HTML object>"
            ]
          },
          "metadata": {},
          "output_type": "display_data"
        },
        {
          "data": {
            "text/html": [
              "Tracking run with wandb version 0.16.6"
            ],
            "text/plain": [
              "<IPython.core.display.HTML object>"
            ]
          },
          "metadata": {},
          "output_type": "display_data"
        },
        {
          "data": {
            "text/html": [
              "Run data is saved locally in <code>d:\\UESTC\\Code for Scattered Knowledge\\wandb\\run-20240417_113330-7tvkrc6i</code>"
            ],
            "text/plain": [
              "<IPython.core.display.HTML object>"
            ]
          },
          "metadata": {},
          "output_type": "display_data"
        },
        {
          "data": {
            "text/html": [
              "Syncing run <strong><a href='https://wandb.ai/computerscience/pytorch-introduction/runs/7tvkrc6i' target=\"_blank\">fancy-paper-2</a></strong> to <a href='https://wandb.ai/computerscience/pytorch-introduction' target=\"_blank\">Weights & Biases</a> (<a href='https://wandb.me/run' target=\"_blank\">docs</a>)<br/>"
            ],
            "text/plain": [
              "<IPython.core.display.HTML object>"
            ]
          },
          "metadata": {},
          "output_type": "display_data"
        },
        {
          "data": {
            "text/html": [
              " View project at <a href='https://wandb.ai/computerscience/pytorch-introduction' target=\"_blank\">https://wandb.ai/computerscience/pytorch-introduction</a>"
            ],
            "text/plain": [
              "<IPython.core.display.HTML object>"
            ]
          },
          "metadata": {},
          "output_type": "display_data"
        },
        {
          "data": {
            "text/html": [
              " View run at <a href='https://wandb.ai/computerscience/pytorch-introduction/runs/7tvkrc6i' target=\"_blank\">https://wandb.ai/computerscience/pytorch-introduction/runs/7tvkrc6i</a>"
            ],
            "text/plain": [
              "<IPython.core.display.HTML object>"
            ]
          },
          "metadata": {},
          "output_type": "display_data"
        },
        {
          "name": "stdout",
          "output_type": "stream",
          "text": [
            "Train Loss: 0.532, Valid Loss: 0.372534, Accuracy: 0.90\n",
            "Train Loss: 0.282, Valid Loss: 0.293276, Accuracy: 0.91\n",
            "Train Loss: 0.371, Valid Loss: 0.263416, Accuracy: 0.92\n",
            "Train Loss: 0.410, Valid Loss: 0.254368, Accuracy: 0.92\n",
            "Train Loss: 0.224, Valid Loss: 0.238269, Accuracy: 0.93\n",
            "Train Loss: 0.384, Valid Loss: 0.235984, Accuracy: 0.93\n",
            "Train Loss: 0.374, Valid Loss: 0.217938, Accuracy: 0.93\n",
            "Train Loss: 0.294, Valid Loss: 0.214709, Accuracy: 0.93\n",
            "Train Loss: 0.356, Valid Loss: 0.209258, Accuracy: 0.93\n",
            "Train Loss: 0.381, Valid Loss: 0.206608, Accuracy: 0.93\n"
          ]
        },
        {
          "data": {
            "text/html": [
              "<style>\n",
              "    table.wandb td:nth-child(1) { padding: 0 10px; text-align: left ; width: auto;} td:nth-child(2) {text-align: left ; width: 100%}\n",
              "    .wandb-row { display: flex; flex-direction: row; flex-wrap: wrap; justify-content: flex-start; width: 100% }\n",
              "    .wandb-col { display: flex; flex-direction: column; flex-basis: 100%; flex: 1; padding: 10px; }\n",
              "    </style>\n",
              "<div class=\"wandb-row\"><div class=\"wandb-col\"><h3>Run history:</h3><br/><table class=\"wandb\"><tr><td>train/epoch</td><td>▁▁▁▁▂▂▂▂▂▃▃▃▃▃▃▄▄▄▄▄▅▅▅▅▅▅▆▆▆▆▆▇▇▇▇▇▇███</td></tr><tr><td>train/example_ct</td><td>▁▁▁▁▂▂▂▂▂▃▃▃▃▃▃▄▄▄▄▄▅▅▅▅▅▅▆▆▆▆▆▇▇▇▇▇▇███</td></tr><tr><td>train/train_loss</td><td>█▄▃▄▃▃▂▃▂▃▂▂▂▂▂▃▁▁▂▂▂▂▂▂▂▂▂▂▂▂▂▁▁▂▂▂▂▂▂▁</td></tr><tr><td>val/val_accuracy</td><td>▁▄▆▅▇▇████</td></tr><tr><td>val/val_loss</td><td>█▅▃▃▂▂▁▁▁▁</td></tr></table><br/></div><div class=\"wandb-col\"><h3>Run summary:</h3><br/><table class=\"wandb\"><tr><td>test_accuracy</td><td>0.8</td></tr><tr><td>train/epoch</td><td>10.0</td></tr><tr><td>train/example_ct</td><td>120000</td></tr><tr><td>train/train_loss</td><td>0.38117</td></tr><tr><td>val/val_accuracy</td><td>0.932</td></tr><tr><td>val/val_loss</td><td>0.20661</td></tr></table><br/></div></div>"
            ],
            "text/plain": [
              "<IPython.core.display.HTML object>"
            ]
          },
          "metadata": {},
          "output_type": "display_data"
        },
        {
          "data": {
            "text/html": [
              " View run <strong style=\"color:#cdcd00\">fancy-paper-2</strong> at: <a href='https://wandb.ai/computerscience/pytorch-introduction/runs/7tvkrc6i' target=\"_blank\">https://wandb.ai/computerscience/pytorch-introduction/runs/7tvkrc6i</a><br/> View project at: <a href='https://wandb.ai/computerscience/pytorch-introduction' target=\"_blank\">https://wandb.ai/computerscience/pytorch-introduction</a><br/>Synced 5 W&B file(s), 1 media file(s), 257 artifact file(s) and 0 other file(s)"
            ],
            "text/plain": [
              "<IPython.core.display.HTML object>"
            ]
          },
          "metadata": {},
          "output_type": "display_data"
        },
        {
          "data": {
            "text/html": [
              "Find logs at: <code>.\\wandb\\run-20240417_113330-7tvkrc6i\\logs</code>"
            ],
            "text/plain": [
              "<IPython.core.display.HTML object>"
            ]
          },
          "metadata": {},
          "output_type": "display_data"
        },
        {
          "data": {
            "text/html": [
              "Tracking run with wandb version 0.16.6"
            ],
            "text/plain": [
              "<IPython.core.display.HTML object>"
            ]
          },
          "metadata": {},
          "output_type": "display_data"
        },
        {
          "data": {
            "text/html": [
              "Run data is saved locally in <code>d:\\UESTC\\Code for Scattered Knowledge\\wandb\\run-20240417_113454-gpuiiybz</code>"
            ],
            "text/plain": [
              "<IPython.core.display.HTML object>"
            ]
          },
          "metadata": {},
          "output_type": "display_data"
        },
        {
          "data": {
            "text/html": [
              "Syncing run <strong><a href='https://wandb.ai/computerscience/pytorch-introduction/runs/gpuiiybz' target=\"_blank\">revived-forest-3</a></strong> to <a href='https://wandb.ai/computerscience/pytorch-introduction' target=\"_blank\">Weights & Biases</a> (<a href='https://wandb.me/run' target=\"_blank\">docs</a>)<br/>"
            ],
            "text/plain": [
              "<IPython.core.display.HTML object>"
            ]
          },
          "metadata": {},
          "output_type": "display_data"
        },
        {
          "data": {
            "text/html": [
              " View project at <a href='https://wandb.ai/computerscience/pytorch-introduction' target=\"_blank\">https://wandb.ai/computerscience/pytorch-introduction</a>"
            ],
            "text/plain": [
              "<IPython.core.display.HTML object>"
            ]
          },
          "metadata": {},
          "output_type": "display_data"
        },
        {
          "data": {
            "text/html": [
              " View run at <a href='https://wandb.ai/computerscience/pytorch-introduction/runs/gpuiiybz' target=\"_blank\">https://wandb.ai/computerscience/pytorch-introduction/runs/gpuiiybz</a>"
            ],
            "text/plain": [
              "<IPython.core.display.HTML object>"
            ]
          },
          "metadata": {},
          "output_type": "display_data"
        },
        {
          "name": "stdout",
          "output_type": "stream",
          "text": [
            "Train Loss: 0.292, Valid Loss: 0.270972, Accuracy: 0.92\n",
            "Train Loss: 0.226, Valid Loss: 0.215721, Accuracy: 0.94\n",
            "Train Loss: 0.159, Valid Loss: 0.187632, Accuracy: 0.94\n",
            "Train Loss: 0.118, Valid Loss: 0.175033, Accuracy: 0.95\n",
            "Train Loss: 0.095, Valid Loss: 0.161967, Accuracy: 0.95\n",
            "Train Loss: 0.041, Valid Loss: 0.160189, Accuracy: 0.95\n",
            "Train Loss: 0.029, Valid Loss: 0.162345, Accuracy: 0.94\n",
            "Train Loss: 0.037, Valid Loss: 0.153206, Accuracy: 0.95\n",
            "Train Loss: 0.031, Valid Loss: 0.147984, Accuracy: 0.95\n",
            "Train Loss: 0.018, Valid Loss: 0.154003, Accuracy: 0.95\n"
          ]
        },
        {
          "data": {
            "text/html": [
              "<style>\n",
              "    table.wandb td:nth-child(1) { padding: 0 10px; text-align: left ; width: auto;} td:nth-child(2) {text-align: left ; width: 100%}\n",
              "    .wandb-row { display: flex; flex-direction: row; flex-wrap: wrap; justify-content: flex-start; width: 100% }\n",
              "    .wandb-col { display: flex; flex-direction: column; flex-basis: 100%; flex: 1; padding: 10px; }\n",
              "    </style>\n",
              "<div class=\"wandb-row\"><div class=\"wandb-col\"><h3>Run history:</h3><br/><table class=\"wandb\"><tr><td>train/epoch</td><td>▁▁▁▁▂▂▂▂▂▃▃▃▃▃▃▄▄▄▄▄▅▅▅▅▅▅▆▆▆▆▆▇▇▇▇▇▇███</td></tr><tr><td>train/example_ct</td><td>▁▁▁▁▂▂▂▂▂▃▃▃▃▃▃▄▄▄▄▄▅▅▅▅▅▅▆▆▆▆▆▇▇▇▇▇▇███</td></tr><tr><td>train/train_loss</td><td>█▆▄▃▂▃▂▃▃▂▂▂▂▂▂▂▂▁▁▁▁▁▁▁▁▁▁▂▁▁▁▁▁▁▁▁▁▁▁▁</td></tr><tr><td>val/val_accuracy</td><td>▁▄▅▆▇▇▅███</td></tr><tr><td>val/val_loss</td><td>█▅▃▃▂▂▂▁▁▁</td></tr></table><br/></div><div class=\"wandb-col\"><h3>Run summary:</h3><br/><table class=\"wandb\"><tr><td>test_accuracy</td><td>0.8</td></tr><tr><td>train/epoch</td><td>10.0</td></tr><tr><td>train/example_ct</td><td>120000</td></tr><tr><td>train/train_loss</td><td>0.01784</td></tr><tr><td>val/val_accuracy</td><td>0.9545</td></tr><tr><td>val/val_loss</td><td>0.154</td></tr></table><br/></div></div>"
            ],
            "text/plain": [
              "<IPython.core.display.HTML object>"
            ]
          },
          "metadata": {},
          "output_type": "display_data"
        },
        {
          "data": {
            "text/html": [
              " View run <strong style=\"color:#cdcd00\">revived-forest-3</strong> at: <a href='https://wandb.ai/computerscience/pytorch-introduction/runs/gpuiiybz' target=\"_blank\">https://wandb.ai/computerscience/pytorch-introduction/runs/gpuiiybz</a><br/> View project at: <a href='https://wandb.ai/computerscience/pytorch-introduction' target=\"_blank\">https://wandb.ai/computerscience/pytorch-introduction</a><br/>Synced 5 W&B file(s), 1 media file(s), 257 artifact file(s) and 0 other file(s)"
            ],
            "text/plain": [
              "<IPython.core.display.HTML object>"
            ]
          },
          "metadata": {},
          "output_type": "display_data"
        },
        {
          "data": {
            "text/html": [
              "Find logs at: <code>.\\wandb\\run-20240417_113454-gpuiiybz\\logs</code>"
            ],
            "text/plain": [
              "<IPython.core.display.HTML object>"
            ]
          },
          "metadata": {},
          "output_type": "display_data"
        },
        {
          "data": {
            "text/html": [
              "Tracking run with wandb version 0.16.6"
            ],
            "text/plain": [
              "<IPython.core.display.HTML object>"
            ]
          },
          "metadata": {},
          "output_type": "display_data"
        },
        {
          "data": {
            "text/html": [
              "Run data is saved locally in <code>d:\\UESTC\\Code for Scattered Knowledge\\wandb\\run-20240417_113611-4p8rnodq</code>"
            ],
            "text/plain": [
              "<IPython.core.display.HTML object>"
            ]
          },
          "metadata": {},
          "output_type": "display_data"
        },
        {
          "data": {
            "text/html": [
              "Syncing run <strong><a href='https://wandb.ai/computerscience/pytorch-introduction/runs/4p8rnodq' target=\"_blank\">smooth-glade-4</a></strong> to <a href='https://wandb.ai/computerscience/pytorch-introduction' target=\"_blank\">Weights & Biases</a> (<a href='https://wandb.me/run' target=\"_blank\">docs</a>)<br/>"
            ],
            "text/plain": [
              "<IPython.core.display.HTML object>"
            ]
          },
          "metadata": {},
          "output_type": "display_data"
        },
        {
          "data": {
            "text/html": [
              " View project at <a href='https://wandb.ai/computerscience/pytorch-introduction' target=\"_blank\">https://wandb.ai/computerscience/pytorch-introduction</a>"
            ],
            "text/plain": [
              "<IPython.core.display.HTML object>"
            ]
          },
          "metadata": {},
          "output_type": "display_data"
        },
        {
          "data": {
            "text/html": [
              " View run at <a href='https://wandb.ai/computerscience/pytorch-introduction/runs/4p8rnodq' target=\"_blank\">https://wandb.ai/computerscience/pytorch-introduction/runs/4p8rnodq</a>"
            ],
            "text/plain": [
              "<IPython.core.display.HTML object>"
            ]
          },
          "metadata": {},
          "output_type": "display_data"
        },
        {
          "name": "stdout",
          "output_type": "stream",
          "text": [
            "Train Loss: 0.547, Valid Loss: 0.326768, Accuracy: 0.91\n",
            "Train Loss: 0.162, Valid Loss: 0.263435, Accuracy: 0.92\n",
            "Train Loss: 0.197, Valid Loss: 0.233508, Accuracy: 0.93\n",
            "Train Loss: 0.276, Valid Loss: 0.217725, Accuracy: 0.94\n",
            "Train Loss: 0.276, Valid Loss: 0.208643, Accuracy: 0.94\n",
            "Train Loss: 0.230, Valid Loss: 0.200760, Accuracy: 0.94\n",
            "Train Loss: 0.313, Valid Loss: 0.191237, Accuracy: 0.94\n",
            "Train Loss: 0.275, Valid Loss: 0.184244, Accuracy: 0.94\n",
            "Train Loss: 0.309, Valid Loss: 0.179054, Accuracy: 0.94\n",
            "Train Loss: 0.184, Valid Loss: 0.178577, Accuracy: 0.94\n"
          ]
        },
        {
          "data": {
            "text/html": [
              "<style>\n",
              "    table.wandb td:nth-child(1) { padding: 0 10px; text-align: left ; width: auto;} td:nth-child(2) {text-align: left ; width: 100%}\n",
              "    .wandb-row { display: flex; flex-direction: row; flex-wrap: wrap; justify-content: flex-start; width: 100% }\n",
              "    .wandb-col { display: flex; flex-direction: column; flex-basis: 100%; flex: 1; padding: 10px; }\n",
              "    </style>\n",
              "<div class=\"wandb-row\"><div class=\"wandb-col\"><h3>Run history:</h3><br/><table class=\"wandb\"><tr><td>train/epoch</td><td>▁▁▁▁▂▂▂▂▂▃▃▃▃▃▃▄▄▄▄▄▅▅▅▅▅▅▆▆▆▆▆▇▇▇▇▇▇███</td></tr><tr><td>train/example_ct</td><td>▁▁▁▁▂▂▂▂▂▃▃▃▃▃▃▄▄▄▄▄▅▅▅▅▅▅▆▆▆▆▆▇▇▇▇▇▇███</td></tr><tr><td>train/train_loss</td><td>█▄▃▃▃▃▃▂▂▂▂▂▂▁▂▂▂▂▂▁▂▂▂▂▂▂▂▁▂▁▁▁▁▁▂▁▁▁▂▁</td></tr><tr><td>val/val_accuracy</td><td>▁▃▅▇▇▇██▇█</td></tr><tr><td>val/val_loss</td><td>█▅▄▃▂▂▂▁▁▁</td></tr></table><br/></div><div class=\"wandb-col\"><h3>Run summary:</h3><br/><table class=\"wandb\"><tr><td>test_accuracy</td><td>0.8</td></tr><tr><td>train/epoch</td><td>10.0</td></tr><tr><td>train/example_ct</td><td>120000</td></tr><tr><td>train/train_loss</td><td>0.18399</td></tr><tr><td>val/val_accuracy</td><td>0.9435</td></tr><tr><td>val/val_loss</td><td>0.17858</td></tr></table><br/></div></div>"
            ],
            "text/plain": [
              "<IPython.core.display.HTML object>"
            ]
          },
          "metadata": {},
          "output_type": "display_data"
        },
        {
          "data": {
            "text/html": [
              " View run <strong style=\"color:#cdcd00\">smooth-glade-4</strong> at: <a href='https://wandb.ai/computerscience/pytorch-introduction/runs/4p8rnodq' target=\"_blank\">https://wandb.ai/computerscience/pytorch-introduction/runs/4p8rnodq</a><br/> View project at: <a href='https://wandb.ai/computerscience/pytorch-introduction' target=\"_blank\">https://wandb.ai/computerscience/pytorch-introduction</a><br/>Synced 5 W&B file(s), 1 media file(s), 257 artifact file(s) and 0 other file(s)"
            ],
            "text/plain": [
              "<IPython.core.display.HTML object>"
            ]
          },
          "metadata": {},
          "output_type": "display_data"
        },
        {
          "data": {
            "text/html": [
              "Find logs at: <code>.\\wandb\\run-20240417_113611-4p8rnodq\\logs</code>"
            ],
            "text/plain": [
              "<IPython.core.display.HTML object>"
            ]
          },
          "metadata": {},
          "output_type": "display_data"
        },
        {
          "data": {
            "text/html": [
              "Tracking run with wandb version 0.16.6"
            ],
            "text/plain": [
              "<IPython.core.display.HTML object>"
            ]
          },
          "metadata": {},
          "output_type": "display_data"
        },
        {
          "data": {
            "text/html": [
              "Run data is saved locally in <code>d:\\UESTC\\Code for Scattered Knowledge\\wandb\\run-20240417_113724-3c9eopsy</code>"
            ],
            "text/plain": [
              "<IPython.core.display.HTML object>"
            ]
          },
          "metadata": {},
          "output_type": "display_data"
        },
        {
          "data": {
            "text/html": [
              "Syncing run <strong><a href='https://wandb.ai/computerscience/pytorch-introduction/runs/3c9eopsy' target=\"_blank\">lilac-waterfall-5</a></strong> to <a href='https://wandb.ai/computerscience/pytorch-introduction' target=\"_blank\">Weights & Biases</a> (<a href='https://wandb.me/run' target=\"_blank\">docs</a>)<br/>"
            ],
            "text/plain": [
              "<IPython.core.display.HTML object>"
            ]
          },
          "metadata": {},
          "output_type": "display_data"
        },
        {
          "data": {
            "text/html": [
              " View project at <a href='https://wandb.ai/computerscience/pytorch-introduction' target=\"_blank\">https://wandb.ai/computerscience/pytorch-introduction</a>"
            ],
            "text/plain": [
              "<IPython.core.display.HTML object>"
            ]
          },
          "metadata": {},
          "output_type": "display_data"
        },
        {
          "data": {
            "text/html": [
              " View run at <a href='https://wandb.ai/computerscience/pytorch-introduction/runs/3c9eopsy' target=\"_blank\">https://wandb.ai/computerscience/pytorch-introduction/runs/3c9eopsy</a>"
            ],
            "text/plain": [
              "<IPython.core.display.HTML object>"
            ]
          },
          "metadata": {},
          "output_type": "display_data"
        },
        {
          "name": "stdout",
          "output_type": "stream",
          "text": [
            "Train Loss: 0.198, Valid Loss: 0.280077, Accuracy: 0.92\n",
            "Train Loss: 0.194, Valid Loss: 0.230290, Accuracy: 0.93\n",
            "Train Loss: 0.087, Valid Loss: 0.193461, Accuracy: 0.94\n",
            "Train Loss: 0.182, Valid Loss: 0.177801, Accuracy: 0.95\n",
            "Train Loss: 0.035, Valid Loss: 0.165062, Accuracy: 0.95\n",
            "Train Loss: 0.037, Valid Loss: 0.161682, Accuracy: 0.95\n",
            "Train Loss: 0.030, Valid Loss: 0.150461, Accuracy: 0.95\n",
            "Train Loss: 0.045, Valid Loss: 0.148869, Accuracy: 0.95\n",
            "Train Loss: 0.025, Valid Loss: 0.168588, Accuracy: 0.94\n",
            "Train Loss: 0.025, Valid Loss: 0.151760, Accuracy: 0.96\n"
          ]
        },
        {
          "data": {
            "text/html": [
              "<style>\n",
              "    table.wandb td:nth-child(1) { padding: 0 10px; text-align: left ; width: auto;} td:nth-child(2) {text-align: left ; width: 100%}\n",
              "    .wandb-row { display: flex; flex-direction: row; flex-wrap: wrap; justify-content: flex-start; width: 100% }\n",
              "    .wandb-col { display: flex; flex-direction: column; flex-basis: 100%; flex: 1; padding: 10px; }\n",
              "    </style>\n",
              "<div class=\"wandb-row\"><div class=\"wandb-col\"><h3>Run history:</h3><br/><table class=\"wandb\"><tr><td>train/epoch</td><td>▁▁▁▁▂▂▂▂▂▃▃▃▃▃▃▄▄▄▄▄▅▅▅▅▅▅▆▆▆▆▆▇▇▇▇▇▇███</td></tr><tr><td>train/example_ct</td><td>▁▁▁▁▂▂▂▂▂▃▃▃▃▃▃▄▄▄▄▄▅▅▅▅▅▅▆▆▆▆▆▇▇▇▇▇▇███</td></tr><tr><td>train/train_loss</td><td>█▅▃▄▃▂▃▂▂▂▂▂▂▂▂▁▂▁▂▁▁▁▁▁▁▁▁▁▁▁▁▁▁▁▁▁▁▁▁▁</td></tr><tr><td>val/val_accuracy</td><td>▁▃▆▆▆▇█▇▆█</td></tr><tr><td>val/val_loss</td><td>█▅▃▃▂▂▁▁▂▁</td></tr></table><br/></div><div class=\"wandb-col\"><h3>Run summary:</h3><br/><table class=\"wandb\"><tr><td>test_accuracy</td><td>0.8</td></tr><tr><td>train/epoch</td><td>10.0</td></tr><tr><td>train/example_ct</td><td>120000</td></tr><tr><td>train/train_loss</td><td>0.02471</td></tr><tr><td>val/val_accuracy</td><td>0.9555</td></tr><tr><td>val/val_loss</td><td>0.15176</td></tr></table><br/></div></div>"
            ],
            "text/plain": [
              "<IPython.core.display.HTML object>"
            ]
          },
          "metadata": {},
          "output_type": "display_data"
        },
        {
          "data": {
            "text/html": [
              " View run <strong style=\"color:#cdcd00\">lilac-waterfall-5</strong> at: <a href='https://wandb.ai/computerscience/pytorch-introduction/runs/3c9eopsy' target=\"_blank\">https://wandb.ai/computerscience/pytorch-introduction/runs/3c9eopsy</a><br/> View project at: <a href='https://wandb.ai/computerscience/pytorch-introduction' target=\"_blank\">https://wandb.ai/computerscience/pytorch-introduction</a><br/>Synced 5 W&B file(s), 1 media file(s), 257 artifact file(s) and 0 other file(s)"
            ],
            "text/plain": [
              "<IPython.core.display.HTML object>"
            ]
          },
          "metadata": {},
          "output_type": "display_data"
        },
        {
          "data": {
            "text/html": [
              "Find logs at: <code>.\\wandb\\run-20240417_113724-3c9eopsy\\logs</code>"
            ],
            "text/plain": [
              "<IPython.core.display.HTML object>"
            ]
          },
          "metadata": {},
          "output_type": "display_data"
        },
        {
          "data": {
            "text/html": [
              "Tracking run with wandb version 0.16.6"
            ],
            "text/plain": [
              "<IPython.core.display.HTML object>"
            ]
          },
          "metadata": {},
          "output_type": "display_data"
        },
        {
          "data": {
            "text/html": [
              "Run data is saved locally in <code>d:\\UESTC\\Code for Scattered Knowledge\\wandb\\run-20240417_113836-l7jtmfok</code>"
            ],
            "text/plain": [
              "<IPython.core.display.HTML object>"
            ]
          },
          "metadata": {},
          "output_type": "display_data"
        },
        {
          "data": {
            "text/html": [
              "Syncing run <strong><a href='https://wandb.ai/computerscience/pytorch-introduction/runs/l7jtmfok' target=\"_blank\">sleek-snowball-6</a></strong> to <a href='https://wandb.ai/computerscience/pytorch-introduction' target=\"_blank\">Weights & Biases</a> (<a href='https://wandb.me/run' target=\"_blank\">docs</a>)<br/>"
            ],
            "text/plain": [
              "<IPython.core.display.HTML object>"
            ]
          },
          "metadata": {},
          "output_type": "display_data"
        },
        {
          "data": {
            "text/html": [
              " View project at <a href='https://wandb.ai/computerscience/pytorch-introduction' target=\"_blank\">https://wandb.ai/computerscience/pytorch-introduction</a>"
            ],
            "text/plain": [
              "<IPython.core.display.HTML object>"
            ]
          },
          "metadata": {},
          "output_type": "display_data"
        },
        {
          "data": {
            "text/html": [
              " View run at <a href='https://wandb.ai/computerscience/pytorch-introduction/runs/l7jtmfok' target=\"_blank\">https://wandb.ai/computerscience/pytorch-introduction/runs/l7jtmfok</a>"
            ],
            "text/plain": [
              "<IPython.core.display.HTML object>"
            ]
          },
          "metadata": {},
          "output_type": "display_data"
        },
        {
          "name": "stdout",
          "output_type": "stream",
          "text": [
            "Train Loss: 0.416, Valid Loss: 0.283301, Accuracy: 0.92\n",
            "Train Loss: 0.260, Valid Loss: 0.214370, Accuracy: 0.94\n",
            "Train Loss: 0.108, Valid Loss: 0.203079, Accuracy: 0.94\n",
            "Train Loss: 0.051, Valid Loss: 0.186440, Accuracy: 0.94\n",
            "Train Loss: 0.070, Valid Loss: 0.159379, Accuracy: 0.95\n",
            "Train Loss: 0.051, Valid Loss: 0.160922, Accuracy: 0.95\n",
            "Train Loss: 0.094, Valid Loss: 0.139009, Accuracy: 0.96\n",
            "Train Loss: 0.064, Valid Loss: 0.149629, Accuracy: 0.95\n",
            "Train Loss: 0.069, Valid Loss: 0.150692, Accuracy: 0.95\n",
            "Train Loss: 0.016, Valid Loss: 0.151596, Accuracy: 0.95\n"
          ]
        },
        {
          "data": {
            "text/html": [
              "<style>\n",
              "    table.wandb td:nth-child(1) { padding: 0 10px; text-align: left ; width: auto;} td:nth-child(2) {text-align: left ; width: 100%}\n",
              "    .wandb-row { display: flex; flex-direction: row; flex-wrap: wrap; justify-content: flex-start; width: 100% }\n",
              "    .wandb-col { display: flex; flex-direction: column; flex-basis: 100%; flex: 1; padding: 10px; }\n",
              "    </style>\n",
              "<div class=\"wandb-row\"><div class=\"wandb-col\"><h3>Run history:</h3><br/><table class=\"wandb\"><tr><td>train/epoch</td><td>▁▁▁▁▂▂▂▂▂▃▃▃▃▃▃▄▄▄▄▄▅▅▅▅▅▅▆▆▆▆▆▇▇▇▇▇▇███</td></tr><tr><td>train/example_ct</td><td>▁▁▁▁▂▂▂▂▂▃▃▃▃▃▃▄▄▄▄▄▅▅▅▅▅▅▆▆▆▆▆▇▇▇▇▇▇███</td></tr><tr><td>train/train_loss</td><td>█▄▃▃▃▂▂▃▂▂▃▂▂▂▂▂▂▂▂▂▁▁▁▂▁▁▂▁▁▁▁▁▁▁▁▁▁▁▁▁</td></tr><tr><td>val/val_accuracy</td><td>▁▄▅▅▆▆█▇▇▇</td></tr><tr><td>val/val_loss</td><td>█▅▄▃▂▂▁▂▂▂</td></tr></table><br/></div><div class=\"wandb-col\"><h3>Run summary:</h3><br/><table class=\"wandb\"><tr><td>test_accuracy</td><td>0.8</td></tr><tr><td>train/epoch</td><td>10.0</td></tr><tr><td>train/example_ct</td><td>120000</td></tr><tr><td>train/train_loss</td><td>0.01617</td></tr><tr><td>val/val_accuracy</td><td>0.9535</td></tr><tr><td>val/val_loss</td><td>0.1516</td></tr></table><br/></div></div>"
            ],
            "text/plain": [
              "<IPython.core.display.HTML object>"
            ]
          },
          "metadata": {},
          "output_type": "display_data"
        },
        {
          "data": {
            "text/html": [
              " View run <strong style=\"color:#cdcd00\">sleek-snowball-6</strong> at: <a href='https://wandb.ai/computerscience/pytorch-introduction/runs/l7jtmfok' target=\"_blank\">https://wandb.ai/computerscience/pytorch-introduction/runs/l7jtmfok</a><br/> View project at: <a href='https://wandb.ai/computerscience/pytorch-introduction' target=\"_blank\">https://wandb.ai/computerscience/pytorch-introduction</a><br/>Synced 5 W&B file(s), 1 media file(s), 257 artifact file(s) and 0 other file(s)"
            ],
            "text/plain": [
              "<IPython.core.display.HTML object>"
            ]
          },
          "metadata": {},
          "output_type": "display_data"
        },
        {
          "data": {
            "text/html": [
              "Find logs at: <code>.\\wandb\\run-20240417_113836-l7jtmfok\\logs</code>"
            ],
            "text/plain": [
              "<IPython.core.display.HTML object>"
            ]
          },
          "metadata": {},
          "output_type": "display_data"
        }
      ],
      "source": [
        "# Launch 5 experiments, trying different dropout rates\n",
        "for _ in range(5):\n",
        "    # 🐝 initialise a wandb run\n",
        "    wandb.init(\n",
        "        project=\"pytorch-introduction\",\n",
        "        config={\n",
        "            \"epochs\": 10,\n",
        "            \"batch_size\": 128,\n",
        "            \"lr\": 1e-3,\n",
        "            \"dropout\": random.uniform(0.01, 0.80),\n",
        "            })\n",
        "\n",
        "    # Copy your config\n",
        "    config = wandb.config\n",
        "\n",
        "    # Get the data\n",
        "    train_dl = get_dataloader(is_train=True, batch_size=config.batch_size)\n",
        "    valid_dl = get_dataloader(is_train=False, batch_size=2*config.batch_size)\n",
        "    n_steps_per_epoch = math.ceil(len(train_dl.dataset) / config.batch_size)\n",
        "\n",
        "    # A simple MLP model\n",
        "    model = get_model(config.dropout)\n",
        "\n",
        "    # Make the loss and optimizer\n",
        "    loss_func = nn.CrossEntropyLoss()\n",
        "    optimizer = torch.optim.Adam(model.parameters(), lr=config.lr)\n",
        "\n",
        "   # Training\n",
        "    example_ct = 0\n",
        "    step_ct = 0\n",
        "    for epoch in range(config.epochs):\n",
        "        model.train()\n",
        "        for step, (images, labels) in enumerate(train_dl):\n",
        "            images, labels = images.to(device), labels.to(device)\n",
        "\n",
        "            outputs = model(images)\n",
        "            train_loss = loss_func(outputs, labels)\n",
        "            optimizer.zero_grad()\n",
        "            train_loss.backward()\n",
        "            optimizer.step()\n",
        "\n",
        "            example_ct += len(images)\n",
        "            metrics = {\"train/train_loss\": train_loss,\n",
        "                       \"train/epoch\": (step + 1 + (n_steps_per_epoch * epoch)) / n_steps_per_epoch,\n",
        "                       \"train/example_ct\": example_ct}\n",
        "\n",
        "            if step + 1 < n_steps_per_epoch:\n",
        "                # 🐝 Log train metrics to wandb\n",
        "                wandb.log(metrics)\n",
        "\n",
        "            step_ct += 1\n",
        "\n",
        "        val_loss, accuracy = validate_model(model, valid_dl, loss_func, log_images=(epoch==(config.epochs-1)))\n",
        "\n",
        "        # 🐝 Log train and validation metrics to wandb\n",
        "        val_metrics = {\"val/val_loss\": val_loss,\n",
        "                       \"val/val_accuracy\": accuracy}\n",
        "        wandb.log({**metrics, **val_metrics})\n",
        "\n",
        "        print(f\"Train Loss: {train_loss:.3f}, Valid Loss: {val_loss:3f}, Accuracy: {accuracy:.2f}\")\n",
        "\n",
        "    # If you had a test set, this is how you could log it as a Summary metric\n",
        "    wandb.summary['test_accuracy'] = 0.8\n",
        "\n",
        "    # 🐝 Close your wandb run\n",
        "    wandb.finish()"
      ]
    },
    {
      "cell_type": "markdown",
      "metadata": {
        "id": "2JAlyqmwEoKn"
      },
      "source": [
        "You have now trained your first model using wandb! 👆 Click on the wandb link above to see your metrics"
      ]
    },
    {
      "cell_type": "markdown",
      "metadata": {
        "id": "sKNjDA6nEoKn"
      },
      "source": [
        "# 🔔 Try W&B Alerts\n",
        "\n",
        "**[W&B Alerts](https://docs.wandb.ai/guides/track/alert)** allows you to send alerts, triggered from your Python code, to your Slack or email. There are 2 steps to follow the first time you'd like to send a Slack or email alert, triggered from your code:\n",
        "\n",
        "1) Turn on Alerts in your W&B [User Settings](https://wandb.ai/settings)\n",
        "\n",
        "2) Add `wandb.alert()` to your code:\n",
        "\n",
        "```python\n",
        "wandb.alert(\n",
        "    title=\"Low accuracy\",\n",
        "    text=f\"Accuracy is below the acceptable threshold\"\n",
        ")\n",
        "```\n",
        "\n",
        "See the minimal example below to see how to use `wandb.alert`. You can find the full docs for **[W&B Alerts here](https://docs.wandb.ai/guides/track/alert)**"
      ]
    },
    {
      "cell_type": "code",
      "execution_count": 10,
      "metadata": {
        "id": "UIZ0hQK5EoKn"
      },
      "outputs": [
        {
          "data": {
            "text/html": [
              "Tracking run with wandb version 0.16.6"
            ],
            "text/plain": [
              "<IPython.core.display.HTML object>"
            ]
          },
          "metadata": {},
          "output_type": "display_data"
        },
        {
          "data": {
            "text/html": [
              "Run data is saved locally in <code>d:\\UESTC\\Code for Scattered Knowledge\\wandb\\run-20240417_114059-lhonn0tn</code>"
            ],
            "text/plain": [
              "<IPython.core.display.HTML object>"
            ]
          },
          "metadata": {},
          "output_type": "display_data"
        },
        {
          "data": {
            "text/html": [
              "Syncing run <strong><a href='https://wandb.ai/computerscience/alert-intro/runs/lhonn0tn' target=\"_blank\">lunar-sky-1</a></strong> to <a href='https://wandb.ai/computerscience/alert-intro' target=\"_blank\">Weights & Biases</a> (<a href='https://wandb.me/run' target=\"_blank\">docs</a>)<br/>"
            ],
            "text/plain": [
              "<IPython.core.display.HTML object>"
            ]
          },
          "metadata": {},
          "output_type": "display_data"
        },
        {
          "data": {
            "text/html": [
              " View project at <a href='https://wandb.ai/computerscience/alert-intro' target=\"_blank\">https://wandb.ai/computerscience/alert-intro</a>"
            ],
            "text/plain": [
              "<IPython.core.display.HTML object>"
            ]
          },
          "metadata": {},
          "output_type": "display_data"
        },
        {
          "data": {
            "text/html": [
              " View run at <a href='https://wandb.ai/computerscience/alert-intro/runs/lhonn0tn' target=\"_blank\">https://wandb.ai/computerscience/alert-intro/runs/lhonn0tn</a>"
            ],
            "text/plain": [
              "<IPython.core.display.HTML object>"
            ]
          },
          "metadata": {},
          "output_type": "display_data"
        },
        {
          "name": "stdout",
          "output_type": "stream",
          "text": [
            "Accuracy is: 0.336, 0.3\n",
            "Accuracy is: 0.454, 0.3\n",
            "Accuracy is: 0.738, 0.3\n",
            "Accuracy is: 1.475, 0.3\n",
            "Accuracy is: 0.992, 0.3\n",
            "Accuracy is: 0.608, 0.3\n",
            "Accuracy is: 1.257, 0.3\n",
            "Accuracy is: 0.808, 0.3\n",
            "Accuracy is: 1.297, 0.3\n",
            "Accuracy is: 0.905, 0.3\n",
            "Accuracy is: 0.547, 0.3\n",
            "Accuracy is: 0.913, 0.3\n",
            "Accuracy is: 1.45, 0.3\n",
            "Accuracy is: 1.418, 0.3\n",
            "Accuracy is: 0.633, 0.3\n",
            "Accuracy is: 1.525, 0.3\n",
            "Accuracy is: 0.714, 0.3\n",
            "Accuracy is: 0.514, 0.3\n",
            "Accuracy is: 0.905, 0.3\n",
            "Accuracy is: 0.749, 0.3\n",
            "Accuracy is: 0.56, 0.3\n",
            "Accuracy is: 1.66, 0.3\n",
            "Accuracy is: 0.913, 0.3\n",
            "Accuracy is: 1.326, 0.3\n",
            "Accuracy is: 1.389, 0.3\n",
            "Accuracy is: 0.781, 0.3\n",
            "Accuracy is: 1.209, 0.3\n",
            "Accuracy is: 0.964, 0.3\n",
            "Accuracy is: 1.721, 0.3\n",
            "Accuracy is: 1.056, 0.3\n",
            "Accuracy is: 0.741, 0.3\n",
            "Accuracy is: 0.64, 0.3\n",
            "Accuracy is: 1.092, 0.3\n",
            "Accuracy is: 1.219, 0.3\n",
            "Accuracy is: 0.781, 0.3\n",
            "Accuracy is: 1.27, 0.3\n",
            "Accuracy is: 1.153, 0.3\n",
            "Accuracy is: 1.513, 0.3\n",
            "Accuracy is: 1.031, 0.3\n",
            "Accuracy is: 0.707, 0.3\n",
            "Accuracy is: 1.254, 0.3\n",
            "Accuracy is: 1.559, 0.3\n",
            "Accuracy is: 0.232, 0.3\n",
            "Alert triggered\n"
          ]
        },
        {
          "data": {
            "text/html": [
              "<style>\n",
              "    table.wandb td:nth-child(1) { padding: 0 10px; text-align: left ; width: auto;} td:nth-child(2) {text-align: left ; width: 100%}\n",
              "    .wandb-row { display: flex; flex-direction: row; flex-wrap: wrap; justify-content: flex-start; width: 100% }\n",
              "    .wandb-col { display: flex; flex-direction: column; flex-basis: 100%; flex: 1; padding: 10px; }\n",
              "    </style>\n",
              "<div class=\"wandb-row\"><div class=\"wandb-col\"><h3>Run history:</h3><br/><table class=\"wandb\"><tr><td>Accuracy</td><td>▁▂▃▇▅▃▆▄▆▄▂▄▇▃▇▃▂▄▃▃█▄▆▆▄▆█▅▃▃▅▆▄▆▅▇▅▃▆▁</td></tr></table><br/></div><div class=\"wandb-col\"><h3>Run summary:</h3><br/><table class=\"wandb\"><tr><td>Accuracy</td><td>0.232</td></tr></table><br/></div></div>"
            ],
            "text/plain": [
              "<IPython.core.display.HTML object>"
            ]
          },
          "metadata": {},
          "output_type": "display_data"
        },
        {
          "data": {
            "text/html": [
              " View run <strong style=\"color:#cdcd00\">lunar-sky-1</strong> at: <a href='https://wandb.ai/computerscience/alert-intro/runs/lhonn0tn' target=\"_blank\">https://wandb.ai/computerscience/alert-intro/runs/lhonn0tn</a><br/> View project at: <a href='https://wandb.ai/computerscience/alert-intro' target=\"_blank\">https://wandb.ai/computerscience/alert-intro</a><br/>Synced 5 W&B file(s), 0 media file(s), 0 artifact file(s) and 0 other file(s)"
            ],
            "text/plain": [
              "<IPython.core.display.HTML object>"
            ]
          },
          "metadata": {},
          "output_type": "display_data"
        },
        {
          "data": {
            "text/html": [
              "Find logs at: <code>.\\wandb\\run-20240417_114059-lhonn0tn\\logs</code>"
            ],
            "text/plain": [
              "<IPython.core.display.HTML object>"
            ]
          },
          "metadata": {},
          "output_type": "display_data"
        }
      ],
      "source": [
        "# Start a wandb run\n",
        "wandb.init(project=\"alert-intro\")\n",
        "\n",
        "# Simulating a model training loop\n",
        "acc_threshold = 0.3\n",
        "for training_step in range(1000):\n",
        "\n",
        "    # Generate a random number for accuracy\n",
        "    accuracy = round(random.random() + random.random(), 3)\n",
        "    print(f'Accuracy is: {accuracy}, {acc_threshold}')\n",
        "\n",
        "    # 🐝 Log accuracy to wandb\n",
        "    wandb.log({\"Accuracy\": accuracy})\n",
        "\n",
        "    # 🔔 If the accuracy is below the threshold, fire a W&B Alert and stop the run\n",
        "    if accuracy <= acc_threshold:\n",
        "        # 🐝 Send the wandb Alert\n",
        "        wandb.alert(\n",
        "            title='Low Accuracy',\n",
        "            text=f'Accuracy {accuracy} at step {training_step} is below the acceptable theshold, {acc_threshold}',\n",
        "        )\n",
        "        print('Alert triggered')\n",
        "        break\n",
        "\n",
        "# Mark the run as finished (useful in Jupyter notebooks)\n",
        "wandb.finish()"
      ]
    },
    {
      "cell_type": "markdown",
      "metadata": {
        "id": "PyAbcvyFEoKn"
      },
      "source": [
        "\n",
        "# What's next 🚀 ?\n",
        "The next tutorial you will learn how to do hyperparameter optimization using W&B Sweeps:\n",
        "## 👉 [Hyperparameters sweeps using PyTorch](https://colab.research.google.com/github/wandb/examples/blob/master/colabs/pytorch/Organizing_Hyperparameter_Sweeps_in_PyTorch_with_W%26B.ipynb)"
      ]
    }
  ],
  "metadata": {
    "accelerator": "GPU",
    "colab": {
      "provenance": [],
      "toc_visible": true
    },
    "kernelspec": {
      "display_name": "Python 3",
      "name": "python3"
    },
    "language_info": {
      "codemirror_mode": {
        "name": "ipython",
        "version": 3
      },
      "file_extension": ".py",
      "mimetype": "text/x-python",
      "name": "python",
      "nbconvert_exporter": "python",
      "pygments_lexer": "ipython3",
      "version": "3.9.16"
    }
  },
  "nbformat": 4,
  "nbformat_minor": 0
}
