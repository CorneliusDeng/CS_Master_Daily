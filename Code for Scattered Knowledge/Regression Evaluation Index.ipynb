{
 "cells": [
  {
   "attachments": {},
   "cell_type": "markdown",
   "metadata": {},
   "source": [
    "## Mean Absolute Error(MAE)\n",
    "\n",
    "平均绝对误差（Mean Absolute Error，MAE），也称为 L1 损失，是最简单的损失函数之一，也是一种易于理解的评估指标。它是通过取预测值和实际值之间的绝对差值并在整个数据集中取平均值来计算的。从数学上讲，它是绝对误差的算术平均值。MAE 仅测量误差的大小，不关心它们的方向。MAE越低，模型的准确性就越高。\n",
    "$$\n",
    "MAE=\\frac{1}{n}\\sum_{i=1}^n|y_i-\\widehat{y}_i|\n",
    "$$\n",
    "\n",
    "- 优点\n",
    "  - 由于采用了绝对值，因此所有误差都以相同的比例加权。\n",
    "  - 如果训练数据有异常值，MAE 不会惩罚由异常值引起的高错误。\n",
    "  - 它提供了模型执行情况的平均度量。\n",
    "- 缺点\n",
    "  - 有时来自异常值的大错误最终被视为与低错误相同。\n",
    "  - 在零处不可微分。许多优化算法倾向于使用微分来找到评估指标中参数的最佳值。在 MAE 中计算梯度可能具有挑战性。"
   ]
  },
  {
   "cell_type": "code",
   "execution_count": null,
   "metadata": {},
   "outputs": [],
   "source": [
    "def mean_absolute_error(true, pred):\n",
    "    abs_error = np.abs(true - pred)\n",
    "    sum_abs_error = np.sum(abs_error)\n",
    "    mae_loss = sum_abs_error / true.size\n",
    "    return mae_loss"
   ]
  },
  {
   "attachments": {},
   "cell_type": "markdown",
   "metadata": {},
   "source": [
    "## Mean Bias Error (MBE)\n",
    "\n",
    "平均偏差误差是测量过程高估或低估参数值的趋势。偏差只有一个方向，可以是正的，也可以是负的。正偏差意味着数据的误差被高估，负偏差意味着误差被低估。平均偏差误差 是预测值与实际值之差的平均值。该评估指标量化了总体偏差并捕获了预测中的平均偏差。它几乎与 MAE 相似，唯一的区别是这里没有取绝对值。这个评估指标应该小心处理，因为正负误差可以相互抵消。\n",
    "$$\n",
    "MAE=\\frac{1}{n}\\sum_{i=1}^n(y_i-\\widehat{y}_i)\n",
    "$$\n",
    "\n",
    "- 优点\n",
    "  - 想检查模型的方向（即是否存在正偏差或负偏差）并纠正模型偏差，MBE 是一个很好的衡量标准。\n",
    "- 缺点\n",
    "  - 就幅度而言，这不是一个好的衡量标准，因为误差往往会相互补偿。\n",
    "  - 它的可靠性不高，因为有时高个体错误会产生低MBE。\n",
    "  - 作为一种评估指标，它在一个方向上可能始终是错误的。"
   ]
  },
  {
   "cell_type": "code",
   "execution_count": null,
   "metadata": {},
   "outputs": [],
   "source": [
    "def mean_bias_error(true, pred):\n",
    "    bias_error = true - pred\n",
    "    mbe_loss = np.mean(np.sum(diff) / true.size)\n",
    "    return mbe_loss"
   ]
  },
  {
   "attachments": {},
   "cell_type": "markdown",
   "metadata": {},
   "source": [
    "## Relative Absolute Error (RAE)\n",
    "\n",
    "相对绝对误差是通过将总绝对误差除以平均值和实际值之间的绝对差来计算的。RAE并以比率表示，RAE的值从0到1。一个好的模型将具有接近于零的值，其中零是最佳值。\n",
    "$$\n",
    "RAE=\\frac{\\sum_{i=1}^n|y_i-\\widehat y_i|}{\\sum_{i=1}^n|y_i-\\overline y_i|},\\;\\overline y=\\frac{1}{n}\\sum_{i=1}^ny_i\n",
    "$$\n",
    "\n",
    "- 优点\n",
    "  - RAE 可用于比较以不同单位测量误差的模型。\n",
    "  - RAE 是可靠的，因为它可以防止异常值。"
   ]
  },
  {
   "cell_type": "code",
   "execution_count": null,
   "metadata": {},
   "outputs": [],
   "source": [
    "def relative_absolute_error(true, pred):\n",
    "    true_mean = np.mean(true)\n",
    "    squared_error_num = np.sum(np.abs(true - pred))\n",
    "    squared_error_den = np.sum(np.abs(true - true_mean))\n",
    "    rae_loss = squared_error_num / squared_error_den\n",
    "    return rae_loss"
   ]
  },
  {
   "attachments": {},
   "cell_type": "markdown",
   "metadata": {},
   "source": [
    "## Mean Absolute Percentage Error (MAPE)\n",
    "\n",
    "平均绝对百分比误差是通过将实际值与预测值之间的差值除以实际值来计算的。MAPE 也称为平均绝对百分比偏差，随着误差的增加而线性增加。MAPE 越小，模型性能越好。\n",
    "$$\n",
    "MAPE=\\frac{1}{n}\\sum_{i=1}^n\\frac{|y_i-\\widehat y_i|}{y_i}·100\\%\n",
    "$$\n",
    "\n",
    "- 优点\n",
    "\n",
    "  - MAPE与变量的规模无关，因为它的误差估计是以百分比为单位的。\n",
    "\n",
    "  - 所有错误都在一个共同的尺度上标准化，很容易理解。\n",
    "\n",
    "  - MAPE避免了正值和负值相互抵消的问题。\n",
    "\n",
    "- 缺点\n",
    "\n",
    "  - 分母值为零时，面临着“除以零”的问题。\n",
    "  - MAPE对数值较小的误差比对数值大的误差错误的惩罚更多。\n",
    "  - 因为使用除法运算，所欲对于相同的误差，实际值的变化将导致损失的差异。"
   ]
  },
  {
   "cell_type": "code",
   "execution_count": null,
   "metadata": {},
   "outputs": [],
   "source": [
    "def mean_absolute_percentage_error(true, pred):\n",
    "    abs_error = (np.abs(true - pred)) / true\n",
    "    sum_abs_error = np.sum(abs_error)\n",
    "    mape_loss = (sum_abs_error / true.size) * 100\n",
    "    return mape_loss"
   ]
  },
  {
   "attachments": {},
   "cell_type": "markdown",
   "metadata": {},
   "source": [
    "## Mean Squared Error (MSE)\n",
    "\n",
    "均方误差也称为 L2 损失，MSE通过将预测值和实际值之间的差平方并在整个数据集中对其进行平均来计算误差。MSE 也称为二次损失，因为惩罚与误差不成正比，而是与误差的平方成正比。平方误差为异常值赋予更高的权重，从而为小误差产生平滑的梯度。\n",
    "\n",
    "MSE 永远不会是负数，因为误差是平方的。误差值范围从零到无穷大。MSE 随着误差的增加呈指数增长。一个好的模型的 MSE 值接近于零。\n",
    "$$\n",
    "MSE=\\frac{1}{n}\\sum_{i=1}^n(y_i-\\widehat y_i)^2\n",
    "$$\n",
    "\n",
    "- 优点\n",
    "  - MSE会得到一个只有一个全局最小值的梯度下降。\n",
    "  - 对于小的误差，它可以有效地收敛到最小值。没有局部最小值。\n",
    "  - MSE 通过对模型进行平方来惩罚具有巨大错误的模型。\n",
    "- 缺点\n",
    "  - 对异常值的敏感性通过对它们进行平方来放大高误差。\n",
    "  - MSE会受到异常值的影响，会寻找在整体水平上表现足够好的模型。"
   ]
  },
  {
   "cell_type": "code",
   "execution_count": null,
   "metadata": {},
   "outputs": [],
   "source": [
    "def mean_squared_error(true, pred):\n",
    "    squared_error = np.square(true - pred) \n",
    "    sum_squared_error = np.sum(squared_error)\n",
    "    mse_loss = sum_squared_error / true.size\n",
    "    return mse_loss"
   ]
  },
  {
   "attachments": {},
   "cell_type": "markdown",
   "metadata": {},
   "source": [
    "## Root Mean Squared Error (RMSE)\n",
    "\n",
    "RMSE 是通过取 MSE 的平方根来计算的。RMSE 也称为均方根偏差。它测量误差的平均幅度，并关注与实际值的偏差。RMSE 值为零表示模型具有完美拟合。RMSE 越低，模型及其预测就越好。\n",
    "$$\n",
    "RMSE=\\sqrt{\\frac{1}{n}\\sum_{i=1}^n(y_i-\\widehat y_i)^2}\n",
    "$$\n",
    "\n",
    "- 优点\n",
    "\n",
    "  - 易于理解，计算方便\n",
    "\n",
    "- 缺点\n",
    "\n",
    "  - 建议去除异常值才能使其正常运行。\n",
    "\n",
    "  - 会受到数据样本大小的影响。"
   ]
  },
  {
   "cell_type": "code",
   "execution_count": null,
   "metadata": {},
   "outputs": [],
   "source": [
    "def root_mean_squared_error(true, pred):\n",
    "    squared_error = np.square(true - pred) \n",
    "    sum_squared_error = np.sum(squared_error)\n",
    "    rmse_loss = np.sqrt(sum_squared_error / true.size)\n",
    "    return rmse_loss"
   ]
  },
  {
   "attachments": {},
   "cell_type": "markdown",
   "metadata": {},
   "source": [
    "## Relative Squared Error (RSE)\n",
    "\n",
    "相对平方误差需要使用均方误差并将其除以实际数据与数据平均值之间的差异的平方。\n",
    "$$\n",
    "RAE=\\frac{\\sum_{i=1}^n(y_i-\\widehat y_i)^2}{\\sum_{i=1}^n(y_i-\\overline y_i)^2},\\;\\overline y=\\frac{1}{n}\\sum_{i=1}^ny_i\n",
    "$$\n",
    "优点：对预测的平均值和规模不敏感。"
   ]
  },
  {
   "cell_type": "code",
   "execution_count": null,
   "metadata": {},
   "outputs": [],
   "source": [
    "def relative_squared_error(true, pred):\n",
    "    true_mean = np.mean(true)\n",
    "    squared_error_num = np.sum(np.square(true - pred))\n",
    "    squared_error_den = np.sum(np.square(true - true_mean))\n",
    "    rse_loss = squared_error_num / squared_error_den\n",
    "    return rse_loss"
   ]
  }
 ],
 "metadata": {
  "kernelspec": {
   "display_name": "goodjob",
   "language": "python",
   "name": "python3"
  },
  "language_info": {
   "name": "python",
   "version": "3.9.18"
  },
  "orig_nbformat": 4
 },
 "nbformat": 4,
 "nbformat_minor": 2
}
