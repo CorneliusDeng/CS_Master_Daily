{
 "cells": [
  {
   "cell_type": "code",
   "execution_count": null,
   "metadata": {},
   "outputs": [],
   "source": [
    "# 需要用的两个库\n",
    "\n",
    "import numpy as np\n",
    "import pandas as pd\n",
    "\n",
    "# NumPy Arrays\n",
    "data_array.dtype  # 数组元素的数据类型\n",
    "data_array.shape  # 阵列尺寸\n",
    "len(data_array)   # 数组的长度\n",
    "# Pandas DataFrames\n",
    "df.head()  # 返回DataFrames前几行（默认5行）\n",
    "df.tail()  # 返回DataFrames最后几行（默认5行）\n",
    "df.index   # 返回DataFrames索引\n",
    "df.columns # 返回DataFrames列名\n",
    "df.info()  # 返回DataFrames基本信息\n",
    "data_array = data.values # 将DataFrames转换为NumPy数组"
   ]
  },
  {
   "cell_type": "code",
   "execution_count": null,
   "metadata": {},
   "outputs": [],
   "source": [
    "# 纯文本文件\n",
    "\n",
    "filename = 'demo.txt'\n",
    "file = open(filename, mode='r') # 打开文件进行读取\n",
    "text = file.read() # 读取文件的内容\n",
    "print(file.closed) # 检查文件是否关闭\n",
    "file.close() # 关闭文件\n",
    "print(text)\n",
    "\n",
    "# 使用上下文管理器 -- with\n",
    "with open('demo.txt', 'r') as file:\n",
    "    print(file.readline()) # 一行一行读取\n",
    "    print(file.readline())\n",
    "    print(file.readline())"
   ]
  },
  {
   "cell_type": "code",
   "execution_count": null,
   "metadata": {},
   "outputs": [],
   "source": [
    "# 表格数据：Flat文件\n",
    "# Flat 文件是一种包含没有相对关系结构的记录的文件（支持Excel、CSV和Tab分割符文件 ）\n",
    "\n",
    "# 具有一种数据类型的文件，用于分隔值的字符串跳过前两行,在第一列和第三列读取结果数组的类型。\n",
    "filename = 'mnist.txt'\n",
    "data = np.loadtxt(filename,\n",
    "                  delimiter=',',\n",
    "                  skiprows=2,\n",
    "                  usecols=[0,2],\n",
    "                  dtype=str)\n",
    "\n",
    "# 具有混合数据类型的文件\n",
    "filename = 'titanic.csv'\n",
    "data = np.genfromtxt(filename,\n",
    "                     delimiter=',',\n",
    "                     names=True,\n",
    "                     dtype=None)\n",
    "\n",
    "# 使用 Pandas 读取Flat文件\n",
    "filename = 'demo.csv' \n",
    "data = pd.read_csv(filename, \n",
    "                   nrows=5,        # 要读取的文件的行数\n",
    "                   header=None,    # 作为列名的行号\n",
    "                   sep='\\t',       # 分隔符使用\n",
    "                   comment='#',    # 分隔注释的字符\n",
    "                   na_values=[\"\"]) # 可以识别为NA/NaN的字符串"
   ]
  },
  {
   "cell_type": "code",
   "execution_count": null,
   "metadata": {},
   "outputs": [],
   "source": [
    "# Excel 电子表格\n",
    "# Pandas中的ExcelFile()是pandas中对excel表格文件进行读取相关操作非常方便快捷的类，尤其是在对含有多个sheet的excel文件进行操控时非常方便\n",
    "\n",
    "file = 'demo.xlsx'\n",
    "data = pd.ExcelFile(file)\n",
    "df_sheet2 = data.parse(sheet_name='1960-1966',\n",
    "                       skiprows=[0],\n",
    "                       names=['Country',\n",
    "                              'AAM: War(2002)'])\n",
    "df_sheet1 = pd.read_excel(data,\n",
    "                          sheet_name=0,\n",
    "                          parse_cols=[0],\n",
    "                          skiprows=[0],\n",
    "                          names=['Country']\n",
    "# 使用sheet_names属性获取要读取工作表的名称\n",
    "data.sheet_names                          "
   ]
  },
  {
   "cell_type": "code",
   "execution_count": null,
   "metadata": {},
   "outputs": [],
   "source": [
    "# 关系型数据库\n",
    "\n",
    "from sqlalchemy import create_engine\n",
    "engine = create_engine('sqlite://Northwind.sqlite')\n",
    "\n",
    "# 使用table_names()方法获取一个表名列表\n",
    "table_names = engine.table_names()\n",
    "\n",
    "# 直接查询关系型数据库\n",
    "con = engine.connect()\n",
    "rs = con.execute(\"SELECT * FROM Orders\")\n",
    "df = pd.DataFrame(rs.fetchall())\n",
    "df.columns = rs.keys()\n",
    "con.close()\n",
    "# 使用上下文管理器 -- with\n",
    "with engine.connect() as con:\n",
    "    rs = con.execute(\"SELECT OrderID FROM Orders\")\n",
    "    df = pd.DataFrame(rs.fetchmany(size=5))\n",
    "    df.columns = rs.keys()\n",
    "# 使用Pandas查询关系型数据库\n",
    "df = pd.read_sql_query(\"SELECT * FROM Orders\", engine)"
   ]
  }
 ],
 "metadata": {
  "kernelspec": {
   "display_name": "goodjob",
   "language": "python",
   "name": "python3"
  },
  "language_info": {
   "name": "python",
   "version": "3.9.16"
  },
  "orig_nbformat": 4
 },
 "nbformat": 4,
 "nbformat_minor": 2
}
